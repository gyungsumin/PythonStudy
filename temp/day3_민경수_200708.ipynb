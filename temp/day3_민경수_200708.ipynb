{
 "cells": [
  {
   "cell_type": "code",
   "execution_count": 2,
   "metadata": {},
   "outputs": [
    {
     "name": "stdout",
     "output_type": "stream",
     "text": [
      "pattern A\n",
      "1 \n",
      "1 2 \n",
      "1 2 3 \n",
      "1 2 3 4 \n",
      "1 2 3 4 5 \n",
      "1 2 3 4 5 6 \n"
     ]
    }
   ],
   "source": [
    "print('pattern A')\n",
    "\n",
    "for i in range(1,7):\n",
    "    for j in range(1,i+1):\n",
    "        print(j, end=' ')\n",
    "    print()"
   ]
  },
  {
   "cell_type": "code",
   "execution_count": 3,
   "metadata": {},
   "outputs": [
    {
     "name": "stdout",
     "output_type": "stream",
     "text": [
      "pattern B\n",
      "1 2 3 4 5 6 \n",
      "1 2 3 4 5 \n",
      "1 2 3 4 \n",
      "1 2 3 \n",
      "1 2 \n",
      "1 \n"
     ]
    }
   ],
   "source": [
    "print('pattern B')\n",
    "\n",
    "for i in range(6,0,-1):\n",
    "    for j in range(1,i+1):\n",
    "        print(j, end=' ')\n",
    "    print()"
   ]
  },
  {
   "cell_type": "code",
   "execution_count": 5,
   "metadata": {},
   "outputs": [
    {
     "name": "stdout",
     "output_type": "stream",
     "text": [
      "123\n",
      "456\n",
      "789\n"
     ]
    }
   ],
   "source": [
    "table = [[1,2,3],[4,5,6],[7,8,9]]\n",
    "\n",
    "\n",
    "for row in table:\n",
    "    for cell in row:\n",
    "        print(cell, end='')\n",
    "    print()"
   ]
  },
  {
   "cell_type": "code",
   "execution_count": 14,
   "metadata": {},
   "outputs": [
    {
     "name": "stdout",
     "output_type": "stream",
     "text": [
      "insert integer val:0\n",
      "even: [0]\n",
      "odd:  []\n"
     ]
    }
   ],
   "source": [
    "even = []\n",
    "odd = []\n",
    "\n",
    "value = int(input('insert integer val:'))\n",
    "            \n",
    "if value % 2 == False:\n",
    "    even.append(value)\n",
    "elif value % 2:\n",
    "    odd.append(value)\n",
    "else: pass     # zero\n",
    "\n",
    "print('even:', even)\n",
    "print('odd: ', odd)"
   ]
  },
  {
   "cell_type": "code",
   "execution_count": 16,
   "metadata": {},
   "outputs": [
    {
     "name": "stdout",
     "output_type": "stream",
     "text": [
      "25\n"
     ]
    }
   ],
   "source": [
    "val = 0\n",
    "\n",
    "while True:\n",
    "    \n",
    "    val += 1\n",
    "    val_three = val**3\n",
    "    \n",
    "    if val_three >= 15000:\n",
    "        print(val)\n",
    "        break\n",
    "    else: pass"
   ]
  },
  {
   "cell_type": "code",
   "execution_count": 25,
   "metadata": {},
   "outputs": [
    {
     "name": "stdout",
     "output_type": "stream",
     "text": [
      "insert list:[1, 2, 5, -1, 44, 99, 1001, 102, 199, 100, 200, 0, 130]\n",
      "431\n"
     ]
    }
   ],
   "source": [
    "val = eval(input('insert list:'))\n",
    "\n",
    "a = 0\n",
    "\n",
    "for ele in val:\n",
    "    if ele > 100 and ele < 200:\n",
    "        a += ele\n",
    "    else: pass\n",
    "    \n",
    "print(a)"
   ]
  },
  {
   "cell_type": "code",
   "execution_count": 27,
   "metadata": {},
   "outputs": [
    {
     "name": "stdout",
     "output_type": "stream",
     "text": [
      "insert list:[5, 100, 202, 4, 5, 99, 8, 7]\n",
      "even: [100, 202, 4, 8]\n",
      "odd:  [5, 5, 99, 7]\n"
     ]
    }
   ],
   "source": [
    "value = eval(input('insert list:'))\n",
    "\n",
    "even = []\n",
    "odd = []\n",
    "   \n",
    "\n",
    "for ele in value:\n",
    "    if ele % 2 == False:\n",
    "        even.append(ele)\n",
    "    elif ele % 2:\n",
    "        odd.append(ele)\n",
    "    else: pass     # zero\n",
    "\n",
    "print('even:', even)\n",
    "print('odd: ', odd)"
   ]
  },
  {
   "cell_type": "code",
   "execution_count": 37,
   "metadata": {},
   "outputs": [
    {
     "name": "stdout",
     "output_type": "stream",
     "text": [
      "      1\n",
      "     12\n",
      "    123\n",
      "   1234\n",
      "  12345\n"
     ]
    }
   ],
   "source": [
    "for i in range(1,6):\n",
    "    print(' '* (7-i), end='')\n",
    "    for j in range(1,i+1):\n",
    "        print(j, end='')\n",
    "    print()"
   ]
  },
  {
   "cell_type": "code",
   "execution_count": 42,
   "metadata": {},
   "outputs": [
    {
     "name": "stdout",
     "output_type": "stream",
     "text": [
      "[ kim  kim   ]\n",
      "[ park  sung   ]\n",
      "[ kim   ]\n"
     ]
    }
   ],
   "source": [
    "t = [['kim', 'lee', 'kim'], ['park', 'cho', 'sung'], ['kim', 'cho', 'lee', 'gang']]\n",
    "ex = ['lee', 'cho', 'gang']\n",
    "\n",
    "\n",
    "for i in t:\n",
    "    temp = []\n",
    "    for j in i:\n",
    "        if j in ex:\n",
    "            pass\n",
    "        else: temp.append(j)\n",
    "            \n",
    "    temp_str = ''\n",
    "    for k in temp:\n",
    "        temp_str = temp_str + k + '  '\n",
    "        \n",
    "    temp_str = '[ ' + temp_str + ' ]'\n",
    "    print(temp_str)"
   ]
  },
  {
   "cell_type": "code",
   "execution_count": 52,
   "metadata": {},
   "outputs": [
    {
     "name": "stdout",
     "output_type": "stream",
     "text": [
      "     *     \n",
      "    ***    \n",
      "   *****   \n",
      "  *******  \n",
      " ********* \n"
     ]
    }
   ],
   "source": [
    "N = 10\n",
    "\n",
    "for i in range(1,N,2):\n",
    "    space = N - i - 1\n",
    "    print(' '*(int(space/2)), '*'*i, ' '*int((space/2)))"
   ]
  },
  {
   "cell_type": "code",
   "execution_count": 76,
   "metadata": {},
   "outputs": [
    {
     "name": "stdout",
     "output_type": "stream",
     "text": [
      "list: [99, 2, 100, 30, -1, 0, 1, 22, 35, 77, 12, 20, 30, 45, 20]\n",
      "[-1, 0, 1, 2, 12, 20, 22, 30, 35, 45, 77, 99, 100]\n",
      "\n",
      "[2, 12, 20, 22, 30]\n",
      "[12, 30, 45, 99]\n",
      "[20, 30, 35, 45]\n",
      "[35, 77]\n"
     ]
    }
   ],
   "source": [
    "inp = eval(input('list: '))\n",
    "\n",
    "inp_unq = list(set(inp))\n",
    "inp_unq.sort()\n",
    "print(inp_unq)\n",
    "print()\n",
    "\n",
    "m_2 = []\n",
    "m_5 = []\n",
    "m_3 = []\n",
    "m_7 = []\n",
    "\n",
    "for i in inp_unq:\n",
    "    \n",
    "    if 1 < i < 100:\n",
    "        \n",
    "        if i % 2 == False:\n",
    "            m_2.append(i)\n",
    "        if i % 3 == False:\n",
    "            m_3.append(i)\n",
    "        if i % 5 == False:\n",
    "            m_5.append(i)\n",
    "        if i % 7 == False:\n",
    "            m_7.append(i)\n",
    "    else:continue\n",
    "\n",
    "print(m_2) ; print(m_3) ; print(m_5) ; print(m_7)"
   ]
  },
  {
   "cell_type": "code",
   "execution_count": 91,
   "metadata": {},
   "outputs": [
    {
     "name": "stdout",
     "output_type": "stream",
     "text": [
      "95\n",
      "01\n",
      "23\n",
      "Male\n"
     ]
    }
   ],
   "source": [
    "inp = '950123-1234567'\n",
    "\n",
    "year = inp[:2]\n",
    "mon = inp[2:4]\n",
    "day = inp[4:6]\n",
    "\n",
    "temp = int(inp[7])\n",
    "if temp == 1 or temp == 3:\n",
    "    sex = 'Male'\n",
    "elif temp == 2 or temp == 4:\n",
    "    sex = 'Female'\n",
    "else: sex = 'Unk'\n",
    "    \n",
    "print(year)\n",
    "print(mon)\n",
    "print(day)\n",
    "print(sex)"
   ]
  },
  {
   "cell_type": "code",
   "execution_count": 93,
   "metadata": {},
   "outputs": [
    {
     "data": {
      "text/plain": [
       "'a,b,c,d'"
      ]
     },
     "execution_count": 93,
     "metadata": {},
     "output_type": "execute_result"
    }
   ],
   "source": [
    "s = 'a:b:c:d'\n",
    "s = s.replace(':',',')\n",
    "s"
   ]
  },
  {
   "cell_type": "code",
   "execution_count": 98,
   "metadata": {},
   "outputs": [
    {
     "name": "stdout",
     "output_type": "stream",
     "text": [
      "name:55\n",
      "score:55\n",
      "****홍길동****님은  55.0점을 받았습니다.\n",
      "불합격하였습니다. 5.0점이 부족합니다.\n"
     ]
    }
   ],
   "source": [
    "name = input('name:')\n",
    "score = float(input('score:'))\n",
    "\n",
    "if score < 60:\n",
    "    print('****홍길동****님은  {}점을 받았습니다.'.format(score))\n",
    "    print('불합격하였습니다. {}점이 부족합니다.'.format(60-score))\n",
    "else:\n",
    "    print('****홍길동****님은  {}점을 받았습니다.'.format(score))\n",
    "    print('합격하였습니다.')"
   ]
  },
  {
   "cell_type": "code",
   "execution_count": null,
   "metadata": {},
   "outputs": [],
   "source": []
  }
 ],
 "metadata": {
  "kernelspec": {
   "display_name": "Python 3",
   "language": "python",
   "name": "python3"
  },
  "language_info": {
   "codemirror_mode": {
    "name": "ipython",
    "version": 3
   },
   "file_extension": ".py",
   "mimetype": "text/x-python",
   "name": "python",
   "nbconvert_exporter": "python",
   "pygments_lexer": "ipython3",
   "version": "3.8.5"
  }
 },
 "nbformat": 4,
 "nbformat_minor": 2
}
