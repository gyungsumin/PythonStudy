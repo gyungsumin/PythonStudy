{
 "cells": [
  {
   "cell_type": "code",
   "execution_count": 1,
   "metadata": {},
   "outputs": [],
   "source": [
    "f = open('score.txt', 'w')\n",
    "\n",
    "f.write('75\\n56\\n38\\n98\\n62\\n3\\n81\\n17\\n52\\n43')\n",
    "\n",
    "f.close()"
   ]
  },
  {
   "cell_type": "code",
   "execution_count": 9,
   "metadata": {},
   "outputs": [
    {
     "name": "stdout",
     "output_type": "stream",
     "text": [
      "525\n",
      "52.5\n"
     ]
    }
   ],
   "source": [
    "f = open('score.txt', 'r')\n",
    "\n",
    "score = []\n",
    "\n",
    "for i in f.readlines():\n",
    "    i = int(i)\n",
    "    score.append(i)\n",
    "    \n",
    "f.close()\n",
    "\n",
    "\n",
    "sum_ = sum(score)\n",
    "print(sum_)\n",
    "\n",
    "ave = sum_/len(score)\n",
    "print(ave)\n",
    "\n",
    "\n",
    "v = open('result.txt', 'w')\n",
    "v.write(str(sum_)+'\\n')\n",
    "v.write(str(ave))\n",
    "6\n",
    "v.close()"
   ]
  },
  {
   "cell_type": "code",
   "execution_count": 13,
   "metadata": {},
   "outputs": [],
   "source": [
    "import csv\n",
    "with open('input.csv', 'w', newline='') as a:\n",
    "    b = csv.writer(a, delimiter=',')\n",
    "    b.writerow([75, 56, 38, 98, 62, 3, 81, 17, 52, 43])"
   ]
  },
  {
   "cell_type": "code",
   "execution_count": 14,
   "metadata": {},
   "outputs": [
    {
     "name": "stdout",
     "output_type": "stream",
     "text": [
      "step 1\n",
      "step 2\n",
      "step 4\n",
      "예외 발생!\n",
      "step 5\n",
      "step 6\n"
     ]
    }
   ],
   "source": [
    "print('step 1')\n",
    "\n",
    "\n",
    "try:\n",
    "    print('step 2')\n",
    "    f = open('filename.txt')\n",
    "    print('step 3')\n",
    "except:\n",
    "    print('step 4')\n",
    "    print('예외 발생!')\n",
    "    print('step 5')\n",
    "print('step 6')"
   ]
  },
  {
   "cell_type": "code",
   "execution_count": 15,
   "metadata": {},
   "outputs": [
    {
     "name": "stdout",
     "output_type": "stream",
     "text": [
      "no File\n",
      "1\n"
     ]
    }
   ],
   "source": [
    "try:\n",
    "    \n",
    "    f = open('filename.txt')\n",
    "except FileNotFoundError:    # 해당 애러시에만 except 돌림.\n",
    "    print('no File')\n",
    "    \n",
    "print(1)"
   ]
  },
  {
   "cell_type": "code",
   "execution_count": 17,
   "metadata": {},
   "outputs": [
    {
     "name": "stdout",
     "output_type": "stream",
     "text": [
      "[Errno 2] No such file or directory: 'filename.txt'\n",
      "step 1\n"
     ]
    }
   ],
   "source": [
    "try:\n",
    "    f = open('filename.txt')\n",
    "except FileNotFoundError as fs:\n",
    "    print(fs)\n",
    "print('step 1')\n",
    "# 애러가 발생해도 프로그램이 터지지 않고 진행된다."
   ]
  },
  {
   "cell_type": "code",
   "execution_count": 18,
   "metadata": {},
   "outputs": [
    {
     "ename": "FileNotFoundError",
     "evalue": "[Errno 2] No such file or directory: 'filename.txt'",
     "output_type": "error",
     "traceback": [
      "\u001b[1;31m---------------------------------------------------------------------------\u001b[0m",
      "\u001b[1;31mFileNotFoundError\u001b[0m                         Traceback (most recent call last)",
      "\u001b[1;32m<ipython-input-18-936305714f6e>\u001b[0m in \u001b[0;36m<module>\u001b[1;34m\u001b[0m\n\u001b[1;32m----> 1\u001b[1;33m \u001b[0mf\u001b[0m \u001b[1;33m=\u001b[0m \u001b[0mopen\u001b[0m\u001b[1;33m(\u001b[0m\u001b[1;34m'filename.txt'\u001b[0m\u001b[1;33m)\u001b[0m\u001b[1;33m\u001b[0m\u001b[1;33m\u001b[0m\u001b[0m\n\u001b[0m\u001b[0;32m      2\u001b[0m \u001b[0mprint\u001b[0m\u001b[1;33m(\u001b[0m\u001b[1;34m'step 1'\u001b[0m\u001b[1;33m)\u001b[0m\u001b[1;33m\u001b[0m\u001b[1;33m\u001b[0m\u001b[0m\n",
      "\u001b[1;31mFileNotFoundError\u001b[0m: [Errno 2] No such file or directory: 'filename.txt'"
     ]
    }
   ],
   "source": [
    "f = open('filename.txt')\n",
    "print('step 1')"
   ]
  },
  {
   "cell_type": "code",
   "execution_count": 19,
   "metadata": {},
   "outputs": [
    {
     "name": "stdout",
     "output_type": "stream",
     "text": [
      "3\n"
     ]
    }
   ],
   "source": [
    "result = 0\n",
    "try:\n",
    "    [1, 2, 3][3]\n",
    "    \"a\"+1\n",
    "    4 / 0\n",
    "except TypeError:\n",
    "    result += 1\n",
    "except ZeroDivisionError:\n",
    "    result += 2\n",
    "except IndexError:\n",
    "    result += 3\n",
    "print(result)"
   ]
  },
  {
   "cell_type": "code",
   "execution_count": 38,
   "metadata": {
    "scrolled": true
   },
   "outputs": [
    {
     "name": "stdout",
     "output_type": "stream",
     "text": [
      "10 5\n",
      "10 / 5 = 2.0\n",
      "9 4\n",
      "9 / 4 = 2.25\n",
      "90 10\n",
      "90 / 10 = 9.0\n",
      "4 0\n",
      "두번째 숫자가 0입니다\n",
      "30 6\n",
      "30 / 6 = 5.0\n",
      "100 100\n",
      "100 / 100 = 1.0\n"
     ]
    }
   ],
   "source": [
    "with open('numbers.txt', 'w') as f1:\n",
    "    f1.write('10 5\\n')\n",
    "    f1.write('9 4\\n')\n",
    "    f1.write('90 10\\n')\n",
    "    f1.write('4 0\\n')\n",
    "    f1.write('30 6\\n')\n",
    "    f1.write('100 100\\n')\n",
    "    \n",
    "    \n",
    "try :\n",
    "    with open('numbers.txt', 'r') as f2:\n",
    "        num = []\n",
    "        for i in f2.readlines():\n",
    "            num.append(i)\n",
    "        \n",
    "    num = [i.split(' ') for i in num]\n",
    "    #print(num)\n",
    "    \n",
    "    for n in num:\n",
    "        try:\n",
    "            n1 = int(n[0])\n",
    "            n2 = int(n[1])\n",
    "            print(n1, n2)\n",
    "            print('{} / {} = {}'.format(n1, n2, n1/n2))\n",
    "        except ZeroDivisionError:\n",
    "            print('두번째 숫자가 0입니다')\n",
    "            f2.close()\n",
    "            \n",
    "    \n",
    "except FileNotFoundError:\n",
    "    print('Cannot found file: numbers.txt')"
   ]
  },
  {
   "cell_type": "code",
   "execution_count": null,
   "metadata": {},
   "outputs": [],
   "source": [
    "import csv\n",
    "\n",
    "with open('연안정지123.csv', encoding='utf-sig-8') as f:\n",
    "    reader = csv.reader(f)\n",
    "    #row = next(reader)\n",
    "    \n",
    "    dic = {}\n",
    "    \n",
    "    for row in reader:\n",
    "        \n",
    "        if row[5]:\n",
    "            val = float(roe[5])\n",
    "            \n",
    "        else:\n",
    "            val = None\n",
    "            \n",
    "        if row[1] not in dic:\n",
    "            dic[row[1]] = [val, 1]\n",
    "        \n",
    "        else:\n",
    "            dic[row[1]][0] += val\n",
    "            dic[row[1]][1] += 1"
   ]
  }
 ],
 "metadata": {
  "kernelspec": {
   "display_name": "Python 3",
   "language": "python",
   "name": "python3"
  },
  "language_info": {
   "codemirror_mode": {
    "name": "ipython",
    "version": 3
   },
   "file_extension": ".py",
   "mimetype": "text/x-python",
   "name": "python",
   "nbconvert_exporter": "python",
   "pygments_lexer": "ipython3",
   "version": "3.8.5"
  }
 },
 "nbformat": 4,
 "nbformat_minor": 2
}
