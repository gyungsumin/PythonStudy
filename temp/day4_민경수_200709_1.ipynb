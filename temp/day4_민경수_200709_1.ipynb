{
 "cells": [
  {
   "cell_type": "code",
   "execution_count": 1,
   "metadata": {},
   "outputs": [
    {
     "name": "stdout",
     "output_type": "stream",
     "text": [
      "integer:2\n",
      "False\n"
     ]
    }
   ],
   "source": [
    "x = int(input('integer:'))\n",
    "\n",
    "\n",
    "def odd(x):\n",
    "    \n",
    "    return bool(x%2)\n",
    "\n",
    "print(odd(x))"
   ]
  },
  {
   "cell_type": "code",
   "execution_count": 10,
   "metadata": {},
   "outputs": [
    {
     "name": "stdout",
     "output_type": "stream",
     "text": [
      "정수 m: 4\n",
      "정수 n: 5\n"
     ]
    },
    {
     "data": {
      "text/plain": [
       "0.8"
      ]
     },
     "execution_count": 10,
     "metadata": {},
     "output_type": "execute_result"
    }
   ],
   "source": [
    "def mod(m,n):\n",
    "    \n",
    "    m = eval(input('정수 m: '))\n",
    "    n = eval(input('정수 n: '))\n",
    "\n",
    "    \n",
    "    if type(m) == int and type(n)==int and m > 0 and n > 0:\n",
    "        return m/n\n",
    "    else:\n",
    "        print('매개변수는 모두 양의 정수여야 합니다.')\n",
    "        return None\n",
    "\n",
    "mod(m,n)"
   ]
  },
  {
   "cell_type": "code",
   "execution_count": 21,
   "metadata": {},
   "outputs": [],
   "source": [
    "# 인자에 * 붙이면 입력받은 많은 인자를 튜플로 받음\n",
    "def min_max(*x):\n",
    "    \n",
    "    max_ = max(x)\n",
    "    min_ = min(x)\n",
    "    \n",
    "    answer = (min_, max_)\n",
    "    \n",
    "    return answer\n",
    "\n",
    "min_max(9, -1, 100, 3.2,  -5.2, 0)"
   ]
  },
  {
   "cell_type": "code",
   "execution_count": 113,
   "metadata": {},
   "outputs": [
    {
     "name": "stdout",
     "output_type": "stream",
     "text": [
      "----------------------------------------\n",
      "Fruit Name             Vitamin C Content\n",
      "----------------------------------------\n",
      "citron                 105\n",
      "strawberry             94\n",
      "quince                 81\n",
      "lemon                  70\n",
      "tangerine              39\n",
      "----------------------------------------\n",
      "총 함유량: 389\n",
      "\n",
      "\n",
      "\n",
      "----------------------------------------\n",
      "Fruit Name             Vitamin C Content\n",
      "----------------------------------------\n",
      "orange                 43\n",
      "kiwi                   27\n",
      "cherryTomato           21\n",
      "apple                   4\n",
      "----------------------------------------\n",
      "총 함유량: 95\n"
     ]
    }
   ],
   "source": [
    "# 인자에 * 붙이면 입력받은 많은 인자를 딕셔너리로 받음\n",
    "def vitamin_c(**fruits):\n",
    "\n",
    "    total_C = sum(fruits.values())\n",
    "    \n",
    "    print('-'*40)\n",
    "    print('Fruit Name',' '*11, 'Vitamin C Content')\n",
    "    print('-'*40)\n",
    "    \n",
    "    for i in fruits:\n",
    "       # print(i, ' '*(len('Fruit Name')+len(' '*11)-len(i)), fruits[i]) 별루\n",
    "        print('{:23}{:2}'.format(i, fruits[i]))\n",
    "        \n",
    "    print('-'*40)\n",
    "    \n",
    "    return total_C\n",
    "\n",
    "print('총 함유량:', vitamin_c(citron=105,strawberry=94,quince=81,lemon=70,tangerine=39))\n",
    "print('\\n\\n')\n",
    "print('총 함유량:', vitamin_c(orange=43, kiwi=27, cherryTomato=21, apple=4))\n",
    "# 함수 실행 순서를 생각해봐. vitamin_C()가 '총 함유량'보다 먼저 실행되겠지?\n",
    "# vitamin_C 안의 내용들이 수행된 후, print('총 함유량', total_C) 가 수행됨,"
   ]
  },
  {
   "cell_type": "code",
   "execution_count": 116,
   "metadata": {},
   "outputs": [
    {
     "name": "stdout",
     "output_type": "stream",
     "text": [
      "C:\\Users\\KnoledgeConsulting\\Google 드라이브\\00청년인재\\_class\\0_0000\n",
      "0.5000001943375613\n",
      "19.428571428571427\n",
      "19\n"
     ]
    }
   ],
   "source": [
    "import os, math, statistics\n",
    "\n",
    "print(os.getcwd()) # 현재 작업중인 폴더이름 반환\n",
    "\n",
    "radian = 0.523599\n",
    "print(math.sin(radian))\n",
    "\n",
    "\n",
    "temp = (22, 20, 17, 17, 18, 19, 23)\n",
    "print(statistics.mean(temp))\n",
    "print(statistics.median(temp))"
   ]
  },
  {
   "cell_type": "code",
   "execution_count": 123,
   "metadata": {},
   "outputs": [
    {
     "data": {
      "text/plain": [
       "'\\nfor x in c:\\n    if x not in d:\\n        d[x] =  1\\n    else:\\n        d[x] += 1\\n        \\n# 이게 카운트보다 훨씬 더 효율적.\\n# 제일 효율적인건 set + 위의 코드일듯\\n'"
      ]
     },
     "execution_count": 123,
     "metadata": {},
     "output_type": "execute_result"
    }
   ],
   "source": [
    "inp = 'brontosaurus'\n",
    "\n",
    "inp_set = set(inp)\n",
    "\n",
    "char_dict = dict()\n",
    "\n",
    "for i in inp_set:\n",
    "    \n",
    "    char_dict[i] = inp.count(i)\n",
    "    # count를 쓰면 문자열 길이만큼 카운팅을 실시. 데이터 처리량이 많이지면 매우매우 비효울적임\n",
    "char_dict\n",
    "\n",
    "\n",
    "'''\n",
    "for x in c:\n",
    "    if x not in d:\n",
    "        d[x] =  1\n",
    "    else:\n",
    "        d[x] += 1\n",
    "        \n",
    "# 이게 카운트보다 훨씬 더 효율적.\n",
    "# 제일 효율적인건 set + 위의 코드일듯\n",
    "'''"
   ]
  },
  {
   "cell_type": "code",
   "execution_count": 129,
   "metadata": {},
   "outputs": [
    {
     "name": "stdout",
     "output_type": "stream",
     "text": [
      "o  :  2\n",
      "s  :  2\n",
      "n  :  1\n",
      "u  :  2\n",
      "a  :  1\n",
      "t  :  1\n",
      "b  :  1\n",
      "r  :  2\n"
     ]
    }
   ],
   "source": [
    "def two(char_dict_x):\n",
    "    \n",
    "    for i in char_dict:\n",
    "        print(i, ' : ', char_dict[i])\n",
    "    \n",
    "two(char_dict)"
   ]
  },
  {
   "cell_type": "code",
   "execution_count": 133,
   "metadata": {},
   "outputs": [
    {
     "name": "stdout",
     "output_type": "stream",
     "text": [
      "n\n",
      "a\n",
      "t\n",
      "b\n"
     ]
    }
   ],
   "source": [
    "def three(char_dict_x, N):\n",
    "    \n",
    "    for i in char_dict_x:\n",
    "        if char_dict_x[i] == N:\n",
    "            print(i)\n",
    "        else: pass\n",
    "\n",
    "three(char_dict, 1)"
   ]
  },
  {
   "cell_type": "code",
   "execution_count": 135,
   "metadata": {},
   "outputs": [
    {
     "name": "stdout",
     "output_type": "stream",
     "text": [
      "{'2': 'r', '1': 'b'}\n"
     ]
    }
   ],
   "source": [
    "def four(char_dict_x):\n",
    "    \n",
    "    char_dict_reverse = dict()\n",
    "    \n",
    "    for i in char_dict_x:\n",
    "        char_dict_reverse[str(char_dict_x[i])] = i\n",
    "    \n",
    "    print(char_dict_reverse)\n",
    "    \n",
    "four(char_dict)"
   ]
  },
  {
   "cell_type": "code",
   "execution_count": 138,
   "metadata": {},
   "outputs": [
    {
     "name": "stdout",
     "output_type": "stream",
     "text": [
      "2\n",
      "2\n",
      "1\n",
      "5\n"
     ]
    }
   ],
   "source": [
    "def clip(lo, x, hi):\n",
    "    ans = max(min(x, hi), lo)\n",
    "    \n",
    "    return ans\n",
    "\n",
    "print(clip(1,2,3))\n",
    "print(clip(2,2,3))\n",
    "print(clip(1,2,1))\n",
    "print(clip(5,2,3))"
   ]
  },
  {
   "cell_type": "code",
   "execution_count": 143,
   "metadata": {},
   "outputs": [
    {
     "data": {
      "text/plain": [
       "2.8284271247461903"
      ]
     },
     "execution_count": 143,
     "metadata": {},
     "output_type": "execute_result"
    }
   ],
   "source": [
    "import math\n",
    "\n",
    "def dest(x1, y1, x2, y2):\n",
    "    \n",
    "    return math.sqrt((x1-x2)**2 + (y1-y2)**2)\n",
    "\n",
    "dest(1,2,3,4)"
   ]
  },
  {
   "cell_type": "code",
   "execution_count": 164,
   "metadata": {},
   "outputs": [
    {
     "data": {
      "text/plain": [
       "True"
      ]
     },
     "execution_count": 164,
     "metadata": {},
     "output_type": "execute_result"
    }
   ],
   "source": [
    "def reverse_compare(x):\n",
    "\n",
    "    return str(x) == str(x)[::-1]\n",
    "\n",
    "\n",
    "reverse_compare(12321)"
   ]
  },
  {
   "cell_type": "code",
   "execution_count": null,
   "metadata": {},
   "outputs": [],
   "source": [
    "양의 정수가 다음과 같이 뒤에서 앞으로 읽어도 원 정수와 동일해지는지 여부를 반환하는 함수 작성\n",
    "     rev_int(  1234321 ) ==> True    \n",
    "     rev_int(3) ==>  True      \n",
    "     rev_int(1353) ==>  False\n",
    "\n"
   ]
  }
 ],
 "metadata": {
  "kernelspec": {
   "display_name": "Python 3 (ipykernel)",
   "language": "python",
   "name": "python3"
  },
  "language_info": {
   "codemirror_mode": {
    "name": "ipython",
    "version": 3
   },
   "file_extension": ".py",
   "mimetype": "text/x-python",
   "name": "python",
   "nbconvert_exporter": "python",
   "pygments_lexer": "ipython3",
   "version": "3.9.7"
  }
 },
 "nbformat": 4,
 "nbformat_minor": 2
}
