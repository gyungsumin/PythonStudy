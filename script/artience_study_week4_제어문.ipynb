{
 "cells": [
  {
   "cell_type": "code",
   "execution_count": 3,
   "id": "12abe827",
   "metadata": {},
   "outputs": [
    {
     "name": "stdout",
     "output_type": "stream",
     "text": [
      "제어문 : 코드를 구조화하기\n"
     ]
    }
   ],
   "source": [
    "print(\"제어문 : 코드 구조를 쌓기(고3때 배운 수학 알고리즘단원)\")"
   ]
  },
  {
   "cell_type": "code",
   "execution_count": 2,
   "id": "e564240e",
   "metadata": {},
   "outputs": [
    {
     "name": "stdout",
     "output_type": "stream",
     "text": [
      "파이썬은 프로그램의 구조를 정의하기 위해 \"공백\"을 사용하는 흔치 않은 언어다(라고 한다).\n"
     ]
    }
   ],
   "source": [
    "print(\"파이썬은 프로그램의 구조를 정의하기 위해 \\\"공백\\\"을 사용하는 흔치 않은 언어다(라고 한다).\")"
   ]
  },
  {
   "cell_type": "markdown",
   "id": "461a4be4",
   "metadata": {},
   "source": [
    "#### 0. 비교하기 : if elif else문"
   ]
  },
  {
   "cell_type": "code",
   "execution_count": 6,
   "id": "f28cf96c",
   "metadata": {},
   "outputs": [
    {
     "name": "stdout",
     "output_type": "stream",
     "text": [
      "충분\n"
     ]
    }
   ],
   "source": [
    "# 구조\n",
    "apple = 2\n",
    "\n",
    "if apple >= 2:\n",
    "    print(\"충분\")\n",
    "elif apple >= 1:\n",
    "    print(\"위험\")\n",
    "else:  # apple < 1\n",
    "    print(\"고갈\")"
   ]
  },
  {
   "cell_type": "code",
   "execution_count": 7,
   "id": "ae083321",
   "metadata": {},
   "outputs": [
    {
     "name": "stdout",
     "output_type": "stream",
     "text": [
      "if\n"
     ]
    }
   ],
   "source": [
    "# if...else문의 근본적인 작동 방식을 살펴보자\n",
    "\n",
    "if True:\n",
    "    print(\"if\")\n",
    "elif True:\n",
    "    print(\"elif\")\n",
    "else:  # 위 조건들이 모두 False일 경우\n",
    "    print(\"else\")"
   ]
  },
  {
   "cell_type": "code",
   "execution_count": 9,
   "id": "9a97206b",
   "metadata": {},
   "outputs": [
    {
     "name": "stdout",
     "output_type": "stream",
     "text": [
      "elif1\n"
     ]
    }
   ],
   "source": [
    "# elif는 많이 사용 가능하다\n",
    "\n",
    "if False:\n",
    "    print(\"if\")\n",
    "elif False:\n",
    "    print(\"elif0\")\n",
    "elif True:\n",
    "    print(\"elif1\")\n",
    "elif True:\n",
    "    print(\"elif2\")\n",
    "else:  # 위 조건들이 모두 False일 경우\n",
    "    print(\"else\")"
   ]
  },
  {
   "cell_type": "code",
   "execution_count": 15,
   "id": "8cae93fe",
   "metadata": {},
   "outputs": [
    {
     "name": "stdout",
     "output_type": "stream",
     "text": [
      "This is an apple\n",
      "This is an apple\n"
     ]
    }
   ],
   "source": [
    "# 사용 가능한 조건들 예시\n",
    "\n",
    "## 기본적인 비교연산\n",
    "fruit = \"apple\"\n",
    "if fruit == \"apple\":\n",
    "    print(\"This is an apple\")\n",
    "else:\n",
    "    print(\"This is not an apple\")\n",
    "    \n",
    "if fruit != \"apple\":\n",
    "    print(\"This is not an apple\")\n",
    "else:\n",
    "    print(\"This is an apple\")"
   ]
  },
  {
   "cell_type": "code",
   "execution_count": 20,
   "id": "9e846035",
   "metadata": {},
   "outputs": [
    {
     "name": "stdout",
     "output_type": "stream",
     "text": [
      "I can't eat it\n",
      "I can't eat peach\n"
     ]
    }
   ],
   "source": [
    "## or 연산\n",
    "fruit = \"peach\"\n",
    "\n",
    "if fruit in [\"apple\", \"banana\", \"pear\"]:\n",
    "    print(\"I like it\")\n",
    "elif fruit == \"peach\":\n",
    "    print(\"I can't eat it\")\n",
    "else:\n",
    "    print(\"I don't like it\")\n",
    "    \n",
    "\n",
    "## 응용\n",
    "if fruit in [\"apple\", \"banana\", \"pear\"]:\n",
    "    print(\"I like {}\".format(fruit))\n",
    "elif fruit == \"peach\":\n",
    "    print(\"I can't eat {}\".format(fruit))\n",
    "else:\n",
    "    print(\"I don't like {}\".format(fruit))"
   ]
  },
  {
   "cell_type": "code",
   "execution_count": 26,
   "id": "a7b346ac",
   "metadata": {},
   "outputs": [
    {
     "name": "stdout",
     "output_type": "stream",
     "text": [
      "1\n"
     ]
    }
   ],
   "source": [
    "## 논리연산\n",
    "\n",
    "a = 1\n",
    "b = -1\n",
    "\n",
    "if (a >= 0) and (b >= 0):\n",
    "    print(0)\n",
    "    \n",
    "if (a >= 0) or (b >= 0):\n",
    "    print(1)"
   ]
  },
  {
   "cell_type": "markdown",
   "id": "ba7c70ab",
   "metadata": {},
   "source": [
    "#### 1. 한번 이상 실행하기(루프) : while"
   ]
  },
  {
   "cell_type": "code",
   "execution_count": null,
   "id": "c63d1daa",
   "metadata": {},
   "outputs": [],
   "source": []
  }
 ],
 "metadata": {
  "kernelspec": {
   "display_name": "Python 3 (ipykernel)",
   "language": "python",
   "name": "python3"
  },
  "language_info": {
   "codemirror_mode": {
    "name": "ipython",
    "version": 3
   },
   "file_extension": ".py",
   "mimetype": "text/x-python",
   "name": "python",
   "nbconvert_exporter": "python",
   "pygments_lexer": "ipython3",
   "version": "3.9.7"
  }
 },
 "nbformat": 4,
 "nbformat_minor": 5
}
