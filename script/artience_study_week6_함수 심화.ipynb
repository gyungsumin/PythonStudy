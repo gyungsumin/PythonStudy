{
 "cells": [
  {
   "cell_type": "markdown",
   "id": "c57b9db9",
   "metadata": {},
   "source": [
    "오늘 내용은 필수 아니나, 언젠가는 유용하게 쓰일 것들"
   ]
  },
  {
   "cell_type": "code",
   "execution_count": 3,
   "id": "be1f1678",
   "metadata": {},
   "outputs": [],
   "source": [
    "def sub_two_number(left, right):\n",
    "\n",
    "    result = left - right\n",
    "    \n",
    "    return result"
   ]
  },
  {
   "cell_type": "markdown",
   "id": "c10e89b7",
   "metadata": {},
   "source": [
    "## 0. 함수 매개변수의 종류"
   ]
  },
  {
   "cell_type": "markdown",
   "id": "9a71b0c9",
   "metadata": {},
   "source": [
    "### 0-1. 함수의 매개변수 - 위치 인자"
   ]
  },
  {
   "cell_type": "code",
   "execution_count": 4,
   "id": "81405bc8",
   "metadata": {},
   "outputs": [
    {
     "data": {
      "text/plain": [
       "-1"
      ]
     },
     "execution_count": 4,
     "metadata": {},
     "output_type": "execute_result"
    }
   ],
   "source": [
    "positional_argument = sub_two_number(1, 2)\n",
    "positional_argument"
   ]
  },
  {
   "cell_type": "code",
   "execution_count": 5,
   "id": "10feb68e",
   "metadata": {},
   "outputs": [
    {
     "data": {
      "text/plain": [
       "1"
      ]
     },
     "execution_count": 5,
     "metadata": {},
     "output_type": "execute_result"
    }
   ],
   "source": [
    "positional_argument = sub_two_number(2, 1)\n",
    "positional_argument"
   ]
  },
  {
   "cell_type": "code",
   "execution_count": null,
   "id": "6029d92b",
   "metadata": {},
   "outputs": [],
   "source": [
    "# 싸늘해진다..."
   ]
  },
  {
   "cell_type": "markdown",
   "id": "bb54fc4d",
   "metadata": {},
   "source": [
    "### 0-2. 함수의 매개변수 - 키워드 인자"
   ]
  },
  {
   "cell_type": "code",
   "execution_count": 6,
   "id": "b5a5e5a4",
   "metadata": {},
   "outputs": [
    {
     "data": {
      "text/plain": [
       "-1"
      ]
     },
     "execution_count": 6,
     "metadata": {},
     "output_type": "execute_result"
    }
   ],
   "source": [
    "keyword_argument = sub_two_number(left=1, right=2)\n",
    "keyword_argument"
   ]
  },
  {
   "cell_type": "code",
   "execution_count": 7,
   "id": "1ccd1df3",
   "metadata": {},
   "outputs": [
    {
     "data": {
      "text/plain": [
       "-1"
      ]
     },
     "execution_count": 7,
     "metadata": {},
     "output_type": "execute_result"
    }
   ],
   "source": [
    "keyword_argument = sub_two_number(right=2, left=1, )\n",
    "keyword_argument"
   ]
  },
  {
   "cell_type": "code",
   "execution_count": 8,
   "id": "5baf9c0a",
   "metadata": {},
   "outputs": [],
   "source": [
    "# 편안해진다..."
   ]
  },
  {
   "cell_type": "markdown",
   "id": "3ca6bd03",
   "metadata": {},
   "source": [
    "### 0-3. 위치 인자 개수가 미정인 경우"
   ]
  },
  {
   "cell_type": "code",
   "execution_count": 135,
   "id": "9e715504",
   "metadata": {},
   "outputs": [],
   "source": [
    "def class_score(top, second, *args):  # 애스터리스크(*)를 가변인자로 사용할 때는 변수 명을 보통 args로 한다.\n",
    "    print(\"summa cum laude : {}\".format(top))\n",
    "    print(\"second : {}\".format(second))\n",
    "    print(\"leftover : {}\".format(args))"
   ]
  },
  {
   "cell_type": "code",
   "execution_count": 137,
   "id": "08abb332",
   "metadata": {},
   "outputs": [
    {
     "name": "stdout",
     "output_type": "stream",
     "text": [
      "summa cum laude : 김수석\n",
      "second : 박차석\n",
      "leftover : ('나삼등', '나사등', '나꼴지')\n"
     ]
    }
   ],
   "source": [
    "class_score(\"김수석\", \"박차석\", \"나삼등\", \"나사등\", \"나꼴지\")"
   ]
  },
  {
   "cell_type": "code",
   "execution_count": 138,
   "id": "c9495e68",
   "metadata": {},
   "outputs": [
    {
     "name": "stdout",
     "output_type": "stream",
     "text": [
      "summa cum laude : 김수석\n",
      "second : 박차석\n",
      "leftover : ('나삼등', '나사등', '나오등', '나꼴지')\n"
     ]
    }
   ],
   "source": [
    "class_score(\"김수석\", \"박차석\", \"나삼등\", \"나사등\", \"나오등\", \"나꼴지\")"
   ]
  },
  {
   "cell_type": "markdown",
   "id": "2134886f",
   "metadata": {},
   "source": [
    "### 0-4. 키워드 인자 개수가 미정인 경우"
   ]
  },
  {
   "cell_type": "code",
   "execution_count": 147,
   "id": "b5bd0ca7",
   "metadata": {},
   "outputs": [],
   "source": [
    "def commendation(grand_prize, first_prize, **kwargs):  # 애스터리스크(*) 두개를 가변인자로 사용시 보통 kwargs.\n",
    "    print(\"grand_prize : {}\".format(grand_prize))\n",
    "    print(\"first_prize : {}\".format(first_prize))\n",
    "    \n",
    "    print(type(kwargs))\n",
    "    print(kwargs)"
   ]
  },
  {
   "cell_type": "code",
   "execution_count": 148,
   "id": "1d92bf2c",
   "metadata": {},
   "outputs": [
    {
     "name": "stdout",
     "output_type": "stream",
     "text": [
      "grand_prize : 김수석\n",
      "first_prize : 박차석\n",
      "<class 'dict'>\n",
      "{'second_prize': '나삼등', 'encouragement_prize': '나꼴등'}\n"
     ]
    }
   ],
   "source": [
    "commendation(grand_prize=\"김수석\", first_prize=\"박차석\", second_prize=\"나삼등\", encouragement_prize=\"나꼴등\")"
   ]
  },
  {
   "cell_type": "code",
   "execution_count": 151,
   "id": "7e298459",
   "metadata": {},
   "outputs": [],
   "source": [
    "def commendation(grand_prize, first_prize, **kwargs):\n",
    "    print(\"grand_prize : {}\".format(grand_prize))\n",
    "    print(\"first_prize : {}\".format(first_prize))\n",
    "    \n",
    "    for i in kwargs.keys():\n",
    "        prize = i\n",
    "        name = kwargs[i]\n",
    "        \n",
    "        print(\"{} : {}\".format(prize, name))"
   ]
  },
  {
   "cell_type": "code",
   "execution_count": 152,
   "id": "b791c7e6",
   "metadata": {},
   "outputs": [
    {
     "name": "stdout",
     "output_type": "stream",
     "text": [
      "grand_prize : 김수석\n",
      "first_prize : 박차석\n",
      "second_prize : 나삼등\n",
      "encouragement_prize : 나꼴등\n"
     ]
    }
   ],
   "source": [
    "commendation(grand_prize=\"김수석\", first_prize=\"박차석\", second_prize=\"나삼등\", encouragement_prize=\"나꼴등\")"
   ]
  },
  {
   "cell_type": "markdown",
   "id": "d426c8e1",
   "metadata": {},
   "source": [
    "## 2. 매개변수의 기본값 지정하기"
   ]
  },
  {
   "cell_type": "code",
   "execution_count": 9,
   "id": "0160a04f",
   "metadata": {},
   "outputs": [],
   "source": [
    "import random"
   ]
  },
  {
   "cell_type": "code",
   "execution_count": 24,
   "id": "4d4250c6",
   "metadata": {},
   "outputs": [
    {
     "data": {
      "text/plain": [
       "0.2951768863834191"
      ]
     },
     "execution_count": 24,
     "metadata": {},
     "output_type": "execute_result"
    }
   ],
   "source": [
    "# 0 ~ 1 사이 실수를 무작위 추출\n",
    "random.random()"
   ]
  },
  {
   "cell_type": "code",
   "execution_count": 33,
   "id": "792c70d8",
   "metadata": {},
   "outputs": [],
   "source": [
    "# 기본값 없음\n",
    "def lottery(user_name):\n",
    "    \n",
    "    probability = random.random()\n",
    "\n",
    "    if probability >= 0.9:\n",
    "        result = \"Gold ball\"\n",
    "    elif probability >= 0.8:\n",
    "        result = \"Silver ball\"\n",
    "    elif probability >= 0.5:\n",
    "        result = \"Bronze ball\"\n",
    "    else:\n",
    "        result = \"Nothing\"\n",
    "    \n",
    "    print(\"{}님의 추첨 결과는 {}입니다.\".format(user_name, result))"
   ]
  },
  {
   "cell_type": "code",
   "execution_count": 112,
   "id": "5ee5ea64",
   "metadata": {},
   "outputs": [
    {
     "name": "stdout",
     "output_type": "stream",
     "text": [
      "민경수님의 추첨 결과는 Gold ball입니다.\n"
     ]
    }
   ],
   "source": [
    "lottery(\"민경수\")"
   ]
  },
  {
   "cell_type": "code",
   "execution_count": 113,
   "id": "3e6d4936",
   "metadata": {},
   "outputs": [
    {
     "ename": "TypeError",
     "evalue": "lottery() missing 1 required positional argument: 'user_name'",
     "output_type": "error",
     "traceback": [
      "\u001b[1;31m---------------------------------------------------------------------------\u001b[0m",
      "\u001b[1;31mTypeError\u001b[0m                                 Traceback (most recent call last)",
      "\u001b[1;32m<ipython-input-113-e29a9a19f64e>\u001b[0m in \u001b[0;36m<module>\u001b[1;34m\u001b[0m\n\u001b[1;32m----> 1\u001b[1;33m \u001b[0mlottery\u001b[0m\u001b[1;33m(\u001b[0m\u001b[1;33m)\u001b[0m\u001b[1;33m\u001b[0m\u001b[1;33m\u001b[0m\u001b[0m\n\u001b[0m",
      "\u001b[1;31mTypeError\u001b[0m: lottery() missing 1 required positional argument: 'user_name'"
     ]
    }
   ],
   "source": [
    "lottery()"
   ]
  },
  {
   "cell_type": "code",
   "execution_count": 114,
   "id": "ece8beda",
   "metadata": {},
   "outputs": [],
   "source": [
    "# 기본값 부여\n",
    "def lottery(user_name=\"User\"):\n",
    "    \n",
    "    probability = random.random()\n",
    "\n",
    "    if probability >= 0.9:\n",
    "        result = \"Gold ball\"\n",
    "    elif probability >= 0.8:\n",
    "        result = \"Silver ball\"\n",
    "    elif probability >= 0.5:\n",
    "        result = \"Bronze ball\"\n",
    "    else:\n",
    "        result = \"Nothing\"\n",
    "    \n",
    "    print(\"{}님의 추첨 결과는 {}입니다.\".format(user_name, result))"
   ]
  },
  {
   "cell_type": "code",
   "execution_count": 117,
   "id": "5c831a79",
   "metadata": {},
   "outputs": [
    {
     "name": "stdout",
     "output_type": "stream",
     "text": [
      "User님의 추첨 결과는 Nothing입니다.\n"
     ]
    }
   ],
   "source": [
    "lottery()"
   ]
  },
  {
   "cell_type": "code",
   "execution_count": 116,
   "id": "3e77ba08",
   "metadata": {},
   "outputs": [
    {
     "name": "stdout",
     "output_type": "stream",
     "text": [
      "민경수님의 추첨 결과는 Gold ball입니다.\n"
     ]
    }
   ],
   "source": [
    "lottery(\"민경수\")"
   ]
  },
  {
   "cell_type": "markdown",
   "id": "8d4727a4",
   "metadata": {},
   "source": [
    "## 3. 지금까지 그냥 썼는데 알고보니 함수였다? 함수의 종류 간단"
   ]
  },
  {
   "cell_type": "code",
   "execution_count": 153,
   "id": "f3bd2d2f",
   "metadata": {},
   "outputs": [],
   "source": [
    "# 사용자 정의 함수\n",
    "def myfunction():\n",
    "    \n",
    "    result = 1 + 1\n",
    "    \n",
    "    return result"
   ]
  },
  {
   "cell_type": "code",
   "execution_count": 155,
   "id": "b42633c8",
   "metadata": {},
   "outputs": [
    {
     "name": "stdout",
     "output_type": "stream",
     "text": [
      "\n",
      "Here is a list of the Python keywords.  Enter any keyword to get more help.\n",
      "\n",
      "False               class               from                or\n",
      "None                continue            global              pass\n",
      "True                def                 if                  raise\n",
      "and                 del                 import              return\n",
      "as                  elif                in                  try\n",
      "assert              else                is                  while\n",
      "async               except              lambda              with\n",
      "await               finally             nonlocal            yield\n",
      "break               for                 not                 \n",
      "\n"
     ]
    }
   ],
   "source": [
    "# 내장(빌트인)함수 : import없이 바로 사용 가능한 함수들\n",
    "help('keywords')"
   ]
  },
  {
   "cell_type": "code",
   "execution_count": 166,
   "id": "39ab2c2e",
   "metadata": {},
   "outputs": [
    {
     "data": {
      "text/plain": [
       "3"
      ]
     },
     "execution_count": 166,
     "metadata": {},
     "output_type": "execute_result"
    }
   ],
   "source": [
    "max(1, 2, 3)"
   ]
  },
  {
   "cell_type": "code",
   "execution_count": null,
   "id": "01161f0f",
   "metadata": {},
   "outputs": [],
   "source": [
    "print(1)"
   ]
  },
  {
   "cell_type": "code",
   "execution_count": 167,
   "id": "9473a485",
   "metadata": {},
   "outputs": [
    {
     "data": {
      "text/plain": [
       "5.0"
      ]
     },
     "execution_count": 167,
     "metadata": {},
     "output_type": "execute_result"
    }
   ],
   "source": [
    "float(5)"
   ]
  },
  {
   "cell_type": "code",
   "execution_count": 168,
   "id": "4434dbc3",
   "metadata": {},
   "outputs": [
    {
     "name": "stdout",
     "output_type": "stream",
     "text": [
      "yes\n"
     ]
    }
   ],
   "source": [
    "if 1 == 1:\n",
    "    print(\"yes\")"
   ]
  },
  {
   "cell_type": "code",
   "execution_count": 163,
   "id": "8c0a8fbd",
   "metadata": {},
   "outputs": [
    {
     "data": {
      "text/plain": [
       "True"
      ]
     },
     "execution_count": 163,
     "metadata": {},
     "output_type": "execute_result"
    }
   ],
   "source": [
    "\"print\" in dir(__builtins__)"
   ]
  },
  {
   "cell_type": "code",
   "execution_count": 159,
   "id": "fba27c58",
   "metadata": {},
   "outputs": [
    {
     "data": {
      "text/plain": [
       "BrokenPipeError"
      ]
     },
     "execution_count": 159,
     "metadata": {},
     "output_type": "execute_result"
    }
   ],
   "source": [
    "# 외장함수"
   ]
  },
  {
   "cell_type": "code",
   "execution_count": null,
   "id": "a7e982aa",
   "metadata": {},
   "outputs": [],
   "source": [
    "# 외장 함수"
   ]
  },
  {
   "cell_type": "code",
   "execution_count": null,
   "id": "05e4dfac",
   "metadata": {},
   "outputs": [],
   "source": [
    "\n",
    "함수의 종류\n",
    "- 내장함수 외장함수 사용자정의함수\n",
    "\n",
    "\n",
    "빌트인(내장) 함수\n",
    "외장함수\n",
    "-> 변수 = 함수(인자)\n",
    "\n",
    "\n",
    "메서드 - 클래스 내부의 함수\n",
    "클래스가 뭔지는 나중에. 필요 변수 + 관련 함수들 모아놓은게 클래스라고 생각하면 댐.\n",
    "리스트.append\n",
    "스트링.split\n",
    "모두 메서드임."
   ]
  },
  {
   "cell_type": "code",
   "execution_count": null,
   "id": "b79275bd",
   "metadata": {},
   "outputs": [],
   "source": [
    "p.141 ~ 148: 나혼자 업로드 + docstring\n",
    "week7 : 148 try except raise(예외 만들기)\n",
    "week8 : 전체 복습\n",
    "week9, 10 : 휴식. 이후부터는 application\n",
    "p. 153 ~ 170, 171 ~ 196 나혼자 업로드\n",
    "week10 : 197 ~ 219에서 정규표현식 위주로\n",
    "week11 : 231 ~ 285중 선별(파일 입출력)\n",
    "p. 287 ~ 끝: 나혼자 업로드\n",
    "week12 : pandas\n",
    "week13 : pandas\n",
    "week14 : panas\n",
    "fin"
   ]
  }
 ],
 "metadata": {
  "kernelspec": {
   "display_name": "Python 3 (ipykernel)",
   "language": "python",
   "name": "python3"
  },
  "language_info": {
   "codemirror_mode": {
    "name": "ipython",
    "version": 3
   },
   "file_extension": ".py",
   "mimetype": "text/x-python",
   "name": "python",
   "nbconvert_exporter": "python",
   "pygments_lexer": "ipython3",
   "version": "3.9.7"
  }
 },
 "nbformat": 4,
 "nbformat_minor": 5
}
