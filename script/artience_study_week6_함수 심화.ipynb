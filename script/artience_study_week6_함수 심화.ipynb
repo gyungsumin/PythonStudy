{
 "cells": [
  {
   "cell_type": "code",
   "execution_count": null,
   "id": "fb052988",
   "metadata": {},
   "outputs": [],
   "source": [
    "# 1. 함수 매개변수의 종류\n",
    "# 1-1. 위치 인자\n",
    "# 1-2. 키워드 인자\n",
    "# 1-3. 기본 인자\n",
    "\n",
    "# 2. docstring\n",
    "\n",
    "# 3. 지금까지 그냥 썼었는데 알고보니 함수였다?"
   ]
  },
  {
   "cell_type": "code",
   "execution_count": null,
   "id": "f2f86bab",
   "metadata": {},
   "outputs": [],
   "source": [
    "p.141 ~ 148: 나혼자 업로드\n",
    "week7 : 148 try except raise(예외 만들기)\n",
    "week8 : 전체 복습\n",
    "week9, 10 : 휴식. 이후부터는 application\n",
    "p. 153 ~ 170, 171 ~ 196 나혼자 업로드\n",
    "week10 : 197 ~ 219에서 정규표현식 위주로\n",
    "week11 : 231 ~ 285중 선별(파일 입출력)\n",
    "p. 287 ~ 끝: 나혼자 업로드\n",
    "week12 : pandas\n",
    "week13 : pandas\n",
    "week14 : panas\n",
    "fin"
   ]
  }
 ],
 "metadata": {
  "kernelspec": {
   "display_name": "Python 3 (ipykernel)",
   "language": "python",
   "name": "python3"
  },
  "language_info": {
   "codemirror_mode": {
    "name": "ipython",
    "version": 3
   },
   "file_extension": ".py",
   "mimetype": "text/x-python",
   "name": "python",
   "nbconvert_exporter": "python",
   "pygments_lexer": "ipython3",
   "version": "3.9.7"
  }
 },
 "nbformat": 4,
 "nbformat_minor": 5
}
