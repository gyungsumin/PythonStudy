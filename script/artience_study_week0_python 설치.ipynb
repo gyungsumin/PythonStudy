{
 "cells": [
  {
   "cell_type": "markdown",
   "metadata": {
    "slideshow": {
     "slide_type": "slide"
    }
   },
   "source": [
    "<h1>파이썬이란?</h1>\n",
    "<h3>c언어를 기본으로 한 오픈소스 프로그래밍 언어</h3><br>\n",
    "<body><font color=red><b>c언어</b></font> : Low-level programming language - 사람보다 컴퓨터에 친화적<br><br>\n",
    "<font color=red><b>오픈소스</b></font> : 공짜임<br><br>\n",
    "<font color=red><b>프로그래밍 언어</b></font> : 컴퓨터에게 명령을 내릴 수 있는 수단 중 하나(like 키보드와 마우스)</body>\n",
    "\n",
    "<table><tr>\n",
    "<td> <img src=\"Nordic_trails.jpg\" alt=\"Drawing\" style=\"width: 250px;\"/> </td>\n",
    "<td> <img src=\"Nordic_trails.jpg\" alt=\"Drawing\" style=\"width: 250px;\"/> </td>\n",
    "</tr></table>"
   ]
  },
  {
   "cell_type": "code",
   "execution_count": 1,
   "metadata": {},
   "outputs": [
    {
     "ename": "SyntaxError",
     "evalue": "invalid syntax (<ipython-input-1-2bb109910024>, line 1)",
     "output_type": "error",
     "traceback": [
      "\u001b[1;36m  File \u001b[1;32m\"<ipython-input-1-2bb109910024>\"\u001b[1;36m, line \u001b[1;32m1\u001b[0m\n\u001b[1;33m    클스마스 + 몬티 -> 파이썬\u001b[0m\n\u001b[1;37m              ^\u001b[0m\n\u001b[1;31mSyntaxError\u001b[0m\u001b[1;31m:\u001b[0m invalid syntax\n"
     ]
    }
   ],
   "source": [
    "클스마스 + 몬티파이썬 -> 파이썬"
   ]
  },
  {
   "cell_type": "markdown",
   "metadata": {
    "slideshow": {
     "slide_type": "slide"
    }
   },
   "source": [
    "<h1>그래서 좀 더 쉽게 파이썬이란?</h1>\n",
    "<h3>컴퓨터에게 이것 저것 시킬 수 있는 (상대적으로) 쉬운 언어</h3><br>"
   ]
  },
  {
   "cell_type": "code",
   "execution_count": null,
   "metadata": {},
   "outputs": [],
   "source": [
    "파이썬 : 영어같은 컴퓨터의 언어\n",
    "IDE : 메모장 or word\n"
   ]
  },
  {
   "cell_type": "markdown",
   "metadata": {
    "slideshow": {
     "slide_type": "slide"
    }
   },
   "source": [
    "<h1>파이썬이란?</h1>\n",
    "<h3>c언어를 기본으로 한 오픈소스 프로그래밍 언어</h3><br>\n",
    "<body><font color=red><b>c언어</b></font> : Low-level programming language - 사람보다 컴퓨터에 친화적<br><br>\n",
    "<font color=red><b>오픈소스</b></font> : 공짜임<br><br>\n",
    "<font color=red><b>프로그래밍 언어</b></font> : 컴퓨터에게 명령을 내릴 수 있는 수단 중 하나(like 키보드와 마우스)</body>"
   ]
  },
  {
   "cell_type": "markdown",
   "metadata": {
    "slideshow": {
     "slide_type": "slide"
    }
   },
   "source": [
    "<table><tr>\n",
    "<td> <img src=\"Nordic_trails.jpg\" alt=\"Drawing\" style=\"width: 250px;\"/> </td>\n",
    "<td> <img src=\"Nordic_trails.jpg\" alt=\"Drawing\" style=\"width: 250px;\"/> </td>\n",
    "</tr></table>"
   ]
  }
 ],
 "metadata": {
  "celltoolbar": "Slideshow",
  "kernelspec": {
   "display_name": "Python 3",
   "language": "python",
   "name": "python3"
  },
  "language_info": {
   "codemirror_mode": {
    "name": "ipython",
    "version": 3
   },
   "file_extension": ".py",
   "mimetype": "text/x-python",
   "name": "python",
   "nbconvert_exporter": "python",
   "pygments_lexer": "ipython3",
   "version": "3.8.5"
  }
 },
 "nbformat": 4,
 "nbformat_minor": 4
}
