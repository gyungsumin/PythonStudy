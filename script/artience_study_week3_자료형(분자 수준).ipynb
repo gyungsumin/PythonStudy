{
 "cells": [
  {
   "cell_type": "code",
   "execution_count": 1,
   "metadata": {},
   "outputs": [
    {
     "name": "stdout",
     "output_type": "stream",
     "text": [
      "앞으로 내용이 살~짝 난해해질 예정\n"
     ]
    }
   ],
   "source": [
    "print(\"앞으로 내용이 살~짝 난해해질 예정\")"
   ]
  },
  {
   "cell_type": "markdown",
   "metadata": {},
   "source": [
    "#### 0. 리스트(list)"
   ]
  },
  {
   "cell_type": "code",
   "execution_count": 4,
   "metadata": {},
   "outputs": [
    {
     "name": "stdout",
     "output_type": "stream",
     "text": [
      "<class 'list'>\n",
      "['Mon', 'Tue', 'Wed', 'Thu', 'Fri', 'Sat', 'Sun']\n"
     ]
    }
   ],
   "source": [
    "# 리스트가 필요한 이유: 묶어서 관리하면 편한 경우.\n",
    "day_of_the_week = [\"Mon\", \"Tue\", \"Wed\", \"Thu\", \"Fri\", \"Sat\", \"Sun\"]\n",
    "\n",
    "print(type(day_of_the_week))\n",
    "print(day_of_the_week)"
   ]
  },
  {
   "cell_type": "code",
   "execution_count": 7,
   "metadata": {},
   "outputs": [
    {
     "name": "stdout",
     "output_type": "stream",
     "text": [
      "[0, 1, 2, 3]\n",
      "[0, '가', True, [0, 1, 2, 3]]\n"
     ]
    }
   ],
   "source": [
    "# 리스트는 \"모든 것\"의 묶음이다\n",
    "list_ = [0, 1, 2, 3]\n",
    "print(list_)\n",
    "\n",
    "list_ = [0, \"가\", True, [0, 1, 2, 3]]\n",
    "print(list_)"
   ]
  },
  {
   "cell_type": "code",
   "execution_count": 15,
   "metadata": {},
   "outputs": [
    {
     "name": "stdout",
     "output_type": "stream",
     "text": [
      "0\n",
      "가\n",
      "[0, 1, 2, 3]\n",
      "True\n",
      "[0, '가']\n",
      "['가', True, [0, 1, 2, 3]]\n",
      "[0, '가']\n",
      "['change', '가', True, [0, 1, 2, 3]]\n"
     ]
    }
   ],
   "source": [
    "# 분자 수준 자료형에서의 핵심 개념 : 오프셋(offset)\n",
    "# 오프셋 : 컴퓨터에서 어떤 주소로부터 간격이 있는 주소와의 거리로, 하나의 시작 주소로부터 오프셋만큼 떨어진 위치를 나타내는 것.\n",
    "# 쉽게 말해 상대적인 순서임\n",
    "\n",
    "# Indexing\n",
    "# 파이썬 오프셋은 0부터 시작한다\n",
    "print(list_[0])\n",
    "print(list_[1])\n",
    "print(list_[-1])\n",
    "print(list_[-2])\n",
    "\n",
    "# slicing\n",
    "# slicing은 마지막 오프셋 인자는 포함하지 않는다\n",
    "print(list_[0:2])\n",
    "print(list_[1:])\n",
    "print(list_[:2])\n",
    "\n",
    "# 오프셋으로 값 바꿔주기\n",
    "list_[0] = \"change\"\n",
    "print(list_)"
   ]
  },
  {
   "cell_type": "markdown",
   "metadata": {},
   "source": [
    "##### 0-1. 리스트 관련 함수들"
   ]
  },
  {
   "cell_type": "code",
   "execution_count": 30,
   "metadata": {},
   "outputs": [
    {
     "name": "stdout",
     "output_type": "stream",
     "text": [
      "[0, 0, 1]\n",
      "[0, 2, 0, 1]\n"
     ]
    }
   ],
   "source": [
    "# 리스트 끝에 항목 추가\n",
    "list_ = [0, 0]\n",
    "list_.append(1)\n",
    "\n",
    "print(list_)\n",
    "\n",
    "\n",
    "# 항목 추가 위치 정해서 추가하기\n",
    "list_.insert(1, 2)\n",
    "print(list_)"
   ]
  },
  {
   "cell_type": "code",
   "execution_count": 32,
   "metadata": {
    "collapsed": true
   },
   "outputs": [
    {
     "name": "stdout",
     "output_type": "stream",
     "text": [
      "['b']\n"
     ]
    },
    {
     "ename": "NameError",
     "evalue": "name 'list_' is not defined",
     "output_type": "error",
     "traceback": [
      "\u001b[1;31m---------------------------------------------------------------------------\u001b[0m",
      "\u001b[1;31mNameError\u001b[0m                                 Traceback (most recent call last)",
      "\u001b[1;32m<ipython-input-32-b08fb9f50c6c>\u001b[0m in \u001b[0;36m<module>\u001b[1;34m\u001b[0m\n\u001b[0;32m      6\u001b[0m \u001b[1;33m\u001b[0m\u001b[0m\n\u001b[0;32m      7\u001b[0m \u001b[1;32mdel\u001b[0m \u001b[0mlist_\u001b[0m\u001b[1;33m\u001b[0m\u001b[1;33m\u001b[0m\u001b[0m\n\u001b[1;32m----> 8\u001b[1;33m \u001b[0mprint\u001b[0m\u001b[1;33m(\u001b[0m\u001b[0mlist_\u001b[0m\u001b[1;33m)\u001b[0m\u001b[1;33m\u001b[0m\u001b[1;33m\u001b[0m\u001b[0m\n\u001b[0m",
      "\u001b[1;31mNameError\u001b[0m: name 'list_' is not defined"
     ]
    }
   ],
   "source": [
    "# 리스트 삭제하기 (오프셋으로)\n",
    "list_ = [\"a\", \"b\"]\n",
    "del list_[0]\n",
    "\n",
    "print(list_)\n",
    "\n",
    "del list_\n",
    "print(list_)"
   ]
  },
  {
   "cell_type": "code",
   "execution_count": 33,
   "metadata": {},
   "outputs": [
    {
     "name": "stdout",
     "output_type": "stream",
     "text": [
      "['b']\n"
     ]
    }
   ],
   "source": [
    "# 리스트 삭제하기 (값으로)\n",
    "list_ = [\"a\", \"b\"]\n",
    "\n",
    "list_.remove(\"a\")\n",
    "\n",
    "print(list_)"
   ]
  },
  {
   "cell_type": "code",
   "execution_count": 27,
   "metadata": {},
   "outputs": [
    {
     "data": {
      "text/plain": [
       "[0, 0, 1, 1]"
      ]
     },
     "execution_count": 27,
     "metadata": {},
     "output_type": "execute_result"
    }
   ],
   "source": [
    "# 두개 이상의 리스트 합치기\n",
    "list_0 = [0, 0]\n",
    "list_1 = [1,1]\n",
    "\n",
    "list_2 = list_0 + list_1\n",
    "\n",
    "list_2"
   ]
  },
  {
   "cell_type": "code",
   "execution_count": 34,
   "metadata": {},
   "outputs": [
    {
     "data": {
      "text/plain": [
       "4"
      ]
     },
     "execution_count": 34,
     "metadata": {},
     "output_type": "execute_result"
    }
   ],
   "source": [
    "# 리스트 길이\n",
    "len(list_2)"
   ]
  },
  {
   "cell_type": "markdown",
   "metadata": {},
   "source": [
    "#### 1. 튜플(tuple)"
   ]
  },
  {
   "cell_type": "code",
   "execution_count": 12,
   "metadata": {},
   "outputs": [
    {
     "name": "stdout",
     "output_type": "stream",
     "text": [
      "(0, 1, 2, 3)\n",
      "[0, '가', True, [0, 1, 2, 3]]\n",
      "<class 'tuple'>\n"
     ]
    }
   ],
   "source": [
    "## 값을 바꿀 수 없는 리스트.\n",
    "## 값이 절대 바뀌면 안되는 경우 많이 사용, 그리고 리스트보다 메모리 효율성이 좋다\n",
    "tuple_ = (0, 1, 2, 3)\n",
    "print(tuple_)\n",
    "\n",
    "tuple_ = [0, \"가\", True, [0, 1, 2, 3]]\n",
    "print(tuple_)\n",
    "\n",
    "tuple_ = 0, 1, 2, 3\n",
    "print(type(tuple_))"
   ]
  },
  {
   "cell_type": "code",
   "execution_count": 13,
   "metadata": {},
   "outputs": [
    {
     "name": "stdout",
     "output_type": "stream",
     "text": [
      "<class 'tuple'>\n",
      "('Mon', 'Tue', 'Wed', 'Thu', 'Fri', 'Sat', 'Sun')\n"
     ]
    }
   ],
   "source": [
    "day_of_the_week = (\"Mon\", \"Tue\", \"Wed\", \"Thu\", \"Fri\", \"Sat\", \"Sun\")\n",
    "\n",
    "print(type(day_of_the_week))\n",
    "print(day_of_the_week)"
   ]
  },
  {
   "cell_type": "code",
   "execution_count": 17,
   "metadata": {},
   "outputs": [
    {
     "name": "stdout",
     "output_type": "stream",
     "text": [
      "change\n",
      "Tue\n",
      "Sun\n",
      "Sat\n",
      "['change', 'Tue']\n",
      "['Tue', 'Wed', 'Thu', 'Fri', 'Sat', 'Sun']\n",
      "['change', 'Tue']\n",
      "['change', 'Tue', 'Wed', 'Thu', 'Fri', 'Sat', 'Sun']\n"
     ]
    }
   ],
   "source": [
    "# 튜플은 리스트처럼 오프셋 사용 가능하다\n",
    "\n",
    "# Indexing\n",
    "print(day_of_the_week[0])\n",
    "print(day_of_the_week[1])\n",
    "print(day_of_the_week[-1])\n",
    "print(day_of_the_week[-2])\n",
    "\n",
    "# slicing\n",
    "# slicing은 마지막 오프셋 인자는 포함하지 않는다\n",
    "print(day_of_the_week[0:2])\n",
    "print(day_of_the_week[1:])\n",
    "print(day_of_the_week[:2])\n",
    "\n",
    "# 오프셋으로 값 바꿔주기\n",
    "day_of_the_week[0] = \"change\"\n",
    "print(day_of_the_week)"
   ]
  },
  {
   "cell_type": "markdown",
   "metadata": {},
   "source": [
    "#### 2. 셋(set)"
   ]
  },
  {
   "cell_type": "code",
   "execution_count": 75,
   "metadata": {},
   "outputs": [
    {
     "name": "stdout",
     "output_type": "stream",
     "text": [
      "<class 'set'>\n",
      "{'Sun', 'Tue', 'Thu', 'Mon', 'Wed', 'Sat', 'Fri'}\n"
     ]
    }
   ],
   "source": [
    "# set: 고유한 값들만 존재해야 할 경우\n",
    "# 집합으로 봐도 무방함\n",
    "day_of_the_week = set((\"Mon\", \"Tue\", \"Wed\", \"Thu\", \"Fri\", \"Sat\", \"Sun\"))\n",
    "\n",
    "\n",
    "print(type(day_of_the_week))\n",
    "print(day_of_the_week)"
   ]
  },
  {
   "cell_type": "code",
   "execution_count": 77,
   "metadata": {},
   "outputs": [
    {
     "name": "stdout",
     "output_type": "stream",
     "text": [
      "<class 'set'>\n",
      "<class 'dict'>\n"
     ]
    }
   ],
   "source": [
    "# 여기서잠깐. set은 아래처럼도 생성 가능하다.\n",
    "test = {1, 2, 3}\n",
    "print(type(test))\n",
    "\n",
    "# 그런데 왜 위에서는 set(1, 2, 3) 이렇게 생성했을까?\n",
    "# 이유는 다음과 같다. 빈 {}를 사용하면 set이 아닌 dict가 생성된다.\n",
    "# 이유 : dict가 set보다 먼저 만들어짐.\n",
    "# 고로, 만약 헷갈리면 set은 위처럼 set(1, 2, 3) 이렇게 쓰자\n",
    "test = {}\n",
    "print(type(test))"
   ]
  },
  {
   "cell_type": "code",
   "execution_count": 78,
   "metadata": {},
   "outputs": [
    {
     "name": "stdout",
     "output_type": "stream",
     "text": [
      "{0, 1}\n"
     ]
    }
   ],
   "source": [
    "# set은 고유값이다\n",
    "set_ = set([0, 0, 1])\n",
    "print(set_)"
   ]
  },
  {
   "cell_type": "code",
   "execution_count": 79,
   "metadata": {},
   "outputs": [
    {
     "ename": "TypeError",
     "evalue": "'set' object is not subscriptable",
     "output_type": "error",
     "traceback": [
      "\u001b[1;31m---------------------------------------------------------------------------\u001b[0m",
      "\u001b[1;31mTypeError\u001b[0m                                 Traceback (most recent call last)",
      "\u001b[1;32m<ipython-input-79-1416bebff8dd>\u001b[0m in \u001b[0;36m<module>\u001b[1;34m\u001b[0m\n\u001b[0;32m      1\u001b[0m \u001b[1;31m# set은 순서가 없는 집합이기 때문에, 오프셋으로 인덱싱이나 슬라이싱이 불가능하다\u001b[0m\u001b[1;33m\u001b[0m\u001b[1;33m\u001b[0m\u001b[1;33m\u001b[0m\u001b[0m\n\u001b[1;32m----> 2\u001b[1;33m \u001b[0mset_\u001b[0m\u001b[1;33m[\u001b[0m\u001b[1;36m0\u001b[0m\u001b[1;33m]\u001b[0m\u001b[1;33m\u001b[0m\u001b[1;33m\u001b[0m\u001b[0m\n\u001b[0m",
      "\u001b[1;31mTypeError\u001b[0m: 'set' object is not subscriptable"
     ]
    }
   ],
   "source": [
    "# set은 순서가 없는 집합이기 때문에, 오프셋으로 인덱싱이나 슬라이싱이 불가능하다\n",
    "set_[0]"
   ]
  },
  {
   "cell_type": "code",
   "execution_count": 89,
   "metadata": {},
   "outputs": [
    {
     "name": "stdout",
     "output_type": "stream",
     "text": [
      "{'Sun', 'Tue', 'Thu', 'Mon', 'Wed', 'Sat', 'Fri'}\n",
      "7\n",
      "{'하하', '유재석'}\n",
      "{'정준하', '박명수', '김종국', '이광수', '하하', '노홍철', '유재석', '송지효'}\n",
      "{'박명수', '정준하', '노홍철'}\n",
      "{'박명수', '정준하', '노홍철'}\n",
      "{'정준하', '김종국', '박명수', '이광수', '노홍철', '송지효'}\n"
     ]
    }
   ],
   "source": [
    "# 사용례 1 : 중복제거\n",
    "test = [\"Mon\", \"Tue\", \"Wed\", \"Thu\", \"Fri\", \"Sat\", \"Sun\", \"Mon\", \"Tue\", \"Wed\", \"Thu\", \"Fri\", \"Sat\", \"Sun\"]\n",
    "print(set(test))\n",
    "\n",
    "# 사용례 2 : 고유값 카운트\n",
    "test = [\"Mon\", \"Tue\", \"Wed\", \"Thu\", \"Fri\", \"Sat\", \"Sun\", \"Mon\", \"Tue\", \"Wed\", \"Thu\", \"Fri\", \"Sat\", \"Sun\"]\n",
    "print(len(set(test)))\n",
    "\n",
    "# 사용례 3 : 집합 관련 연산자들\n",
    "infinite = set([\"유재석\", \"박명수\", \"정준하\", \"노홍철\", \"하하\"])\n",
    "run = set([\"유재석\", \"하하\", \"김종국\", \"송지효\", \"이광수\"])\n",
    "\n",
    "# 교집합\n",
    "print(infinite.intersection(run))\n",
    "# 합집합\n",
    "print(infinite.union(run))\n",
    "# 차집합\n",
    "print(infinite.difference(run)) \n",
    "print(infinite - run)\n",
    "# 대칭차집합 (합집합 - 교집합)\n",
    "print(infinite.symmetric_difference(run))\n",
    "# 등등"
   ]
  },
  {
   "cell_type": "markdown",
   "metadata": {},
   "source": [
    "#### 3. 딕셔너리(dict)"
   ]
  },
  {
   "cell_type": "code",
   "execution_count": 62,
   "metadata": {},
   "outputs": [
    {
     "name": "stdout",
     "output_type": "stream",
     "text": [
      "{'key_0': 0, 'key_1': 1, 'key_2': 2}\n",
      "{'무도 맴버': ['유재석', '박명수', '정준하', '노홍철', '하하'], '러닝맨 맴버': ['유재석', '하하', '김종국', '송지효', '이광수']}\n"
     ]
    }
   ],
   "source": [
    "# 딕셔너리(dictionary)\n",
    "## key와 key에 대응하는 값, 즉 key-value라는 쌍들로 이루어진 집단\n",
    "dict_ = {\"key_0\":0, \"key_1\":1, \"key_2\":2}\n",
    "print(dict_)\n",
    "\n",
    "\n",
    "## 이런 경우에 많이 쓰임\n",
    "dict_ = {\"무도 맴버\":[\"유재석\", \"박명수\", \"정준하\", \"노홍철\", \"하하\"],\n",
    "         \"러닝맨 맴버\":[\"유재석\", \"하하\", \"김종국\", \"송지효\", \"이광수\"]}\n",
    "print(dict_)"
   ]
  },
  {
   "cell_type": "code",
   "execution_count": 63,
   "metadata": {},
   "outputs": [
    {
     "data": {
      "text/plain": [
       "['유재석', '박명수', '정준하', '노홍철', '하하']"
      ]
     },
     "execution_count": 63,
     "metadata": {},
     "output_type": "execute_result"
    }
   ],
   "source": [
    "# key 정보로 value 가져오기\n",
    "\n",
    "dict_[\"무도 맴버\"]"
   ]
  },
  {
   "cell_type": "code",
   "execution_count": 73,
   "metadata": {},
   "outputs": [
    {
     "name": "stdout",
     "output_type": "stream",
     "text": [
      "dict_keys(['무도 맴버', '러닝맨 맴버'])\n",
      "dict_values([['유재석', '박명수', '정준하', '노홍철', '하하', '광희', '조세호'], ['유재석', '하하', '김종국', '송지효', '이광수']])\n",
      "dict_items([('무도 맴버', ['유재석', '박명수', '정준하', '노홍철', '하하', '광희', '조세호']), ('러닝맨 맴버', ['유재석', '하하', '김종국', '송지효', '이광수'])])\n"
     ]
    }
   ],
   "source": [
    "# 모든 key 가져오기\n",
    "print(dict_.keys())\n",
    "\n",
    "# 모든 values 가져오기\n",
    "print(dict_.values())\n",
    "\n",
    "# 모든 key-values 쌍 가져오기\n",
    "print(dict_.items()) "
   ]
  },
  {
   "cell_type": "code",
   "execution_count": 65,
   "metadata": {},
   "outputs": [
    {
     "data": {
      "text/plain": [
       "['유재석', '박명수', '정준하', '노홍철', '하하', '광희']"
      ]
     },
     "execution_count": 65,
     "metadata": {},
     "output_type": "execute_result"
    }
   ],
   "source": [
    "# value 수정하기 1\n",
    "dict_[\"무도 맴버\"] = [\"유재석\", \"박명수\", \"정준하\", \"노홍철\", \"하하\", \"광희\"]\n",
    "dict_[\"무도 맴버\"]"
   ]
  },
  {
   "cell_type": "code",
   "execution_count": 66,
   "metadata": {},
   "outputs": [
    {
     "data": {
      "text/plain": [
       "['유재석', '박명수', '정준하', '노홍철', '하하', '광희', '조세호']"
      ]
     },
     "execution_count": 66,
     "metadata": {},
     "output_type": "execute_result"
    }
   ],
   "source": [
    "# value 수정하기 2 (응용)\n",
    "dict_[\"무도 맴버\"] = dict_[\"무도 맴버\"] + [\"조세호\"]\n",
    "dict_[\"무도 맴버\"]"
   ]
  },
  {
   "cell_type": "code",
   "execution_count": null,
   "metadata": {},
   "outputs": [],
   "source": []
  }
 ],
 "metadata": {
  "kernelspec": {
   "display_name": "Python 3",
   "language": "python",
   "name": "python3"
  },
  "language_info": {
   "codemirror_mode": {
    "name": "ipython",
    "version": 3
   },
   "file_extension": ".py",
   "mimetype": "text/x-python",
   "name": "python",
   "nbconvert_exporter": "python",
   "pygments_lexer": "ipython3",
   "version": "3.8.5"
  }
 },
 "nbformat": 4,
 "nbformat_minor": 5
}
