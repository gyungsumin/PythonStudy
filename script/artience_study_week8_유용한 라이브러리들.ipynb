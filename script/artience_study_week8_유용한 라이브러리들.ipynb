{
 "cells": [
  {
   "cell_type": "markdown",
   "metadata": {},
   "source": [
    "중요한 것을 하나 배우지 않았습니다<br>\n",
    "파이썬 파이가 이렇게 커진 이유가 무었일까요?<br>\n",
    "여러가지 이유가 있지만, 그중 하나가 바로 <font color=red>파이썬 생태계</font>가 아주 크고 강건하게 자리잡았기 때문입니다.<br><br>\n",
    "대부분의 기능은 이미 누군가 만들었으며, 이를 무료로 배포했습니다.<br>\n",
    "이를 <font color=red>라이브러리</font>라고 부릅니다. 도서관에서 책을 빌리듯이 배포된 라이브러리를 빌려 사용하면 됩니다.<br>\n",
    "무료로 배포된 라이브러리 중 파이썬 언어가 공식적으로 제공하는 라이브러리를 <font color=red>표준 라이브러리</font>라고 합니다.<br><br>\n",
    "이번 시간에는 <font color=red>0. 라이브러리를 빌려오는 방법</font>, 그리고 <font color=red>1. 많이 쓰이는 표준 라이브러리</font>에 대해서 알아보겠습니다."
   ]
  },
  {
   "cell_type": "markdown",
   "metadata": {},
   "source": [
    "<h1>0. 라이브러리를 빌려오는 방법 : import</h1><br>\n",
    "라이브러리(library): 패키지라고도 합니다. 여러 파이썬 파일을 포함하고 있는 하나의 디렉토리(폴더)라고 생각할 수 있습니다.<br>\n",
    "모듈(module) : 파이썬 파일입니다. 하나의 라이브러리는 대부분 2개 이상의 모듈을 포함하고 있습니다.<br><br>\n",
    "\n",
    "<h3>대표적인 사용 방식</h3><br>\n",
    "import 모듈이름<br>\n",
    "variable = 모듈이름.함수이름()\n",
    "\n",
    "<img src=\"img/package module.png\">"
   ]
  },
  {
   "cell_type": "code",
   "execution_count": 82,
   "metadata": {},
   "outputs": [
    {
     "data": {
      "text/plain": [
       "<module 'random' from 'C:\\\\Users\\\\Artience\\\\Anaconda3\\\\lib\\\\random.py'>"
      ]
     },
     "execution_count": 82,
     "metadata": {},
     "output_type": "execute_result"
    }
   ],
   "source": [
    "# 대표적인 표준 라이브러리인 random을 import 해보자.\n",
    "# 언제 설치했지? 아나콘다에서 해줬음.\n",
    "import random\n",
    "\n",
    "random\n",
    "# 한번 찾아 들어가보자."
   ]
  },
  {
   "cell_type": "code",
   "execution_count": 83,
   "metadata": {},
   "outputs": [
    {
     "data": {
      "text/plain": [
       "<function Random.random()>"
      ]
     },
     "execution_count": 83,
     "metadata": {},
     "output_type": "execute_result"
    }
   ],
   "source": [
    "# random이라는 모듈 내에 random이라는 함수를 사용해 보자\n",
    "\n",
    "random.random\n",
    "# 한번 찾아 들어가보자. 가면 class라고 쓰인 것(객체)이 있는데, 일단 무시.\n",
    "# 위 망식은 random모듈의 random함수 객체를 단순히 불러온 것."
   ]
  },
  {
   "cell_type": "code",
   "execution_count": 84,
   "metadata": {},
   "outputs": [
    {
     "data": {
      "text/plain": [
       "<function Random.random()>"
      ]
     },
     "execution_count": 84,
     "metadata": {},
     "output_type": "execute_result"
    }
   ],
   "source": [
    "# 함수를 호출(실행)하는 방법 : ()\n",
    "random.random"
   ]
  },
  {
   "cell_type": "markdown",
   "metadata": {},
   "source": [
    "<h3>이런 식으로도 모듈 함수를 불러올 수 있다</h3><br>\n",
    "from 모듈이름 import 함수이름<br>\n",
    "variable = 함수이름()<br><br>\n",
    "이런 방식은 자주 사용하는 함수일 경우 많이 사용한다."
   ]
  },
  {
   "cell_type": "code",
   "execution_count": 89,
   "metadata": {},
   "outputs": [],
   "source": [
    "from random import random"
   ]
  },
  {
   "cell_type": "code",
   "execution_count": 90,
   "metadata": {},
   "outputs": [
    {
     "data": {
      "text/plain": [
       "0.8844490818861498"
      ]
     },
     "execution_count": 90,
     "metadata": {},
     "output_type": "execute_result"
    }
   ],
   "source": [
    "random()"
   ]
  },
  {
   "cell_type": "markdown",
   "metadata": {},
   "source": [
    "<h3>함수에 별명 붙이기</h3><br>\n",
    "import 모듈이름 as 모듈별명<br><br>\n",
    "or<br><br>\n",
    "from 모듈이름 import 함수이름 as 함수별명"
   ]
  },
  {
   "cell_type": "code",
   "execution_count": 97,
   "metadata": {},
   "outputs": [
    {
     "data": {
      "text/plain": [
       "0.8539040623635966"
      ]
     },
     "execution_count": 97,
     "metadata": {},
     "output_type": "execute_result"
    }
   ],
   "source": [
    "import random as rand\n",
    "\n",
    "rand.random()"
   ]
  },
  {
   "cell_type": "code",
   "execution_count": 98,
   "metadata": {},
   "outputs": [
    {
     "data": {
      "text/plain": [
       "0.8210135218156938"
      ]
     },
     "execution_count": 98,
     "metadata": {},
     "output_type": "execute_result"
    }
   ],
   "source": [
    "from random import random as rand\n",
    "\n",
    "rand()"
   ]
  },
  {
   "cell_type": "code",
   "execution_count": 100,
   "metadata": {},
   "outputs": [],
   "source": [
    "# 연습문제 1 : random이라는 모듈을 import한 후, random함수를 사용해 보자"
   ]
  },
  {
   "cell_type": "code",
   "execution_count": 101,
   "metadata": {},
   "outputs": [],
   "source": [
    "# 연습문제 2 : random이라는 모듈에서 random 함수를 import한 후, random함수를 사용해 보자"
   ]
  },
  {
   "cell_type": "markdown",
   "metadata": {},
   "source": [
    "<h1>1. 많이 쓰이는 파이썬 표준 라이브러리 찍먹</h1><br>"
   ]
  },
  {
   "cell_type": "markdown",
   "metadata": {},
   "source": [
    "<h3>디렉토리 관련 라이브러리 : os</h3><br>"
   ]
  },
  {
   "cell_type": "code",
   "execution_count": 1,
   "metadata": {},
   "outputs": [],
   "source": [
    "import os"
   ]
  },
  {
   "cell_type": "code",
   "execution_count": 4,
   "metadata": {},
   "outputs": [
    {
     "data": {
      "text/plain": [
       "'C:\\\\PythonStudy\\\\script'"
      ]
     },
     "execution_count": 4,
     "metadata": {},
     "output_type": "execute_result"
    }
   ],
   "source": [
    "# 0. getcwd: 현재 작업 디렉토리(파이썬 파일 디렉토리) 반환\n",
    "os.getcwd()"
   ]
  },
  {
   "cell_type": "code",
   "execution_count": 7,
   "metadata": {},
   "outputs": [
    {
     "data": {
      "text/plain": [
       "['.ipynb_checkpoints',\n",
       " 'artience_study_week1_파이썬시작.ipynb',\n",
       " 'artience_study_week2_자료형(원자 수준).ipynb',\n",
       " 'artience_study_week3_자료형(분자 수준).ipynb',\n",
       " 'artience_study_week4_제어문(구조 쌓기).ipynb',\n",
       " 'artience_study_week5_제어문 응용.ipynb',\n",
       " 'artience_study_week5_함수 기초.ipynb',\n",
       " 'artience_study_week6_함수 심화.ipynb',\n",
       " 'artience_study_week7_codingTest_answer.ipynb',\n",
       " 'artience_study_week8_유용한 라이브러리들.ipynb',\n",
       " 'img',\n",
       " 'python function structure image.jpg',\n",
       " 'standalone',\n",
       " 'week 6 quiz 3.jpg']"
      ]
     },
     "execution_count": 7,
     "metadata": {},
     "output_type": "execute_result"
    }
   ],
   "source": [
    "# 주어진 디렉토리에 존재하는 항목들의 이름 반환\n",
    "os.listdir()"
   ]
  },
  {
   "cell_type": "code",
   "execution_count": 10,
   "metadata": {},
   "outputs": [
    {
     "data": {
      "text/plain": [
       "True"
      ]
     },
     "execution_count": 10,
     "metadata": {},
     "output_type": "execute_result"
    }
   ],
   "source": [
    "# 1. listdir : default 인자는 현재의 디렉토리임\n",
    "os.listdir() == os.listdir(os.getcwd())"
   ]
  },
  {
   "cell_type": "code",
   "execution_count": 11,
   "metadata": {},
   "outputs": [
    {
     "data": {
      "text/plain": [
       "['test1.py', 'test2.py']"
      ]
     },
     "execution_count": 11,
     "metadata": {},
     "output_type": "execute_result"
    }
   ],
   "source": [
    "# 경로 부여도 가능\n",
    "os.listdir(\"./standalone\")"
   ]
  },
  {
   "cell_type": "code",
   "execution_count": 14,
   "metadata": {},
   "outputs": [
    {
     "data": {
      "text/plain": [
       "['artience_study_week1_파이썬시작.ipynb',\n",
       " 'artience_study_week2_자료형(원자 수준).ipynb',\n",
       " 'artience_study_week3_자료형(분자 수준).ipynb',\n",
       " 'artience_study_week4_제어문(구조 쌓기).ipynb',\n",
       " 'artience_study_week5_제어문 응용.ipynb',\n",
       " 'artience_study_week5_함수 기초.ipynb',\n",
       " 'artience_study_week6_함수 심화.ipynb',\n",
       " 'artience_study_week7_codingTest_answer.ipynb',\n",
       " 'artience_study_week8_유용한 라이브러리들.ipynb']"
      ]
     },
     "execution_count": 14,
     "metadata": {},
     "output_type": "execute_result"
    }
   ],
   "source": [
    "# 원하는 파일 형식만 뽑아올 수 있음\n",
    "jupyter_files = os.listdir()\n",
    "\n",
    "jupyter_files = [i for i in jupyter_files if i[-6:] == r\".ipynb\"]\n",
    "jupyter_files"
   ]
  },
  {
   "cell_type": "code",
   "execution_count": 20,
   "metadata": {},
   "outputs": [
    {
     "ename": "FileExistsError",
     "evalue": "[WinError 183] 파일이 이미 있으므로 만들 수 없습니다: 'testdir'",
     "output_type": "error",
     "traceback": [
      "\u001b[1;31m---------------------------------------------------------------------------\u001b[0m",
      "\u001b[1;31mFileExistsError\u001b[0m                           Traceback (most recent call last)",
      "\u001b[1;32m<ipython-input-20-deef075167db>\u001b[0m in \u001b[0;36m<module>\u001b[1;34m\u001b[0m\n\u001b[0;32m      1\u001b[0m \u001b[1;31m# 2. mkdir : 디렉토리 생성 (주의 필요)\u001b[0m\u001b[1;33m\u001b[0m\u001b[1;33m\u001b[0m\u001b[1;33m\u001b[0m\u001b[0m\n\u001b[1;32m----> 2\u001b[1;33m \u001b[0mos\u001b[0m\u001b[1;33m.\u001b[0m\u001b[0mmkdir\u001b[0m\u001b[1;33m(\u001b[0m\u001b[1;34m\"testdir\"\u001b[0m\u001b[1;33m)\u001b[0m\u001b[1;33m\u001b[0m\u001b[1;33m\u001b[0m\u001b[0m\n\u001b[0m",
      "\u001b[1;31mFileExistsError\u001b[0m: [WinError 183] 파일이 이미 있으므로 만들 수 없습니다: 'testdir'"
     ]
    }
   ],
   "source": [
    "# 2. mkdir : 디렉토리 생성 (주의 필요)\n",
    "os.mkdir(\"testdir\")"
   ]
  },
  {
   "cell_type": "code",
   "execution_count": 63,
   "metadata": {
    "scrolled": true
   },
   "outputs": [
    {
     "ename": "FileExistsError",
     "evalue": "[WinError 183] 파일이 이미 있으므로 만들 수 없습니다: 'testdir'",
     "output_type": "error",
     "traceback": [
      "\u001b[1;31m---------------------------------------------------------------------------\u001b[0m",
      "\u001b[1;31mFileExistsError\u001b[0m                           Traceback (most recent call last)",
      "\u001b[1;32m<ipython-input-63-f540cb34da3e>\u001b[0m in \u001b[0;36m<module>\u001b[1;34m\u001b[0m\n\u001b[0;32m      1\u001b[0m \u001b[1;31m# 이미 해당 디렉토리가 존재할 경우 에러 반환\u001b[0m\u001b[1;33m\u001b[0m\u001b[1;33m\u001b[0m\u001b[1;33m\u001b[0m\u001b[0m\n\u001b[1;32m----> 2\u001b[1;33m \u001b[0mos\u001b[0m\u001b[1;33m.\u001b[0m\u001b[0mmkdir\u001b[0m\u001b[1;33m(\u001b[0m\u001b[1;34m\"testdir\"\u001b[0m\u001b[1;33m)\u001b[0m\u001b[1;33m\u001b[0m\u001b[1;33m\u001b[0m\u001b[0m\n\u001b[0m",
      "\u001b[1;31mFileExistsError\u001b[0m: [WinError 183] 파일이 이미 있으므로 만들 수 없습니다: 'testdir'"
     ]
    }
   ],
   "source": [
    "# 이미 해당 디렉토리가 존재할 경우 에러 반환\n",
    "os.mkdir(\"testdir\")"
   ]
  },
  {
   "cell_type": "code",
   "execution_count": 64,
   "metadata": {},
   "outputs": [
    {
     "name": "stdout",
     "output_type": "stream",
     "text": [
      "Directory exists\n"
     ]
    }
   ],
   "source": [
    "# 그래서 이런 식으로 사용함 (디렉토리를 만들어서 특정 작업을 할 때)\n",
    "output_path = \"testdir\"\n",
    "\n",
    "try:\n",
    "    os.mkdir(\"testdir\")\n",
    "except:\n",
    "    print(\"Directory exists\")"
   ]
  },
  {
   "cell_type": "markdown",
   "metadata": {},
   "source": [
    "<h3>시간 관련 라이브러리 : time, datetime</h3><br>"
   ]
  },
  {
   "cell_type": "code",
   "execution_count": 79,
   "metadata": {},
   "outputs": [],
   "source": [
    "import time"
   ]
  },
  {
   "cell_type": "code",
   "execution_count": 69,
   "metadata": {},
   "outputs": [
    {
     "name": "stdout",
     "output_type": "stream",
     "text": [
      "start\n",
      "end\n"
     ]
    }
   ],
   "source": [
    "# 0. sleep : 일부러 잠시 코드실행을 멈춰야 할 때. 웹 로그인 후 상호작용시 로그인 기다리기, 크롤링할 때 페이지 넘김 기다리기 등\n",
    "print(\"start\")\n",
    "time.sleep(5)\n",
    "print(\"end\")"
   ]
  },
  {
   "cell_type": "code",
   "execution_count": 70,
   "metadata": {},
   "outputs": [
    {
     "data": {
      "text/plain": [
       "time.struct_time(tm_year=2022, tm_mon=1, tm_mday=12, tm_hour=8, tm_min=40, tm_sec=15, tm_wday=2, tm_yday=12, tm_isdst=0)"
      ]
     },
     "execution_count": 70,
     "metadata": {},
     "output_type": "execute_result"
    }
   ],
   "source": [
    "# 1. localtime : 현재 시간 반환.\n",
    "time.localtime()"
   ]
  },
  {
   "cell_type": "code",
   "execution_count": 79,
   "metadata": {},
   "outputs": [
    {
     "data": {
      "text/plain": [
       "12"
      ]
     },
     "execution_count": 79,
     "metadata": {},
     "output_type": "execute_result"
    }
   ],
   "source": [
    "time.localtime().tm_mday"
   ]
  },
  {
   "cell_type": "code",
   "execution_count": 97,
   "metadata": {},
   "outputs": [
    {
     "name": "stdout",
     "output_type": "stream",
     "text": [
      "2022-01-12\n",
      "22-01-12\n",
      "2022/01/12\n",
      "12/01/2022\n"
     ]
    }
   ],
   "source": [
    "# 2. strftime : 시간을 보기 편한 형태의 문자열로 반환\n",
    "tim_now = time.localtime()\n",
    "print(time.strftime(\"%Y-%m-%d\", tim_now))\n",
    "print(time.strftime(\"%y-%m-%d\", tim_now))\n",
    "\n",
    "print(time.strftime(\"%Y/%m/%d\", tim_now))\n",
    "\n",
    "print(time.strftime(\"%d/%m/%Y\", tim_now))"
   ]
  },
  {
   "cell_type": "code",
   "execution_count": 102,
   "metadata": {},
   "outputs": [
    {
     "name": "stdout",
     "output_type": "stream",
     "text": [
      "2022-01-12_08:50:41\n",
      "GMC_QA_Result_2022-01-12_08:50:41.csv\n"
     ]
    }
   ],
   "source": [
    "# strftime 응용\n",
    "\n",
    "print(time.strftime(\"%Y-%m-%d_%H:%M:%S\", tim_now))  # 파일 이름에 넣을 때 많이 사용.\n",
    "file_name = \"GMC_QA_Result_{}.csv\".format(time.strftime(\"%Y-%m-%d_%H:%M:%S\", tim_now))\n",
    "print(file_name)"
   ]
  },
  {
   "cell_type": "markdown",
   "metadata": {},
   "source": [
    "<h1>2. 표준 라이브러리는 아니지만 너무너무 유용한 라이브러리 찍먹</h1><br>"
   ]
  },
  {
   "cell_type": "markdown",
   "metadata": {},
   "source": [
    "<h3>수학/과학적 연산을 빠르고 데이터 효율적으로 : numpy</h3><br>"
   ]
  },
  {
   "cell_type": "code",
   "execution_count": 2,
   "metadata": {},
   "outputs": [
    {
     "data": {
      "text/plain": [
       "array([[0, 1, 0, 1, 1, 1, 0, 1],\n",
       "       [1, 0, 1, 1, 0, 1, 1, 1],\n",
       "       [1, 1, 1, 0, 0, 1, 0, 1]])"
      ]
     },
     "execution_count": 2,
     "metadata": {},
     "output_type": "execute_result"
    }
   ],
   "source": [
    "# numpy는 진짜 많이 쓰이나, 아티언스 실무에서 많이 쓰일지는 의문이라 패스.\n",
    "import numpy as np\n",
    "import sys\n",
    "\n",
    "data_raw = [[0, 1, 0, 1, 1, 1, 0, 1],\n",
    "            [1, 0, 1, 1, 0, 1, 1, 1],\n",
    "            [1, 1, 1, 0, 0, 1, 0, 1]]\n",
    "\n",
    "np.array(data_raw)"
   ]
  },
  {
   "cell_type": "markdown",
   "metadata": {},
   "source": [
    "<h3>파이썬계의 엑셀 (엑셀의 \"테이블\" 개념). 이거 없으면 나 죽어.. : pandas</h3><br>"
   ]
  },
  {
   "cell_type": "code",
   "execution_count": 46,
   "metadata": {},
   "outputs": [],
   "source": [
    "import pandas as pd"
   ]
  },
  {
   "cell_type": "code",
   "execution_count": 55,
   "metadata": {},
   "outputs": [
    {
     "data": {
      "text/html": [
       "<div>\n",
       "<style scoped>\n",
       "    .dataframe tbody tr th:only-of-type {\n",
       "        vertical-align: middle;\n",
       "    }\n",
       "\n",
       "    .dataframe tbody tr th {\n",
       "        vertical-align: top;\n",
       "    }\n",
       "\n",
       "    .dataframe thead th {\n",
       "        text-align: right;\n",
       "    }\n",
       "</style>\n",
       "<table border=\"1\" class=\"dataframe\">\n",
       "  <thead>\n",
       "    <tr style=\"text-align: right;\">\n",
       "      <th></th>\n",
       "      <th>Idx</th>\n",
       "      <th>Date</th>\n",
       "      <th>NetCost</th>\n",
       "      <th>Click</th>\n",
       "    </tr>\n",
       "  </thead>\n",
       "  <tbody>\n",
       "    <tr>\n",
       "      <th>0</th>\n",
       "      <td>111</td>\n",
       "      <td>2021-12-01</td>\n",
       "      <td>949</td>\n",
       "      <td>121</td>\n",
       "    </tr>\n",
       "    <tr>\n",
       "      <th>1</th>\n",
       "      <td>222</td>\n",
       "      <td>2021-12-02</td>\n",
       "      <td>1159</td>\n",
       "      <td>153</td>\n",
       "    </tr>\n",
       "    <tr>\n",
       "      <th>2</th>\n",
       "      <td>333</td>\n",
       "      <td>2021-12-03</td>\n",
       "      <td>950</td>\n",
       "      <td>113</td>\n",
       "    </tr>\n",
       "    <tr>\n",
       "      <th>3</th>\n",
       "      <td>444</td>\n",
       "      <td>2021-12-04</td>\n",
       "      <td>1050</td>\n",
       "      <td>98</td>\n",
       "    </tr>\n",
       "    <tr>\n",
       "      <th>4</th>\n",
       "      <td>555</td>\n",
       "      <td>2021-12-05</td>\n",
       "      <td>1142</td>\n",
       "      <td>149</td>\n",
       "    </tr>\n",
       "  </tbody>\n",
       "</table>\n",
       "</div>"
      ],
      "text/plain": [
       "   Idx        Date  NetCost  Click\n",
       "0  111  2021-12-01      949    121\n",
       "1  222  2021-12-02     1159    153\n",
       "2  333  2021-12-03      950    113\n",
       "3  444  2021-12-04     1050     98\n",
       "4  555  2021-12-05     1142    149"
      ]
     },
     "execution_count": 55,
     "metadata": {},
     "output_type": "execute_result"
    }
   ],
   "source": [
    "col_name = [\"Idx\", \"Date\", \"NetCost\", \"Click\"]\n",
    "dataset = [[\"111\", \"2021-12-01\", 949, 121],\n",
    "           [\"222\", \"2021-12-02\", 1159, 153],\n",
    "           [\"333\", \"2021-12-03\", 950, 113],\n",
    "           [\"444\", \"2021-12-04\", 1050, 98],\n",
    "           [\"555\", \"2021-12-05\", 1142, 149]]\n",
    "\n",
    "df_performance = pd.DataFrame(columns=col_name, data=dataset)\n",
    "df_performance"
   ]
  },
  {
   "cell_type": "code",
   "execution_count": 56,
   "metadata": {},
   "outputs": [
    {
     "data": {
      "text/html": [
       "<div>\n",
       "<style scoped>\n",
       "    .dataframe tbody tr th:only-of-type {\n",
       "        vertical-align: middle;\n",
       "    }\n",
       "\n",
       "    .dataframe tbody tr th {\n",
       "        vertical-align: top;\n",
       "    }\n",
       "\n",
       "    .dataframe thead th {\n",
       "        text-align: right;\n",
       "    }\n",
       "</style>\n",
       "<table border=\"1\" class=\"dataframe\">\n",
       "  <thead>\n",
       "    <tr style=\"text-align: right;\">\n",
       "      <th></th>\n",
       "      <th>Idx</th>\n",
       "      <th>Date</th>\n",
       "      <th>NetCost</th>\n",
       "      <th>Click</th>\n",
       "    </tr>\n",
       "  </thead>\n",
       "  <tbody>\n",
       "    <tr>\n",
       "      <th>0</th>\n",
       "      <td>111</td>\n",
       "      <td>2021-12-01</td>\n",
       "      <td>949</td>\n",
       "      <td>121</td>\n",
       "    </tr>\n",
       "    <tr>\n",
       "      <th>1</th>\n",
       "      <td>222</td>\n",
       "      <td>2021-12-02</td>\n",
       "      <td>1159</td>\n",
       "      <td>153</td>\n",
       "    </tr>\n",
       "    <tr>\n",
       "      <th>2</th>\n",
       "      <td>333</td>\n",
       "      <td>2021-12-03</td>\n",
       "      <td>950</td>\n",
       "      <td>113</td>\n",
       "    </tr>\n",
       "    <tr>\n",
       "      <th>3</th>\n",
       "      <td>444</td>\n",
       "      <td>2021-12-04</td>\n",
       "      <td>1050</td>\n",
       "      <td>98</td>\n",
       "    </tr>\n",
       "    <tr>\n",
       "      <th>4</th>\n",
       "      <td>555</td>\n",
       "      <td>2021-12-05</td>\n",
       "      <td>1142</td>\n",
       "      <td>149</td>\n",
       "    </tr>\n",
       "  </tbody>\n",
       "</table>\n",
       "</div>"
      ],
      "text/plain": [
       "   Idx        Date  NetCost  Click\n",
       "0  111  2021-12-01      949    121\n",
       "1  222  2021-12-02     1159    153\n",
       "2  333  2021-12-03      950    113\n",
       "3  444  2021-12-04     1050     98\n",
       "4  555  2021-12-05     1142    149"
      ]
     },
     "execution_count": 56,
     "metadata": {},
     "output_type": "execute_result"
    }
   ],
   "source": [
    "col_name = [\"Idx\", \"Date\", \"NetCost\", \"Click\"]\n",
    "dataset = [[\"111\", \"222\", \"333\", \"444\", \"555\"],\n",
    "           [\"2021-12-01\", \"2021-12-02\", \"2021-12-03\", \"2021-12-04\", \"2021-12-05\"],\n",
    "           [949, 1159, 950, 1050, 1142],\n",
    "           [121, 153, 113, 98, 149]]\n",
    "\n",
    "df_input = {}\n",
    "for idx, col in enumerate(col_name):\n",
    "    df_input[col] = dataset[idx]\n",
    "\n",
    "df_performance = pd.DataFrame(df_input)\n",
    "df_performance"
   ]
  },
  {
   "cell_type": "code",
   "execution_count": 60,
   "metadata": {},
   "outputs": [
    {
     "name": "stdout",
     "output_type": "stream",
     "text": [
      "Index(['Idx', 'Date', 'NetCost', 'Click'], dtype='object')\n",
      "RangeIndex(start=0, stop=5, step=1)\n"
     ]
    }
   ],
   "source": [
    "# pandas DataFrame의 기본 축 : col&idx\n",
    "print(df_performance.columns)\n",
    "print(df_performance.index)"
   ]
  },
  {
   "cell_type": "code",
   "execution_count": 61,
   "metadata": {},
   "outputs": [
    {
     "data": {
      "text/plain": [
       "0     949\n",
       "1    1159\n",
       "2     950\n",
       "3    1050\n",
       "4    1142\n",
       "Name: NetCost, dtype: int64"
      ]
     },
     "execution_count": 61,
     "metadata": {},
     "output_type": "execute_result"
    }
   ],
   "source": [
    "# column 기준 데이터 슬라이싱\n",
    "df_performance[\"NetCost\"]\n",
    "# df_performance.NetCost  # 편리한 방식. 그래도 위 방법이 좋음"
   ]
  },
  {
   "cell_type": "code",
   "execution_count": 65,
   "metadata": {},
   "outputs": [
    {
     "data": {
      "text/plain": [
       "Idx               444\n",
       "Date       2021-12-04\n",
       "NetCost          1050\n",
       "Click              98\n",
       "Name: 3, dtype: object"
      ]
     },
     "execution_count": 65,
     "metadata": {},
     "output_type": "execute_result"
    }
   ],
   "source": [
    "# index 기준 데이터 슬라이싱 (index 절대적 접근)\n",
    "df_performance.loc[3]"
   ]
  },
  {
   "cell_type": "code",
   "execution_count": 67,
   "metadata": {},
   "outputs": [
    {
     "data": {
      "text/plain": [
       "Idx               444\n",
       "Date       2021-12-04\n",
       "NetCost          1050\n",
       "Click              98\n",
       "Name: 3, dtype: object"
      ]
     },
     "execution_count": 67,
     "metadata": {},
     "output_type": "execute_result"
    }
   ],
   "source": [
    "# index 기준 데이터 슬라이싱 (index 상대적 접근)\n",
    "df_performance.iloc[3]"
   ]
  },
  {
   "cell_type": "code",
   "execution_count": 68,
   "metadata": {},
   "outputs": [
    {
     "data": {
      "text/html": [
       "<div>\n",
       "<style scoped>\n",
       "    .dataframe tbody tr th:only-of-type {\n",
       "        vertical-align: middle;\n",
       "    }\n",
       "\n",
       "    .dataframe tbody tr th {\n",
       "        vertical-align: top;\n",
       "    }\n",
       "\n",
       "    .dataframe thead th {\n",
       "        text-align: right;\n",
       "    }\n",
       "</style>\n",
       "<table border=\"1\" class=\"dataframe\">\n",
       "  <thead>\n",
       "    <tr style=\"text-align: right;\">\n",
       "      <th></th>\n",
       "      <th>NetCost</th>\n",
       "      <th>Click</th>\n",
       "    </tr>\n",
       "  </thead>\n",
       "  <tbody>\n",
       "    <tr>\n",
       "      <th>0</th>\n",
       "      <td>949</td>\n",
       "      <td>121</td>\n",
       "    </tr>\n",
       "    <tr>\n",
       "      <th>1</th>\n",
       "      <td>1159</td>\n",
       "      <td>153</td>\n",
       "    </tr>\n",
       "    <tr>\n",
       "      <th>2</th>\n",
       "      <td>950</td>\n",
       "      <td>113</td>\n",
       "    </tr>\n",
       "    <tr>\n",
       "      <th>3</th>\n",
       "      <td>1050</td>\n",
       "      <td>98</td>\n",
       "    </tr>\n",
       "    <tr>\n",
       "      <th>4</th>\n",
       "      <td>1142</td>\n",
       "      <td>149</td>\n",
       "    </tr>\n",
       "  </tbody>\n",
       "</table>\n",
       "</div>"
      ],
      "text/plain": [
       "   NetCost  Click\n",
       "0      949    121\n",
       "1     1159    153\n",
       "2      950    113\n",
       "3     1050     98\n",
       "4     1142    149"
      ]
     },
     "execution_count": 68,
     "metadata": {},
     "output_type": "execute_result"
    }
   ],
   "source": [
    "df_performance[[\"NetCost\", \"Click\"]]"
   ]
  },
  {
   "cell_type": "code",
   "execution_count": 71,
   "metadata": {},
   "outputs": [
    {
     "data": {
      "text/html": [
       "<div>\n",
       "<style scoped>\n",
       "    .dataframe tbody tr th:only-of-type {\n",
       "        vertical-align: middle;\n",
       "    }\n",
       "\n",
       "    .dataframe tbody tr th {\n",
       "        vertical-align: top;\n",
       "    }\n",
       "\n",
       "    .dataframe thead th {\n",
       "        text-align: right;\n",
       "    }\n",
       "</style>\n",
       "<table border=\"1\" class=\"dataframe\">\n",
       "  <thead>\n",
       "    <tr style=\"text-align: right;\">\n",
       "      <th></th>\n",
       "      <th>Idx</th>\n",
       "      <th>Date</th>\n",
       "      <th>NetCost</th>\n",
       "      <th>Click</th>\n",
       "    </tr>\n",
       "  </thead>\n",
       "  <tbody>\n",
       "    <tr>\n",
       "      <th>3</th>\n",
       "      <td>444</td>\n",
       "      <td>2021-12-04</td>\n",
       "      <td>1050</td>\n",
       "      <td>98</td>\n",
       "    </tr>\n",
       "    <tr>\n",
       "      <th>4</th>\n",
       "      <td>555</td>\n",
       "      <td>2021-12-05</td>\n",
       "      <td>1142</td>\n",
       "      <td>149</td>\n",
       "    </tr>\n",
       "  </tbody>\n",
       "</table>\n",
       "</div>"
      ],
      "text/plain": [
       "   Idx        Date  NetCost  Click\n",
       "3  444  2021-12-04     1050     98\n",
       "4  555  2021-12-05     1142    149"
      ]
     },
     "execution_count": 71,
     "metadata": {},
     "output_type": "execute_result"
    }
   ],
   "source": [
    "df_performance.loc[3:]"
   ]
  },
  {
   "cell_type": "code",
   "execution_count": 73,
   "metadata": {},
   "outputs": [
    {
     "data": {
      "text/html": [
       "<div>\n",
       "<style scoped>\n",
       "    .dataframe tbody tr th:only-of-type {\n",
       "        vertical-align: middle;\n",
       "    }\n",
       "\n",
       "    .dataframe tbody tr th {\n",
       "        vertical-align: top;\n",
       "    }\n",
       "\n",
       "    .dataframe thead th {\n",
       "        text-align: right;\n",
       "    }\n",
       "</style>\n",
       "<table border=\"1\" class=\"dataframe\">\n",
       "  <thead>\n",
       "    <tr style=\"text-align: right;\">\n",
       "      <th></th>\n",
       "      <th>Idx</th>\n",
       "      <th>Date</th>\n",
       "      <th>NetCost</th>\n",
       "      <th>Click</th>\n",
       "      <th>wtb</th>\n",
       "      <th>WTB</th>\n",
       "    </tr>\n",
       "  </thead>\n",
       "  <tbody>\n",
       "    <tr>\n",
       "      <th>0</th>\n",
       "      <td>111</td>\n",
       "      <td>2021-12-01</td>\n",
       "      <td>949</td>\n",
       "      <td>121</td>\n",
       "      <td>1</td>\n",
       "      <td>1</td>\n",
       "    </tr>\n",
       "    <tr>\n",
       "      <th>1</th>\n",
       "      <td>222</td>\n",
       "      <td>2021-12-02</td>\n",
       "      <td>1159</td>\n",
       "      <td>153</td>\n",
       "      <td>2</td>\n",
       "      <td>2</td>\n",
       "    </tr>\n",
       "    <tr>\n",
       "      <th>2</th>\n",
       "      <td>333</td>\n",
       "      <td>2021-12-03</td>\n",
       "      <td>950</td>\n",
       "      <td>113</td>\n",
       "      <td>0</td>\n",
       "      <td>0</td>\n",
       "    </tr>\n",
       "    <tr>\n",
       "      <th>3</th>\n",
       "      <td>444</td>\n",
       "      <td>2021-12-04</td>\n",
       "      <td>1050</td>\n",
       "      <td>98</td>\n",
       "      <td>1</td>\n",
       "      <td>1</td>\n",
       "    </tr>\n",
       "    <tr>\n",
       "      <th>4</th>\n",
       "      <td>555</td>\n",
       "      <td>2021-12-05</td>\n",
       "      <td>1142</td>\n",
       "      <td>149</td>\n",
       "      <td>3</td>\n",
       "      <td>3</td>\n",
       "    </tr>\n",
       "  </tbody>\n",
       "</table>\n",
       "</div>"
      ],
      "text/plain": [
       "   Idx        Date  NetCost  Click  wtb  WTB\n",
       "0  111  2021-12-01      949    121    1    1\n",
       "1  222  2021-12-02     1159    153    2    2\n",
       "2  333  2021-12-03      950    113    0    0\n",
       "3  444  2021-12-04     1050     98    1    1\n",
       "4  555  2021-12-05     1142    149    3    3"
      ]
     },
     "execution_count": 73,
     "metadata": {},
     "output_type": "execute_result"
    }
   ],
   "source": [
    "# 새로운 칼럼 생성\n",
    "wtb = [1, 2, 0, 1, 3]\n",
    "df_performance[\"WTB\"] = wtb\n",
    "\n",
    "df_performance"
   ]
  },
  {
   "cell_type": "code",
   "execution_count": null,
   "metadata": {},
   "outputs": [],
   "source": [
    "# 기존 칼럼에서 새로운 칼럼 생성"
   ]
  },
  {
   "cell_type": "code",
   "execution_count": 76,
   "metadata": {},
   "outputs": [
    {
     "data": {
      "text/html": [
       "<div>\n",
       "<style scoped>\n",
       "    .dataframe tbody tr th:only-of-type {\n",
       "        vertical-align: middle;\n",
       "    }\n",
       "\n",
       "    .dataframe tbody tr th {\n",
       "        vertical-align: top;\n",
       "    }\n",
       "\n",
       "    .dataframe thead th {\n",
       "        text-align: right;\n",
       "    }\n",
       "</style>\n",
       "<table border=\"1\" class=\"dataframe\">\n",
       "  <thead>\n",
       "    <tr style=\"text-align: right;\">\n",
       "      <th></th>\n",
       "      <th>Idx</th>\n",
       "      <th>Date</th>\n",
       "      <th>NetCost</th>\n",
       "      <th>Click</th>\n",
       "      <th>wtb</th>\n",
       "      <th>WTB</th>\n",
       "      <th>NetCPC</th>\n",
       "      <th>GrossCPC</th>\n",
       "    </tr>\n",
       "  </thead>\n",
       "  <tbody>\n",
       "    <tr>\n",
       "      <th>0</th>\n",
       "      <td>111</td>\n",
       "      <td>2021-12-01</td>\n",
       "      <td>949</td>\n",
       "      <td>121</td>\n",
       "      <td>1</td>\n",
       "      <td>1</td>\n",
       "      <td>7.842975</td>\n",
       "      <td>9.411570</td>\n",
       "    </tr>\n",
       "    <tr>\n",
       "      <th>1</th>\n",
       "      <td>222</td>\n",
       "      <td>2021-12-02</td>\n",
       "      <td>1159</td>\n",
       "      <td>153</td>\n",
       "      <td>2</td>\n",
       "      <td>2</td>\n",
       "      <td>7.575163</td>\n",
       "      <td>9.090196</td>\n",
       "    </tr>\n",
       "    <tr>\n",
       "      <th>2</th>\n",
       "      <td>333</td>\n",
       "      <td>2021-12-03</td>\n",
       "      <td>950</td>\n",
       "      <td>113</td>\n",
       "      <td>0</td>\n",
       "      <td>0</td>\n",
       "      <td>8.407080</td>\n",
       "      <td>10.088496</td>\n",
       "    </tr>\n",
       "    <tr>\n",
       "      <th>3</th>\n",
       "      <td>444</td>\n",
       "      <td>2021-12-04</td>\n",
       "      <td>1050</td>\n",
       "      <td>98</td>\n",
       "      <td>1</td>\n",
       "      <td>1</td>\n",
       "      <td>10.714286</td>\n",
       "      <td>12.857143</td>\n",
       "    </tr>\n",
       "    <tr>\n",
       "      <th>4</th>\n",
       "      <td>555</td>\n",
       "      <td>2021-12-05</td>\n",
       "      <td>1142</td>\n",
       "      <td>149</td>\n",
       "      <td>3</td>\n",
       "      <td>3</td>\n",
       "      <td>7.664430</td>\n",
       "      <td>9.197315</td>\n",
       "    </tr>\n",
       "  </tbody>\n",
       "</table>\n",
       "</div>"
      ],
      "text/plain": [
       "   Idx        Date  NetCost  Click  wtb  WTB     NetCPC   GrossCPC\n",
       "0  111  2021-12-01      949    121    1    1   7.842975   9.411570\n",
       "1  222  2021-12-02     1159    153    2    2   7.575163   9.090196\n",
       "2  333  2021-12-03      950    113    0    0   8.407080  10.088496\n",
       "3  444  2021-12-04     1050     98    1    1  10.714286  12.857143\n",
       "4  555  2021-12-05     1142    149    3    3   7.664430   9.197315"
      ]
     },
     "execution_count": 76,
     "metadata": {},
     "output_type": "execute_result"
    }
   ],
   "source": [
    "df_performance[\"NetCPC\"] = df_performance[\"NetCost\"] / df_performance[\"Click\"]\n",
    "df_performance[\"GrossCPC\"] = (df_performance[\"NetCost\"] * 1.2) / df_performance[\"Click\"]\n",
    "\n",
    "df_performance"
   ]
  },
  {
   "cell_type": "code",
   "execution_count": 77,
   "metadata": {},
   "outputs": [],
   "source": [
    "# DataFrame to xlsx/csv\n",
    "\n",
    "file_name = \"./df_to_excel.xlsx\"\n",
    "df_performance.to_excel(file_name)"
   ]
  },
  {
   "cell_type": "code",
   "execution_count": null,
   "metadata": {},
   "outputs": [],
   "source": [
    "# Pandas는 반드시 더 파보아야 함. 아티언스 업무에서 python 활용시 pandas 비중이 매우 클 것으로 예상."
   ]
  },
  {
   "cell_type": "markdown",
   "metadata": {},
   "source": [
    "<h3>파이썬에서 엑셀 자체를 다뤄보기 : openpyxl</h3><br>"
   ]
  },
  {
   "cell_type": "code",
   "execution_count": null,
   "metadata": {},
   "outputs": [],
   "source": [
    "# 이건 DB QA 예시로 대체"
   ]
  },
  {
   "cell_type": "markdown",
   "metadata": {},
   "source": [
    "<h3>loop문이 어디까지 진행되었어? : tqdm</h3><br>"
   ]
  },
  {
   "cell_type": "code",
   "execution_count": 93,
   "metadata": {},
   "outputs": [
    {
     "data": {
      "application/vnd.jupyter.widget-view+json": {
       "model_id": "5bc22dddc98d44a99c551c6424088697",
       "version_major": 2,
       "version_minor": 0
      },
      "text/plain": [
       "HBox(children=(HTML(value=''), FloatProgress(value=0.0, max=5.0), HTML(value='')))"
      ]
     },
     "metadata": {},
     "output_type": "display_data"
    },
    {
     "name": "stdout",
     "output_type": "stream",
     "text": [
      "Idx\n",
      "Date\n",
      "NetCost\n",
      "Click\n",
      "wtb\n",
      "WTB\n",
      "NetCPC\n",
      "GrossCPC\n",
      "\n"
     ]
    }
   ],
   "source": [
    "from tqdm.notebook import tqdm_notebook\n",
    "\n",
    "for i in tqdm_notebook(df_performance):\n",
    "    print(i)\n",
    "    time.sleep(3)"
   ]
  },
  {
   "cell_type": "markdown",
   "metadata": {},
   "source": [
    "<h3>데이터 시각화 : matplotlib, seabron</h3><br>"
   ]
  },
  {
   "cell_type": "code",
   "execution_count": 83,
   "metadata": {},
   "outputs": [],
   "source": [
    "# seaborn은 matplotlib을 더 이쁘게 만드는 애드온 개념.\n",
    "# seaborn : 이쁘고 간단하나 커스텀기능이 약함. 아직 개발 중. 깊게 파려면 결국 matplotlib 공부해야 함.\n",
    "# matplotlib : seaborn보다는 복잡, 이쁘게 하려면 노력 필요. 커스텀기능 매우 강력"
   ]
  },
  {
   "cell_type": "code",
   "execution_count": 88,
   "metadata": {},
   "outputs": [],
   "source": [
    "import seaborn as sns"
   ]
  },
  {
   "cell_type": "code",
   "execution_count": 89,
   "metadata": {},
   "outputs": [
    {
     "name": "stdout",
     "output_type": "stream",
     "text": [
      "(344, 7)\n"
     ]
    },
    {
     "data": {
      "text/html": [
       "<div>\n",
       "<style scoped>\n",
       "    .dataframe tbody tr th:only-of-type {\n",
       "        vertical-align: middle;\n",
       "    }\n",
       "\n",
       "    .dataframe tbody tr th {\n",
       "        vertical-align: top;\n",
       "    }\n",
       "\n",
       "    .dataframe thead th {\n",
       "        text-align: right;\n",
       "    }\n",
       "</style>\n",
       "<table border=\"1\" class=\"dataframe\">\n",
       "  <thead>\n",
       "    <tr style=\"text-align: right;\">\n",
       "      <th></th>\n",
       "      <th>species</th>\n",
       "      <th>island</th>\n",
       "      <th>bill_length_mm</th>\n",
       "      <th>bill_depth_mm</th>\n",
       "      <th>flipper_length_mm</th>\n",
       "      <th>body_mass_g</th>\n",
       "      <th>sex</th>\n",
       "    </tr>\n",
       "  </thead>\n",
       "  <tbody>\n",
       "    <tr>\n",
       "      <th>0</th>\n",
       "      <td>Adelie</td>\n",
       "      <td>Torgersen</td>\n",
       "      <td>39.1</td>\n",
       "      <td>18.7</td>\n",
       "      <td>181.0</td>\n",
       "      <td>3750.0</td>\n",
       "      <td>Male</td>\n",
       "    </tr>\n",
       "    <tr>\n",
       "      <th>1</th>\n",
       "      <td>Adelie</td>\n",
       "      <td>Torgersen</td>\n",
       "      <td>39.5</td>\n",
       "      <td>17.4</td>\n",
       "      <td>186.0</td>\n",
       "      <td>3800.0</td>\n",
       "      <td>Female</td>\n",
       "    </tr>\n",
       "    <tr>\n",
       "      <th>2</th>\n",
       "      <td>Adelie</td>\n",
       "      <td>Torgersen</td>\n",
       "      <td>40.3</td>\n",
       "      <td>18.0</td>\n",
       "      <td>195.0</td>\n",
       "      <td>3250.0</td>\n",
       "      <td>Female</td>\n",
       "    </tr>\n",
       "    <tr>\n",
       "      <th>3</th>\n",
       "      <td>Adelie</td>\n",
       "      <td>Torgersen</td>\n",
       "      <td>NaN</td>\n",
       "      <td>NaN</td>\n",
       "      <td>NaN</td>\n",
       "      <td>NaN</td>\n",
       "      <td>NaN</td>\n",
       "    </tr>\n",
       "    <tr>\n",
       "      <th>4</th>\n",
       "      <td>Adelie</td>\n",
       "      <td>Torgersen</td>\n",
       "      <td>36.7</td>\n",
       "      <td>19.3</td>\n",
       "      <td>193.0</td>\n",
       "      <td>3450.0</td>\n",
       "      <td>Female</td>\n",
       "    </tr>\n",
       "  </tbody>\n",
       "</table>\n",
       "</div>"
      ],
      "text/plain": [
       "  species     island  bill_length_mm  bill_depth_mm  flipper_length_mm  \\\n",
       "0  Adelie  Torgersen            39.1           18.7              181.0   \n",
       "1  Adelie  Torgersen            39.5           17.4              186.0   \n",
       "2  Adelie  Torgersen            40.3           18.0              195.0   \n",
       "3  Adelie  Torgersen             NaN            NaN                NaN   \n",
       "4  Adelie  Torgersen            36.7           19.3              193.0   \n",
       "\n",
       "   body_mass_g     sex  \n",
       "0       3750.0    Male  \n",
       "1       3800.0  Female  \n",
       "2       3250.0  Female  \n",
       "3          NaN     NaN  \n",
       "4       3450.0  Female  "
      ]
     },
     "execution_count": 89,
     "metadata": {},
     "output_type": "execute_result"
    }
   ],
   "source": [
    "penguins = sns.load_dataset(\"penguins\")\n",
    "print(penguins.shape)\n",
    "penguins.head()"
   ]
  },
  {
   "cell_type": "code",
   "execution_count": 90,
   "metadata": {},
   "outputs": [
    {
     "data": {
      "text/plain": [
       "<seaborn.axisgrid.FacetGrid at 0x20c84f26a00>"
      ]
     },
     "execution_count": 90,
     "metadata": {},
     "output_type": "execute_result"
    },
    {
     "data": {
      "image/png": "[encoded data removed]",
      "text/plain": [
       "<Figure size 360x360 with 1 Axes>"
      ]
     },
     "metadata": {},
     "output_type": "display_data"
    }
   ],
   "source": [
    "sns.set_theme(style=\"ticks\", color_codes=True)\n",
    "sns.displot(penguins, x=\"flipper_length_mm\")"
   ]
  },
  {
   "cell_type": "code",
   "execution_count": 91,
   "metadata": {
    "collapsed": true
   },
   "outputs": [
    {
     "data": {
      "text/plain": [
       "<seaborn.axisgrid.FacetGrid at 0x20c8549ea30>"
      ]
     },
     "execution_count": 91,
     "metadata": {},
     "output_type": "execute_result"
    },
    {
     "data": {
      "image/png": "[encoded data removed]",
      "text/plain": [
       "<Figure size 360x360 with 1 Axes>"
      ]
     },
     "metadata": {},
     "output_type": "display_data"
    },
    {
     "data": {
      "image/png": "[encoded data removed]",
      "text/plain": [
       "<Figure size 360x360 with 1 Axes>"
      ]
     },
     "metadata": {},
     "output_type": "display_data"
    },
    {
     "data": {
      "image/png": "[encoded data removed]",
      "text/plain": [
       "<Figure size 360x360 with 1 Axes>"
      ]
     },
     "metadata": {},
     "output_type": "display_data"
    }
   ],
   "source": [
    "sns.displot(penguins, x=\"flipper_length_mm\", binwidth=3)\n",
    "sns.displot(penguins, x=\"flipper_length_mm\", binwidth=5)\n",
    "sns.displot(penguins, x=\"flipper_length_mm\", binwidth=10)"
   ]
  },
  {
   "cell_type": "code",
   "execution_count": 92,
   "metadata": {},
   "outputs": [
    {
     "data": {
      "text/plain": [
       "<seaborn.axisgrid.FacetGrid at 0x20c855ca250>"
      ]
     },
     "execution_count": 92,
     "metadata": {},
     "output_type": "execute_result"
    },
    {
     "data": {
      "image/png": "[encoded data removed]",
      "text/plain": [
       "<Figure size 446.85x360 with 1 Axes>"
      ]
     },
     "metadata": {},
     "output_type": "display_data"
    },
    {
     "data": {
      "image/png": "[encoded data removed]",
      "text/plain": [
       "<Figure size 446.85x360 with 1 Axes>"
      ]
     },
     "metadata": {},
     "output_type": "display_data"
    }
   ],
   "source": [
    "sns.displot(penguins, x=\"flipper_length_mm\", hue=\"species\")\n",
    "sns.displot(penguins, x=\"flipper_length_mm\", hue=\"species\", element=\"step\")"
   ]
  },
  {
   "cell_type": "code",
   "execution_count": null,
   "metadata": {},
   "outputs": [],
   "source": []
  }
 ],
 "metadata": {
  "kernelspec": {
   "display_name": "Python 3",
   "language": "python",
   "name": "python3"
  },
  "language_info": {
   "codemirror_mode": {
    "name": "ipython",
    "version": 3
   },
   "file_extension": ".py",
   "mimetype": "text/x-python",
   "name": "python",
   "nbconvert_exporter": "python",
   "pygments_lexer": "ipython3",
   "version": "3.8.5"
  }
 },
 "nbformat": 4,
 "nbformat_minor": 4
}
