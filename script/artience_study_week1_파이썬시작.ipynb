{
 "cells": [
  {
   "cell_type": "markdown",
   "metadata": {},
   "source": [
    "#### 0. 파이썬이랑 상호작용 해보기"
   ]
  },
  {
   "cell_type": "code",
   "execution_count": 19,
   "metadata": {},
   "outputs": [
    {
     "name": "stdout",
     "output_type": "stream",
     "text": [
      "Hello world\n"
     ]
    }
   ],
   "source": [
    "print('Hello world')\n",
    "\n",
    "# print 함수 : 인자로 받은 값을 \"화면\"에 출력해라\n",
    "# function \n",
    "#  - 프로그램 : 명령문들의 모임\n",
    "#  - 함수 : 특정 목적을 위해 작성된 작은 프로그램들의 묶음, 재사용 목적\n",
    "\n",
    "# 내장함수명(인자) -> 인자를 받아 내장된 함수를 수행. \"함수 호출 명령문\""
   ]
  },
  {
   "cell_type": "code",
   "execution_count": 2,
   "metadata": {},
   "outputs": [
    {
     "name": "stdout",
     "output_type": "stream",
     "text": [
      "print는 값을 눈으로 볼 수 있게 하는 내장함수\n"
     ]
    }
   ],
   "source": [
    "print(\"print는 값을 눈으로 볼 수 있게 하는 내장함수\")"
   ]
  },
  {
   "cell_type": "code",
   "execution_count": 3,
   "metadata": {},
   "outputs": [
    {
     "ename": "SyntaxError",
     "evalue": "invalid syntax (<ipython-input-3-a75fabd38d06>, line 1)",
     "output_type": "error",
     "traceback": [
      "\u001b[1;36m  File \u001b[1;32m\"<ipython-input-3-a75fabd38d06>\"\u001b[1;36m, line \u001b[1;32m1\u001b[0m\n\u001b[1;33m    샵 기호를 처음에 쓰면 그 줄은 파이썬이 무시한다 (코드 설명 등을 위해 사용)\u001b[0m\n\u001b[1;37m      ^\u001b[0m\n\u001b[1;31mSyntaxError\u001b[0m\u001b[1;31m:\u001b[0m invalid syntax\n"
     ]
    }
   ],
   "source": [
    "샵 기호를 처음에 쓰면 그 줄은 파이썬이 무시한다 (코드 설명 등을 위해 사용)"
   ]
  },
  {
   "cell_type": "code",
   "execution_count": 4,
   "metadata": {},
   "outputs": [
    {
     "name": "stdout",
     "output_type": "stream",
     "text": [
      "1\n",
      "2\n"
     ]
    }
   ],
   "source": [
    "# 파이썬은 위에서 아래로 읽는다\n",
    "print(1)\n",
    "print(2)"
   ]
  },
  {
   "cell_type": "code",
   "execution_count": 5,
   "metadata": {},
   "outputs": [],
   "source": [
    "#######\n",
    "# 문제: 1에서 3까지 순서대로 print 해보자\n",
    "#######"
   ]
  },
  {
   "cell_type": "markdown",
   "metadata": {},
   "source": [
    "#### 1. 변수(variable) 써 보기"
   ]
  },
  {
   "cell_type": "code",
   "execution_count": 6,
   "metadata": {},
   "outputs": [
    {
     "name": "stdout",
     "output_type": "stream",
     "text": [
      "1\n"
     ]
    }
   ],
   "source": [
    "# a라고 하는 변수에 값 1을 할당\n",
    "## 파이썬에서 = 기호는 동치가 아닌 할당.\n",
    "## 동치: a는 1이랑 같아? 일종의 질문\n",
    "## 할당: a는 1이야. 정해주기.\n",
    "a = 1\n",
    "\n",
    "print(a)"
   ]
  },
  {
   "cell_type": "code",
   "execution_count": 7,
   "metadata": {},
   "outputs": [
    {
     "name": "stdout",
     "output_type": "stream",
     "text": [
      "1\n",
      "2\n"
     ]
    }
   ],
   "source": [
    "a = 1\n",
    "b = 2\n",
    "\n",
    "print(a)\n",
    "print(b)"
   ]
  },
  {
   "cell_type": "code",
   "execution_count": 8,
   "metadata": {},
   "outputs": [
    {
     "name": "stdout",
     "output_type": "stream",
     "text": [
      "True\n",
      "False\n"
     ]
    }
   ],
   "source": [
    "# 동치(==) 사용해보기\n",
    "print(a == 1)\n",
    "print(b == 1)"
   ]
  },
  {
   "cell_type": "code",
   "execution_count": 29,
   "metadata": {},
   "outputs": [
    {
     "name": "stdout",
     "output_type": "stream",
     "text": [
      "규칙 1 : 변수 이름에는 다음 문자만 사용 가능하다\n",
      "알파벳(A-Z, a-z) / 숫자(0-9) / 언더스코어(_)\n",
      "\n",
      "규칙 2 : 변수 이름은 숫자로 시작할 수 없다\n",
      "\n",
      "규칙 3 : 파이썬 예악어(내장함수)는 변수 이름으로 사용할 수 없다 - 외울 필요 없음\n",
      "\n",
      "Here is a list of the Python keywords.  Enter any keyword to get more help.\n",
      "\n",
      "False               break               for                 not\n",
      "None                class               from                or\n",
      "True                continue            global              pass\n",
      "__peg_parser__      def                 if                  raise\n",
      "and                 del                 import              return\n",
      "as                  elif                in                  try\n",
      "assert              else                is                  while\n",
      "async               except              lambda              with\n",
      "await               finally             nonlocal            yield\n",
      "\n"
     ]
    }
   ],
   "source": [
    "# 변수 이름은 마음대로, 몇 가지 규칙만 지키면서!\n",
    "\n",
    "print(\"규칙 1 : 변수 이름에는 다음 문자만 사용 가능하다\")\n",
    "print(\"알파벳(A-Z, a-z) / 숫자(0-9) / 언더스코어(_)\\n\")\n",
    "\n",
    "print(\"규칙 2 : 변수 이름은 숫자로 시작할 수 없다\\n\")\n",
    "\n",
    "print(\"규칙 3 : 파이썬 예악어(내장함수)는 변수 이름으로 사용할 수 없다 - 외울 필요 없음\")\n",
    "help('keywords')"
   ]
  },
  {
   "cell_type": "code",
   "execution_count": 11,
   "metadata": {},
   "outputs": [],
   "source": [
    "#######\n",
    "# 문제: 아래 중에서 틀린 변수 사용은 (정답은 주석 없애고 확인)\n",
    "#######\n",
    "\n",
    "# a_0 = 0\n",
    "# _0a = 1\n",
    "# 0a_ = 2"
   ]
  },
  {
   "cell_type": "markdown",
   "metadata": {},
   "source": [
    "#### 2. 파이썬 자료형(data type) 맛보기"
   ]
  },
  {
   "cell_type": "code",
   "execution_count": 12,
   "metadata": {},
   "outputs": [
    {
     "name": "stdout",
     "output_type": "stream",
     "text": [
      "파이썬 자료형 : 파이썬에서 다룰 수 있는 정보의 종류\n",
      "자료형 종류 : 숫자, 문자열, 부울, 리스트, 튜플, 셋, 딕셔너리\n",
      "\n",
      "자료형은 처음에 지겹지만 한번 알면 유용하게 쓴다!\n"
     ]
    }
   ],
   "source": [
    "print(\"파이썬 자료형 : 파이썬에서 다룰 수 있는 정보의 종류\")\n",
    "print(\"자료형 종류 : 숫자, 문자열, 부울, 리스트, 튜플, 셋, 딕셔너리\\n\")\n",
    "\n",
    "print(\"자료형은 처음에 지겹지만 한번 알면 유용하게 쓴다!\")"
   ]
  },
  {
   "cell_type": "code",
   "execution_count": 14,
   "metadata": {},
   "outputs": [
    {
     "name": "stdout",
     "output_type": "stream",
     "text": [
      "1\n",
      "<class 'int'>\n"
     ]
    }
   ],
   "source": [
    "# 숫자형\n",
    "print(1)\n",
    "print(type(1))"
   ]
  },
  {
   "cell_type": "code",
   "execution_count": 15,
   "metadata": {},
   "outputs": [
    {
     "name": "stdout",
     "output_type": "stream",
     "text": [
      "1\n",
      "<class 'int'>\n"
     ]
    }
   ],
   "source": [
    "a = 1\n",
    "\n",
    "print(a)\n",
    "print(type(a))"
   ]
  },
  {
   "cell_type": "code",
   "execution_count": 52,
   "metadata": {},
   "outputs": [
    {
     "name": "stdout",
     "output_type": "stream",
     "text": [
      "이건 문자 자료형\n",
      "이것도 문자 자료형\n",
      "역시 문자 자료형\n"
     ]
    }
   ],
   "source": [
    "# 문자열\n",
    "print(\"이건 문자 자료형\")\n",
    "print('이것도 문자 자료형')\n",
    "print(\"\"\"역시 문자 자료형\"\"\")"
   ]
  },
  {
   "cell_type": "code",
   "execution_count": 54,
   "metadata": {},
   "outputs": [
    {
     "name": "stdout",
     "output_type": "stream",
     "text": [
      "True\n",
      "False\n"
     ]
    }
   ],
   "source": [
    "# 부울(부울린, boolean)\n",
    "## 참이냐 거짓이냐 (논리적 연산 수행시 많이 쓰임)\n",
    "print(True)\n",
    "print(False)"
   ]
  },
  {
   "cell_type": "code",
   "execution_count": 59,
   "metadata": {},
   "outputs": [
    {
     "name": "stdout",
     "output_type": "stream",
     "text": [
      "[0, 1, 2, 3]\n",
      "[0, '가', True, [0, 1, 2, 3]]\n"
     ]
    }
   ],
   "source": [
    "# 리스트\n",
    "## 여러 객체들을 모아둔 모음\n",
    "list_ = [0, 1, 2, 3]\n",
    "print(list_)\n",
    "\n",
    "list_ = [0, \"가\", True, [0, 1, 2, 3]]\n",
    "print(list_)"
   ]
  },
  {
   "cell_type": "code",
   "execution_count": 63,
   "metadata": {},
   "outputs": [
    {
     "name": "stdout",
     "output_type": "stream",
     "text": [
      "(0, 1, 2, 3)\n",
      "[0, '가', True, [0, 1, 2, 3]]\n",
      "<class 'tuple'>\n"
     ]
    }
   ],
   "source": [
    "# 튜플\n",
    "## 값을 바꿀 수 없는 리스트.\n",
    "## 값이 절대 바뀌면 안되는 경우 많이 사용, 그리고 리스트보다 메모리 효율성이 좋다\n",
    "tuple_ = (0, 1, 2, 3)\n",
    "print(tuple_)\n",
    "\n",
    "tuple_ = [0, \"가\", True, [0, 1, 2, 3]]\n",
    "print(tuple_)\n",
    "\n",
    "tuple_ = 0, 1, 2, 3\n",
    "print(type(tuple_))"
   ]
  },
  {
   "cell_type": "code",
   "execution_count": 18,
   "metadata": {},
   "outputs": [
    {
     "name": "stdout",
     "output_type": "stream",
     "text": [
      "<class 'set'>\n"
     ]
    }
   ],
   "source": [
    "# 셋(set)\n",
    "## 값이 고유한(uinique) 리스트\n",
    "## set은 생성하는 방법이 좀 특이. 튜플보다 셋이 늦게 나와서 괄호를 뺏겨부림\n",
    "set_ = set([1,2,3])\n",
    "print(type(set_))"
   ]
  },
  {
   "cell_type": "code",
   "execution_count": 74,
   "metadata": {},
   "outputs": [
    {
     "name": "stdout",
     "output_type": "stream",
     "text": [
      "{'key_0': 0, 'key_1': 1, 'key_2': 2}\n"
     ]
    }
   ],
   "source": [
    "# 딕셔너리\n",
    "## key와 key에 대응하는 값, 즉 key-value라는 쌍들로 이루어진 집단\n",
    "dict_ = {\"key_0\":0, \"key_1\":1, \"key_2\":2}\n",
    "print(dict_)\n",
    "\n",
    "\n",
    "## 이런 경우에 많이 쓰임\n",
    "# dict_ = {\"무도 맴버\":(\"유재석\", \"박명수\", \"정준하\", \"노홍철\", \"하하\"), \"러닝맨 맴버\":(\"유재석\", \"하하\", \"김종국\", \"송지효\", \"이광수\")}\n",
    "# print(dict_)\n",
    "\n",
    "# print(dict_[\"무도 맴버\"])"
   ]
  },
  {
   "cell_type": "code",
   "execution_count": null,
   "metadata": {},
   "outputs": [],
   "source": []
  }
 ],
 "metadata": {
  "kernelspec": {
   "display_name": "Python 3",
   "language": "python",
   "name": "python3"
  },
  "language_info": {
   "codemirror_mode": {
    "name": "ipython",
    "version": 3
   },
   "file_extension": ".py",
   "mimetype": "text/x-python",
   "name": "python",
   "nbconvert_exporter": "python",
   "pygments_lexer": "ipython3",
   "version": "3.8.5"
  }
 },
 "nbformat": 4,
 "nbformat_minor": 5
}
