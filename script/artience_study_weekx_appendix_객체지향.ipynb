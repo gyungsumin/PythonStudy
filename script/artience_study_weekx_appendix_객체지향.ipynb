{
 "cells": [
  {
   "cell_type": "markdown",
   "metadata": {},
   "source": [
    "reference<br>\n",
    "https://www.youtube.com/watch?v=A7d1mMdhePY"
   ]
  },
  {
   "cell_type": "markdown",
   "metadata": {},
   "source": [
    "간단하게 객체 설명"
   ]
  },
  {
   "cell_type": "markdown",
   "metadata": {},
   "source": [
    "<h2>0. 지금까지 했던 방식으로 \"학생별 점수 총합과 평균을 프린트하는 기능\"을 코딩 해보자</h2>"
   ]
  },
  {
   "cell_type": "code",
   "execution_count": 3,
   "metadata": {},
   "outputs": [
    {
     "name": "stdout",
     "output_type": "stream",
     "text": [
      "이름\t총점\t평균\n",
      "윤인선\t368\t92.0\n",
      "연하진\t384\t96.0\n",
      "구지연\t356\t89.0\n",
      "나선주\t378\t94.5\n",
      "윤아린\t389\t97.25\n",
      "윤명월\t337\t84.25\n"
     ]
    }
   ],
   "source": [
    "# 학생과 시험점수 리스트 생성\n",
    "students = [\n",
    "    {\"name\": \"윤인선\", \"korean\": 87, \"english\": 88, \"math\": 98, \"science\": 95},\n",
    "    {\"name\": \"연하진\", \"korean\": 92, \"english\": 96, \"math\": 98, \"science\": 98},\n",
    "    {\"name\": \"구지연\", \"korean\": 76, \"english\": 94, \"math\": 96, \"science\": 90},\n",
    "    {\"name\": \"나선주\", \"korean\": 98, \"english\": 96, \"math\": 92, \"science\": 92},\n",
    "    {\"name\": \"윤아린\", \"korean\": 95, \"english\": 98, \"math\": 98, \"science\": 98},\n",
    "    {\"name\": \"윤명월\", \"korean\": 65, \"english\": 92, \"math\": 88, \"science\": 92}\n",
    "]\n",
    "\n",
    "# 학생을 한명씩 반복\n",
    "print(\"이름\", \"총점\", \"평균\", sep=\"\\t\")\n",
    "for student in students:\n",
    "    # 점수의 총합과 평균을 구한다\n",
    "    score_sum = student[\"korean\"] + student[\"english\"] + student[\"math\"] + student[\"science\"]\n",
    "    score_average = score_sum / 4\n",
    "    \n",
    "    # 출력\n",
    "    print(student[\"name\"], score_sum, score_average, sep=\"\\t\")"
   ]
  },
  {
   "cell_type": "markdown",
   "metadata": {},
   "source": [
    "<h2>1-1. 조금 더 객체지향스럽게<font color=red>(함수 사용)</font> \"학생별 점수 총합과 평균을 프린트하는 기능\"을 코딩 해보자</h2>\n",
    "어떻게 함수를 구조화할지 모르겠다면? - 기능별로 자르자"
   ]
  },
  {
   "cell_type": "code",
   "execution_count": 6,
   "metadata": {},
   "outputs": [
    {
     "name": "stdout",
     "output_type": "stream",
     "text": [
      "이름\t총점\t평균\n",
      "윤인선\t368\t92.0\n",
      "연하진\t384\t96.0\n",
      "구지연\t356\t89.0\n",
      "나선주\t378\t94.5\n",
      "윤아린\t389\t97.25\n",
      "윤명월\t337\t84.25\n"
     ]
    }
   ],
   "source": [
    "# 학생과 시험점수 리스트 생성\n",
    "students = [\n",
    "    {\"name\": \"윤인선\", \"korean\": 87, \"english\": 88, \"math\": 98, \"science\": 95},\n",
    "    {\"name\": \"연하진\", \"korean\": 92, \"english\": 96, \"math\": 98, \"science\": 98},\n",
    "    {\"name\": \"구지연\", \"korean\": 76, \"english\": 94, \"math\": 96, \"science\": 90},\n",
    "    {\"name\": \"나선주\", \"korean\": 98, \"english\": 96, \"math\": 92, \"science\": 92},\n",
    "    {\"name\": \"윤아린\", \"korean\": 95, \"english\": 98, \"math\": 98, \"science\": 98},\n",
    "    {\"name\": \"윤명월\", \"korean\": 65, \"english\": 92, \"math\": 88, \"science\": 92}\n",
    "]\n",
    "\n",
    "# 기능별로 함수를 만들어보자\n",
    "def score_sum(student):\n",
    "    return student[\"korean\"] + student[\"english\"] + student[\"math\"] + student[\"science\"]\n",
    "\n",
    "def score_average(student):\n",
    "    return score_sum(student) / 4\n",
    "\n",
    "def print_result(student):\n",
    "    print(student[\"name\"], score_sum(student), score_average(student), sep=\"\\t\")\n",
    "    \n",
    "\n",
    "# 학생을 한명씩 반복\n",
    "print(\"이름\", \"총점\", \"평균\", sep=\"\\t\")\n",
    "for student in students:\n",
    "    print_result(student)"
   ]
  },
  {
   "cell_type": "markdown",
   "metadata": {},
   "source": [
    "<h3>어떤게 달라졌을까?</h3><br>\n",
    "1. 필요한 속성(값, 또는 변수-여기서는 딕셔너리)과 행위(각종 함수들)가 양분되어 코딩되었다.<br>\n",
    "2. 기존보다 코드가 길어졌다. 하지만, 기존 코드와 달리 <font color=red>특정 기능을 하기 위한 속성과 행위를 명확히 나누어 코딩</font>했다. 이로 인해 실제 코드를 돌리는 부분인 가장 하단 for loop 부분은 매우매우 간단해졌다.\n",
    "\n",
    "<h3>아직도 부족하다</h3><br>\n",
    "1. 속성(데이터)가 추가되면 매번 한 줄 앤터 치고 복붙하고 딕셔너리 안의 값들을 바꿔줘야 한다. 귀찮다. 위험하다. 코드가 무식해 보인다."
   ]
  },
  {
   "cell_type": "markdown",
   "metadata": {},
   "source": [
    "<h2>1-2. 객체 생성 함수를 만들어서 보완</h2>"
   ]
  },
  {
   "cell_type": "code",
   "execution_count": 13,
   "metadata": {},
   "outputs": [
    {
     "name": "stdout",
     "output_type": "stream",
     "text": [
      "이름\t총점\t평균\n",
      "윤인선\t368\t92.0\n",
      "연하진\t384\t96.0\n",
      "구지연\t356\t89.0\n",
      "나선주\t378\t94.5\n",
      "윤아린\t389\t97.25\n",
      "윤명월\t337\t84.25\n"
     ]
    }
   ],
   "source": [
    "# 객체 생성 함수\n",
    "def create_student(name, korean, english, math, science):\n",
    "    return {\n",
    "        \"name\": name,\n",
    "        \"korean\": korean,\n",
    "        \"english\": english,\n",
    "        \"math\": math,\n",
    "        \"science\": science\n",
    "    }\n",
    "\n",
    "# 기능별로 함수를 만들어보자\n",
    "def score_sum(student):\n",
    "    return student[\"korean\"] + student[\"english\"] + student[\"math\"] + student[\"science\"]\n",
    "\n",
    "def score_average(student):\n",
    "    return score_sum(student) / 4\n",
    "\n",
    "def print_result(student):\n",
    "    print(student[\"name\"], score_sum(student), score_average(student), sep=\"\\t\")\n",
    "    \n",
    "    \n",
    "# 학생과 시험점수 리스트 생성\n",
    "students = [\n",
    "    create_student(\"윤인선\", 87, 88, 98, 95),\n",
    "    create_student(\"연하진\", 92, 96, 98, 98),\n",
    "    create_student(\"구지연\", 76, 94, 96, 90),\n",
    "    create_student(\"나선주\", 98, 96, 92, 92),\n",
    "    create_student(\"윤아린\", 95, 98, 98, 98),\n",
    "    create_student(\"윤명월\", 65, 92, 88, 92)\n",
    "]\n",
    "\n",
    "\n",
    "# 학생을 한명씩 반복\n",
    "print(\"이름\", \"총점\", \"평균\", sep=\"\\t\")\n",
    "for student in students:\n",
    "    print_result(student)"
   ]
  },
  {
   "cell_type": "markdown",
   "metadata": {},
   "source": [
    "<h3>어떤게 달라졌을까?</h3><br>\n",
    "1. 반복코딩이 사라졌다. 속성(데이터값) 부분이 더 깔끔해 보인다.\n",
    "\n",
    "<h3>너를 위해 준비했어</h3><br>\n",
    "지금까지 한 코딩이 바로 객체지향 코딩이다. <font color=red>특정 기능(학생별로 점수정보 출력)</font>을 수행하는 스크립트를 <font color=red>속성(값, 변수)</font>과 <font color=red>행동(함수)</font>로 양분해서 코딩했다.<br>\n",
    "이로 인해 코드가 깔끔해졌고(역할에 따라 나누어짐) 유지보수가 쉬워졌다.<br>\n",
    "많은 프로그래머들이 이러한 객체지향 코딩을 하기 때문에, 이러한 구조를 쉽게 만들어주는 하나의 구문을 추가했음.<br>\n",
    "이것이 바로 <font color=red>class</font>.<br>\n",
    "\n",
    "<h4> class : 특정 기능을 수행하는데 필요한 속성(들)+행위(들)</h4>"
   ]
  },
  {
   "cell_type": "markdown",
   "metadata": {},
   "source": [
    "<h2>2. <font color=red size=6>class</font>를 사용해 객체지향 프로그래밍을 해 보자!</h2>"
   ]
  },
  {
   "cell_type": "code",
   "execution_count": 16,
   "metadata": {},
   "outputs": [],
   "source": [
    "# class의 기본 형태. 엥? 변수는 어디있고 함수는 어디있지?\n",
    "class DoSomething():\n",
    "    pass"
   ]
  },
  {
   "cell_type": "code",
   "execution_count": 18,
   "metadata": {},
   "outputs": [
    {
     "data": {
      "text/plain": [
       "<__main__.DoSomething at 0x1964e4fa370>"
      ]
     },
     "execution_count": 18,
     "metadata": {},
     "output_type": "execute_result"
    }
   ],
   "source": [
    "a = DoSomething()\n",
    "a"
   ]
  },
  {
   "cell_type": "markdown",
   "metadata": {},
   "source": [
    "<h3>여기서 잠깐, 공백이 있는 식별자를 사용하는 방법</h3>"
   ]
  },
  {
   "cell_type": "markdown",
   "metadata": {},
   "source": [
    "[스네이크 케이스]<br>\n",
    "i_love_you -> 함수 명 변수 명<br>\n",
    "I_LOVE_YOU -> 일반적으로 상수변수\n",
    "\n",
    "[카멜 케이스]<br>\n",
    "ILoveYou -> 클래스 명<br>\n",
    "iLoveYou -> 파이썬에서는 사용하지 않음"
   ]
  },
  {
   "cell_type": "code",
   "execution_count": 25,
   "metadata": {},
   "outputs": [],
   "source": [
    "# class는 하나의 틀이다. \"학생\"이라는 틀을 먼저 만들어보자.\n",
    "class Student():\n",
    "    pass"
   ]
  },
  {
   "cell_type": "code",
   "execution_count": 26,
   "metadata": {},
   "outputs": [
    {
     "data": {
      "text/plain": [
       "<__main__.Student at 0x1964e4b0580>"
      ]
     },
     "execution_count": 26,
     "metadata": {},
     "output_type": "execute_result"
    }
   ],
   "source": [
    "# class라는 틀을 실체화하는 방법. 바로 객체로 만들기.\n",
    "# 실체화된 객체 == 인스턴스\n",
    "gsmin = Student()"
   ]
  },
  {
   "cell_type": "code",
   "execution_count": 27,
   "metadata": {},
   "outputs": [
    {
     "name": "stdout",
     "output_type": "stream",
     "text": [
      "객체가 생성되었습니다\n"
     ]
    }
   ],
   "source": [
    "# class가 지원하는 함수들(__로 시작해서 __로 끝남) 중 \"생성자\" -> __init__\n",
    "# __init__ : class가 실체화될 때 자동으로 호출되는 함수.\n",
    "# __init__ 함수는 무조건 첫 번째 인자로 self를 받는다.\n",
    "class Student():\n",
    "    def __init__(self):\n",
    "        print(\"객체가 생성되었습니다\")\n",
    "        \n",
    "gsmin = Student()"
   ]
  },
  {
   "cell_type": "markdown",
   "metadata": {},
   "source": [
    "<h3>한번 더 환기해보자. class는 특정 기능을 위한 속성과 행위를 모아서 보관하는 틀이다.</h3>"
   ]
  },
  {
   "cell_type": "code",
   "execution_count": 31,
   "metadata": {},
   "outputs": [
    {
     "name": "stdout",
     "output_type": "stream",
     "text": [
      "객체가 생성되었습니다\n"
     ]
    },
    {
     "data": {
      "text/plain": [
       "'민경수'"
      ]
     },
     "execution_count": 31,
     "metadata": {},
     "output_type": "execute_result"
    }
   ],
   "source": [
    "# class에 속성(변수)을 부여하는 방법\n",
    "# 생성자에 아래와 같이 필요한 변수들을 삽입\n",
    "class Student():\n",
    "    def __init__(self, name, age):\n",
    "        self.name = name\n",
    "        self.age = age\n",
    "        print(\"객체가 생성되었습니다\")\n",
    "        \n",
    "gsmin = Student(name=\"민경수\", age=29)\n",
    "\n",
    "\n",
    "# 생성한 객체의 속성에 접근해보자\n",
    "gsmin.name"
   ]
  },
  {
   "cell_type": "code",
   "execution_count": 37,
   "metadata": {},
   "outputs": [
    {
     "name": "stdout",
     "output_type": "stream",
     "text": [
      "객체가 생성되었습니다\n",
      "이름 / 민경수 / 나이 / 29\n"
     ]
    }
   ],
   "source": [
    "# class에 행위(함수)를 만드는 방법\n",
    "# class가 가지고 있는 함수를 특별히 \"메서드 / method\"라고도 부른다.\n",
    "class Student():\n",
    "    def __init__(self, name, age):\n",
    "        self.name = name\n",
    "        self.age = age\n",
    "        print(\"객체가 생성되었습니다\")\n",
    "        \n",
    "    def print_info(self):\n",
    "        info = r\" / \".join([\"이름\", str(self.name), \"나이\", str(self.age)])\n",
    "        print(info)\n",
    "        \n",
    "gsmin = Student(name=\"민경수\", age=29)\n",
    "\n",
    "\n",
    "# 생성한 객체의 매서드에 접근해보자\n",
    "gsmin.print_info()"
   ]
  },
  {
   "cell_type": "code",
   "execution_count": null,
   "metadata": {},
   "outputs": [],
   "source": []
  },
  {
   "cell_type": "code",
   "execution_count": null,
   "metadata": {},
   "outputs": [],
   "source": []
  },
  {
   "cell_type": "markdown",
   "metadata": {},
   "source": [
    "<h1>class? 언제, 그리고  왜 쓰일까?</h1><br>\n",
    "<h3>0. 작업의 논리적인 묶음이다.</h3>\n",
    "- 하나의 큰 기능을 하는 여러 <font color=red>함수</font>들을 묶어줄 수 있다<br>\n",
    "- 해당 기능을 위해 필요한 여러 <font color=red>변수</font>들도 class에 함께 묶어줄 수 있기 때문에 관리가 편하고 논리적이다\n",
    "<h3>1. 특정 상황에서 함수보다 반복사용 성능이 더욱 좋다.</h3>\n",
    "- e.g. 계산기나 게임 케릭터처럼 변수의 기억&객체의 반복 생성 case에 class는 유용하다\\\n"
   ]
  },
  {
   "cell_type": "code",
   "execution_count": null,
   "metadata": {},
   "outputs": [],
   "source": []
  }
 ],
 "metadata": {
  "kernelspec": {
   "display_name": "Python 3",
   "language": "python",
   "name": "python3"
  },
  "language_info": {
   "codemirror_mode": {
    "name": "ipython",
    "version": 3
   },
   "file_extension": ".py",
   "mimetype": "text/x-python",
   "name": "python",
   "nbconvert_exporter": "python",
   "pygments_lexer": "ipython3",
   "version": "3.8.5"
  }
 },
 "nbformat": 4,
 "nbformat_minor": 4
}
