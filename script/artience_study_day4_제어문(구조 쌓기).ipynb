{
 "cells": [
  {
   "cell_type": "code",
   "execution_count": 1,
   "metadata": {},
   "outputs": [
    {
     "name": "stdout",
     "output_type": "stream",
     "text": [
      "제어문 : 코드 구조를 쌓기(고3때 배운 수학 알고리즘단원)\n"
     ]
    }
   ],
   "source": [
    "# 지금까지 배운 것들은 모두 \"값\"들임.\n",
    "# 오늘 볼 것들은 코드 구조를 쌓는 제어문.\n",
    "\n",
    "print(\"제어문 : 코드 구조를 쌓기(고3때 배운 수학 알고리즘단원)\")"
   ]
  },
  {
   "cell_type": "code",
   "execution_count": 2,
   "metadata": {},
   "outputs": [
    {
     "name": "stdout",
     "output_type": "stream",
     "text": [
      "파이썬은 프로그램의 구조를 정의하기 위해 \"공백\"을 사용하는 흔치 않은 언어다(라고 한다).\n"
     ]
    }
   ],
   "source": [
    "print(\"파이썬은 프로그램의 구조를 정의하기 위해 \\\"공백\\\"을 사용하는 흔치 않은 언어다(라고 한다).\")"
   ]
  },
  {
   "cell_type": "markdown",
   "metadata": {},
   "source": [
    "#### 0. 비교하기 : if elif else문"
   ]
  },
  {
   "cell_type": "code",
   "execution_count": 6,
   "metadata": {},
   "outputs": [
    {
     "name": "stdout",
     "output_type": "stream",
     "text": [
      "충분\n"
     ]
    }
   ],
   "source": [
    "# 구조\n",
    "apple = 2\n",
    "\n",
    "if apple >= 2:\n",
    "    print(\"충분\")\n",
    "elif apple >= 1:\n",
    "    print(\"위험\")\n",
    "else:  # apple < 1\n",
    "    print(\"고갈\")"
   ]
  },
  {
   "cell_type": "code",
   "execution_count": 7,
   "metadata": {},
   "outputs": [
    {
     "name": "stdout",
     "output_type": "stream",
     "text": [
      "if\n"
     ]
    }
   ],
   "source": [
    "# if...else문의 근본적인 작동 방식을 살펴보자\n",
    "\n",
    "if True:\n",
    "    print(\"if\")\n",
    "elif True:\n",
    "    print(\"elif\")\n",
    "else:  # 위 조건들이 모두 False일 경우\n",
    "    print(\"else\")"
   ]
  },
  {
   "cell_type": "code",
   "execution_count": 9,
   "metadata": {},
   "outputs": [
    {
     "name": "stdout",
     "output_type": "stream",
     "text": [
      "elif1\n"
     ]
    }
   ],
   "source": [
    "# elif는 많이 사용 가능하다\n",
    "\n",
    "if False:\n",
    "    print(\"if\")\n",
    "elif False:\n",
    "    print(\"elif0\")\n",
    "elif True:\n",
    "    print(\"elif1\")\n",
    "elif True:\n",
    "    print(\"elif2\")\n",
    "else:  # 위 조건들이 모두 False일 경우\n",
    "    print(\"else\")"
   ]
  },
  {
   "cell_type": "code",
   "execution_count": 15,
   "metadata": {},
   "outputs": [
    {
     "name": "stdout",
     "output_type": "stream",
     "text": [
      "This is an apple\n",
      "This is an apple\n"
     ]
    }
   ],
   "source": [
    "# 사용 가능한 조건들 예시\n",
    "\n",
    "## 기본적인 비교연산\n",
    "fruit = \"apple\"\n",
    "if fruit == \"apple\":\n",
    "    print(\"This is an apple\")\n",
    "else:\n",
    "    print(\"This is not an apple\")\n",
    "    \n",
    "if fruit != \"apple\":\n",
    "    print(\"This is not an apple\")\n",
    "else:\n",
    "    print(\"This is an apple\")"
   ]
  },
  {
   "cell_type": "code",
   "execution_count": 20,
   "metadata": {},
   "outputs": [
    {
     "name": "stdout",
     "output_type": "stream",
     "text": [
      "I can't eat it\n",
      "I can't eat peach\n"
     ]
    }
   ],
   "source": [
    "## or 연산\n",
    "fruit = \"peach\"\n",
    "\n",
    "if fruit in [\"apple\", \"banana\", \"pear\"]:\n",
    "    print(\"I like it\")\n",
    "elif fruit == \"peach\":\n",
    "    print(\"I can't eat it\")\n",
    "else:\n",
    "    print(\"I don't like it\")\n",
    "    \n",
    "\n",
    "## 응용\n",
    "if fruit in [\"apple\", \"banana\", \"pear\"]:\n",
    "    print(\"I like {}\".format(fruit))\n",
    "elif fruit == \"peach\":\n",
    "    print(\"I can't eat {}\".format(fruit))\n",
    "else:\n",
    "    print(\"I don't like {}\".format(fruit))"
   ]
  },
  {
   "cell_type": "code",
   "execution_count": 26,
   "metadata": {},
   "outputs": [
    {
     "name": "stdout",
     "output_type": "stream",
     "text": [
      "1\n"
     ]
    }
   ],
   "source": [
    "## 논리연산\n",
    "\n",
    "a = 1\n",
    "b = -1\n",
    "\n",
    "if (a >= 0) and (b >= 0):\n",
    "    print(0)\n",
    "    \n",
    "if (a >= 0) or (b >= 0):\n",
    "    print(1)"
   ]
  },
  {
   "cell_type": "markdown",
   "metadata": {},
   "source": [
    "#### 1. 한번 이상 실행하기(루프) : while"
   ]
  },
  {
   "cell_type": "code",
   "execution_count": 7,
   "metadata": {},
   "outputs": [
    {
     "name": "stdout",
     "output_type": "stream",
     "text": [
      "0\n",
      "1\n",
      "2\n",
      "3\n",
      "4\n",
      "5\n"
     ]
    }
   ],
   "source": [
    "# 0부터 5까지 프린트해야 한다\n",
    "count = 0\n",
    "\n",
    "while count < 6:\n",
    "    print(count)\n",
    "    count += 1"
   ]
  },
  {
   "cell_type": "code",
   "execution_count": 9,
   "metadata": {},
   "outputs": [
    {
     "name": "stdout",
     "output_type": "stream",
     "text": [
      "0\n",
      "1\n",
      "2\n",
      "3\n",
      "4\n",
      "5\n"
     ]
    }
   ],
   "source": [
    "# break : 제어문을 중단하고 벗어난다\n",
    "count = 0\n",
    "\n",
    "while True:\n",
    "    if count > 5:\n",
    "        break\n",
    "    else:\n",
    "        print(count)\n",
    "        count += 1\n",
    "# 효율적인 코드는 x. 일단 break는 이렇게 쓰는 것."
   ]
  },
  {
   "cell_type": "code",
   "execution_count": 25,
   "metadata": {},
   "outputs": [
    {
     "name": "stdout",
     "output_type": "stream",
     "text": [
      "1\n",
      "2\n",
      "3\n",
      "4\n",
      "5\n",
      "7\n",
      "8\n",
      "9\n",
      "10\n",
      "11\n",
      "13\n",
      "14\n",
      "15\n",
      "16\n",
      "17\n",
      "19\n",
      "20\n",
      "21\n"
     ]
    }
   ],
   "source": [
    "# continue : 현재 루프를 중단하고 다음 루프로 넘어간다\n",
    "## 문제 : 1에서 20 사이 정수 중, 6의 배수가 아닌 정수만 프린트\n",
    "\n",
    "num = 0\n",
    "\n",
    "while num <= 20:\n",
    "    num += 1\n",
    "    if num % 6 == 0:\n",
    "        continue\n",
    "    print(num)  # 만약 6의 배수면 프린트되서는 안됨!\n",
    "            # pass"
   ]
  },
  {
   "cell_type": "markdown",
   "metadata": {},
   "source": [
    "#### 2. 특정 구간이나 자료를 순회하기 : for"
   ]
  },
  {
   "cell_type": "code",
   "execution_count": 6,
   "metadata": {},
   "outputs": [
    {
     "name": "stdout",
     "output_type": "stream",
     "text": [
      "방법 1\n",
      "0\n",
      "1\n",
      "2\n",
      "3\n",
      "4\n",
      "5\n",
      "\n",
      "방법 1\n",
      "0\n",
      "1\n",
      "2\n",
      "3\n",
      "4\n",
      "5\n"
     ]
    }
   ],
   "source": [
    "# 0부터 5까지 프린트해야 한다\n",
    "\n",
    "## 방법 1\n",
    "print(\"방법 1\")\n",
    "print(0)\n",
    "print(1)\n",
    "print(2)\n",
    "print(3)\n",
    "print(4)\n",
    "print(5)\n",
    "\n",
    "## 방법 2\n",
    "print(\"\\n방법 1\")\n",
    "count = 0\n",
    "while count < 6:\n",
    "    print(count)\n",
    "    count += 1\n",
    "    \n",
    "## 둘 다 더러워서 보기 싫어짐"
   ]
  },
  {
   "cell_type": "code",
   "execution_count": 26,
   "metadata": {},
   "outputs": [
    {
     "name": "stdout",
     "output_type": "stream",
     "text": [
      "0\n",
      "1\n",
      "2\n",
      "3\n",
      "4\n",
      "5\n"
     ]
    }
   ],
   "source": [
    "# for문으로 깔끔하게\n",
    "for i in [0, 1, 2, 3, 4 ,5]:\n",
    "    print(i)"
   ]
  },
  {
   "cell_type": "code",
   "execution_count": 27,
   "metadata": {},
   "outputs": [
    {
     "name": "stdout",
     "output_type": "stream",
     "text": [
      "0\n",
      "1\n",
      "2\n",
      "3\n",
      "4\n",
      "5\n"
     ]
    }
   ],
   "source": [
    "# 조금 더 우아하게 루프 생성 : range() 활용\n",
    "for i in range(6):\n",
    "    print(i)"
   ]
  },
  {
   "cell_type": "code",
   "execution_count": 28,
   "metadata": {},
   "outputs": [
    {
     "name": "stdout",
     "output_type": "stream",
     "text": [
      "2\n",
      "3\n",
      "4\n",
      "5\n"
     ]
    }
   ],
   "source": [
    "# 처음과 끝 범위 설정\n",
    "for i in range(1, 6):\n",
    "    print(i)"
   ]
  },
  {
   "cell_type": "code",
   "execution_count": 29,
   "metadata": {},
   "outputs": [
    {
     "name": "stdout",
     "output_type": "stream",
     "text": [
      "1\n",
      "3\n",
      "5\n"
     ]
    }
   ],
   "source": [
    "# 건너뛰면서 범위 설정\n",
    "for i in range(1, 6, 2):\n",
    "    print(i)"
   ]
  },
  {
   "cell_type": "code",
   "execution_count": 51,
   "metadata": {},
   "outputs": [
    {
     "name": "stdout",
     "output_type": "stream",
     "text": [
      "6\n",
      "5\n",
      "4\n",
      "3\n",
      "2\n",
      "1\n",
      "0\n"
     ]
    }
   ],
   "source": [
    "# range 범위 반대로 돌리기\n",
    "for i in range(6, -1, -1):\n",
    "    print(i)"
   ]
  },
  {
   "cell_type": "code",
   "execution_count": 64,
   "metadata": {},
   "outputs": [
    {
     "name": "stdout",
     "output_type": "stream",
     "text": [
      "0\n",
      "6\n",
      "12\n",
      "18\n"
     ]
    }
   ],
   "source": [
    "# for 연습 : 20 이하 양의 정수 중 6의 배수 출력\n",
    "## 방법 1\n",
    "for num in range(21):\n",
    "    if num % 6 == 0:\n",
    "        print(num)"
   ]
  },
  {
   "cell_type": "code",
   "execution_count": 65,
   "metadata": {},
   "outputs": [
    {
     "name": "stdout",
     "output_type": "stream",
     "text": [
      "0\n",
      "6\n",
      "12\n",
      "18\n"
     ]
    }
   ],
   "source": [
    "## 방법 2\n",
    "for num in range(0, 21, 6):\n",
    "    print(num)"
   ]
  },
  {
   "cell_type": "markdown",
   "metadata": {},
   "source": [
    "#### 3. 숙제"
   ]
  },
  {
   "cell_type": "code",
   "execution_count": 66,
   "metadata": {},
   "outputs": [
    {
     "ename": "IndentationError",
     "evalue": "expected an indented block (<ipython-input-66-4ec17cfda0a3>, line 12)",
     "output_type": "error",
     "traceback": [
      "\u001b[1;36m  File \u001b[1;32m\"<ipython-input-66-4ec17cfda0a3>\"\u001b[1;36m, line \u001b[1;32m12\u001b[0m\n\u001b[1;33m    elif:\u001b[0m\n\u001b[1;37m    ^\u001b[0m\n\u001b[1;31mIndentationError\u001b[0m\u001b[1;31m:\u001b[0m expected an indented block\n"
     ]
    }
   ],
   "source": [
    "# 1 이상 10 이하 정수에서 아래 내용읠 if-elif-else문으로 구현\n",
    "\n",
    "# 0. 2와 3의 공배수면 \"{} : 2와 3의 공배수\" 프린트하기.\n",
    "# 1. 2의 배수면 \"{} : 2의 배수\" 프린트하기.\n",
    "# 2. 3의 배수면 \"{} : 3의 배수\" 프린트하기.\n",
    "# 3. 모두 아니면 \"{} : 해당 없음\" 프린트하기\n",
    "\n",
    "# template. 굳이 따르지 않아도 ㅇㅋ\n",
    "for num in range(11):\n",
    "    if () and ():  # 2와 3의 공배수\n",
    "        print(\"{} : 2와 3의 공배수\".format(num))\n",
    "    elif:  # 2의 배수\n",
    "        \n",
    "    elif:  # 3의 배수\n",
    "        \n",
    "    else:  # 해당없음\n",
    "        "
   ]
  },
  {
   "cell_type": "code",
   "execution_count": 69,
   "metadata": {},
   "outputs": [
    {
     "name": "stdout",
     "output_type": "stream",
     "text": [
      "0 : 2와 3의 공배수\n",
      "1 : 해당 없음\n",
      "2 : 2의 배수\n",
      "3 : 3의 배수\n",
      "4 : 2의 배수\n",
      "5 : 해당 없음\n",
      "6 : 2와 3의 공배수\n",
      "7 : 해당 없음\n",
      "8 : 2의 배수\n",
      "9 : 3의 배수\n",
      "10 : 2의 배수\n"
     ]
    }
   ],
   "source": [
    "for num in range(11):\n",
    "    if (num % 2 == 0) and (num % 3 == 0):\n",
    "        print(\"{} : 2와 3의 공배수\".format(num))\n",
    "    elif (num % 2 == 0):\n",
    "        print(\"{} : 2의 배수\".format(num))\n",
    "    elif (num % 3 == 0):\n",
    "        print(\"{} : 3의 배수\".format(num))\n",
    "    else:\n",
    "        print(\"{} : 해당 없음\".format(num))"
   ]
  },
  {
   "cell_type": "code",
   "execution_count": null,
   "metadata": {},
   "outputs": [],
   "source": [
    "# 1 이상 99 이하 정수에서 17의 배수만 print하기\n",
    "\n",
    "## while문 사용\n",
    "\n",
    "## for문 사용(range로 돌리기)"
   ]
  },
  {
   "cell_type": "code",
   "execution_count": null,
   "metadata": {},
   "outputs": [],
   "source": []
  },
  {
   "cell_type": "code",
   "execution_count": null,
   "metadata": {},
   "outputs": [],
   "source": []
  },
  {
   "cell_type": "code",
   "execution_count": null,
   "metadata": {},
   "outputs": [],
   "source": []
  }
 ],
 "metadata": {
  "kernelspec": {
   "display_name": "Python 3",
   "language": "python",
   "name": "python3"
  },
  "language_info": {
   "codemirror_mode": {
    "name": "ipython",
    "version": 3
   },
   "file_extension": ".py",
   "mimetype": "text/x-python",
   "name": "python",
   "nbconvert_exporter": "python",
   "pygments_lexer": "ipython3",
   "version": "3.8.5"
  }
 },
 "nbformat": 4,
 "nbformat_minor": 5
}
