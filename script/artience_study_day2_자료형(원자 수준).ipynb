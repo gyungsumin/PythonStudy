{
 "cells": [
  {
   "cell_type": "markdown",
   "id": "05ed2200",
   "metadata": {},
   "source": [
    "#### 0. 숫자형(number)"
   ]
  },
  {
   "cell_type": "code",
   "execution_count": 1,
   "id": "cd4ac016",
   "metadata": {},
   "outputs": [
    {
     "name": "stdout",
     "output_type": "stream",
     "text": [
      "<class 'int'>\n",
      "<class 'float'>\n"
     ]
    }
   ],
   "source": [
    "# 제일 많이 쓰이는 두개. 2진수 8진수 등은 일단 많이 안쓰임\n",
    "## 정수(int)\n",
    "print(type(0))\n",
    "\n",
    "## 실수(float)\n",
    "print(type(0.0))"
   ]
  },
  {
   "cell_type": "code",
   "execution_count": 2,
   "id": "0179aa00",
   "metadata": {},
   "outputs": [
    {
     "name": "stdout",
     "output_type": "stream",
     "text": [
      "4\n",
      "-2\n",
      "3\n",
      "0.3333333333333333\n"
     ]
    }
   ],
   "source": [
    "# 숫자형은 연산이 가능하다\n",
    "print(1+3)\n",
    "print(1-3)\n",
    "print(1*3)\n",
    "print(1/3)"
   ]
  },
  {
   "cell_type": "code",
   "execution_count": 3,
   "id": "6b08a72e",
   "metadata": {},
   "outputs": [
    {
     "data": {
      "text/plain": [
       "3.0"
      ]
     },
     "execution_count": 3,
     "metadata": {},
     "output_type": "execute_result"
    }
   ],
   "source": [
    "# 물론 정수형과 실수형끼리 연산이 가능하다\n",
    "1 + 2.0"
   ]
  },
  {
   "cell_type": "code",
   "execution_count": 4,
   "id": "5262a4db",
   "metadata": {},
   "outputs": [
    {
     "name": "stdout",
     "output_type": "stream",
     "text": [
      "2\n",
      "1\n",
      "343\n"
     ]
    }
   ],
   "source": [
    "# 사칙연산 외에 이런 연산자도 있음을 알아만 두자\n",
    "\n",
    "## 나눈 몫만 가져오기(소수점 버림)\n",
    "print(7 // 3)\n",
    "\n",
    "## 나머지만 가져오기\n",
    "print(7 % 3)\n",
    "\n",
    "## 지수(제곱)\n",
    "print(7 ** 3)"
   ]
  },
  {
   "cell_type": "code",
   "execution_count": 5,
   "id": "3e8eee38",
   "metadata": {},
   "outputs": [
    {
     "data": {
      "text/plain": [
       "0.3333333333333335"
      ]
     },
     "execution_count": 5,
     "metadata": {},
     "output_type": "execute_result"
    }
   ],
   "source": [
    "#######\n",
    "# 문제: 7에서 3을 나눈 값의 소수점(나머지 아님)만 가져와 보자\n",
    "#######\n",
    "(7 / 3) - (7 // 3)"
   ]
  },
  {
   "cell_type": "markdown",
   "id": "c02226dc",
   "metadata": {},
   "source": [
    "#### 1. 문자열(string)"
   ]
  },
  {
   "cell_type": "code",
   "execution_count": 6,
   "id": "01a646a8",
   "metadata": {},
   "outputs": [
    {
     "name": "stdout",
     "output_type": "stream",
     "text": [
      "이건 문자 자료형\n",
      "이것도 문자 자료형\n",
      "역시 문자 자료형\n",
      "똑같\n"
     ]
    }
   ],
   "source": [
    "# 문자열 : 문자. text.\n",
    "print(\"이건 문자 자료형\")\n",
    "print('이것도 문자 자료형')\n",
    "print(\"\"\"역시 문자 자료형\"\"\")\n",
    "print('''똑같''')"
   ]
  },
  {
   "cell_type": "code",
   "execution_count": 5,
   "id": "9dcf315e",
   "metadata": {},
   "outputs": [
    {
     "name": "stdout",
     "output_type": "stream",
     "text": [
      "She asked me, \"Want some sweets?\"\n",
      "I'm good. Thank you.\n",
      "She asked me, \"Want some sweets?\" And I told her I'm okay.\n"
     ]
    }
   ],
   "source": [
    "# 쌍따옴표(\")와 따옴표(')를 모두 쓰는 이유\n",
    "print('She asked me, \"Want some sweets?\"')\n",
    "print(\"I'm good. Thank you.\")\n",
    "\n",
    "# (알고만 있자) 만약 쌍따옴표와 따옴표 모두 써야 한다면?\n",
    "print(\"She asked me, \\\"Want some sweets?\\\" And I told her I'm okay.\")"
   ]
  },
  {
   "cell_type": "code",
   "execution_count": 132,
   "id": "f6b56202",
   "metadata": {},
   "outputs": [
    {
     "name": "stdout",
     "output_type": "stream",
     "text": [
      "\n",
      "너에게 묻는다 / 안도현\n",
      "\n",
      "연탄재 함부로 발로 차지 마라\n",
      "너는\n",
      "누구에게 한번이라도 뜨거운 사람이었느냐\n",
      "\n"
     ]
    }
   ],
   "source": [
    "# 트리플 쌍따옴표(\"\"\"\"\"\")나 따옴표('''''') 사용 이유\n",
    "# 줄바꿈이 가능하다.\n",
    "print(\"\"\"\n",
    "너에게 묻는다 / 안도현\n",
    "\n",
    "연탄재 함부로 발로 차지 마라\n",
    "너는\n",
    "누구에게 한번이라도 뜨거운 사람이었느냐\n",
    "\"\"\")"
   ]
  },
  {
   "cell_type": "code",
   "execution_count": 26,
   "id": "dc3521ac",
   "metadata": {},
   "outputs": [
    {
     "name": "stdout",
     "output_type": "stream",
     "text": [
      "사과가 {}개 남았습니다. 구매를 서두르세요!\n",
      "사과가 3개 남았습니다. 구매를 서두르세요!\n"
     ]
    }
   ],
   "source": [
    "# format과 변수를 활용해 효율적인 코딩이 가능함\n",
    "apple_count = 3\n",
    "phrase = \"사과가 {}개 남았습니다. 구매를 서두르세요!\"\n",
    "\n",
    "print(phrase)\n",
    "print(phrase.format(apple_count))\n",
    "# 여기서 신기한 점: format을 사용하면 apple_count의 자료형을 자동으로 문자열로 바꿔준다!"
   ]
  },
  {
   "cell_type": "code",
   "execution_count": 30,
   "id": "59b1a2e8",
   "metadata": {},
   "outputs": [
    {
     "name": "stdout",
     "output_type": "stream",
     "text": [
      "사과 3개 바나나 5개 남았습니다.\n"
     ]
    }
   ],
   "source": [
    "apple_count = 3\n",
    "banana_count = 5\n",
    "phrase = \"사과 {1}개 바나나 {0}개 남았습니다.\"\n",
    "\n",
    "print(phrase.format(banana_count, apple_count))"
   ]
  },
  {
   "cell_type": "code",
   "execution_count": 34,
   "id": "a9d3aeca",
   "metadata": {},
   "outputs": [
    {
     "name": "stdout",
     "output_type": "stream",
     "text": [
      "안녕친구들?\n",
      "안녕 친구들?\n"
     ]
    }
   ],
   "source": [
    "# 문자열끼리는 더하기가 가능하다!\n",
    "string_0 = \"안녕\"\n",
    "string_1 = \"친구들?\"\n",
    "\n",
    "print(string_0 + string_1)\n",
    "print(string_0 + \" \" + string_1)"
   ]
  },
  {
   "cell_type": "code",
   "execution_count": 97,
   "id": "c4ea8b26",
   "metadata": {},
   "outputs": [
    {
     "name": "stdout",
     "output_type": "stream",
     "text": [
      "안녕안녕안녕안녕안녕안녕안녕안녕안녕안녕안녕안녕안녕안녕안녕안녕안녕안녕안녕안녕안녕안녕안녕안녕안녕\n",
      "안녕 안녕 안녕 안녕 안녕 안녕 안녕 안녕 안녕 안녕 안녕 안녕 안녕 안녕 안녕 안녕 안녕 안녕 안녕 안녕 안녕 안녕 안녕 안녕 안녕 \n"
     ]
    }
   ],
   "source": [
    "# 문자열끼리는 곱하기도 가능하다!\n",
    "print(string_0 * 25)\n",
    "print((string_0 + \" \")*25)"
   ]
  },
  {
   "cell_type": "markdown",
   "id": "7a9cdb96",
   "metadata": {},
   "source": [
    "#### 2. 숫자형과 문자열의 형 변환"
   ]
  },
  {
   "cell_type": "code",
   "execution_count": 85,
   "id": "cb58253b",
   "metadata": {},
   "outputs": [
    {
     "name": "stdout",
     "output_type": "stream",
     "text": [
      "<class 'int'>\n",
      "<class 'float'>\n",
      "<class 'str'>\n"
     ]
    }
   ],
   "source": [
    "integer = 1\n",
    "float_ = 1.0\n",
    "string = \"text\"\n",
    "\n",
    "print(type(integer))\n",
    "print(type(float_))\n",
    "print(type(string))"
   ]
  },
  {
   "cell_type": "code",
   "execution_count": 75,
   "id": "c7bbe03b",
   "metadata": {},
   "outputs": [
    {
     "name": "stdout",
     "output_type": "stream",
     "text": [
      "<class 'float'>\n",
      "<class 'str'>\n"
     ]
    }
   ],
   "source": [
    "print(type(float(integer)))\n",
    "print(type(str(integer)))"
   ]
  },
  {
   "cell_type": "code",
   "execution_count": 76,
   "id": "e66dbc3d",
   "metadata": {},
   "outputs": [
    {
     "name": "stdout",
     "output_type": "stream",
     "text": [
      "<class 'int'>\n",
      "<class 'str'>\n"
     ]
    }
   ],
   "source": [
    "print(type(int(float_)))\n",
    "print(type(str(float_)))"
   ]
  },
  {
   "cell_type": "code",
   "execution_count": 84,
   "id": "7f46f2fc",
   "metadata": {},
   "outputs": [
    {
     "ename": "ValueError",
     "evalue": "could not convert string to float: 'text'",
     "output_type": "error",
     "traceback": [
      "\u001b[1;31m---------------------------------------------------------------------------\u001b[0m",
      "\u001b[1;31mValueError\u001b[0m                                Traceback (most recent call last)",
      "\u001b[1;32m~\\AppData\\Local\\Temp/ipykernel_7676/661599340.py\u001b[0m in \u001b[0;36m<module>\u001b[1;34m\u001b[0m\n\u001b[1;32m----> 1\u001b[1;33m \u001b[0mprint\u001b[0m\u001b[1;33m(\u001b[0m\u001b[0mfloat\u001b[0m\u001b[1;33m(\u001b[0m\u001b[0mstring\u001b[0m\u001b[1;33m)\u001b[0m\u001b[1;33m)\u001b[0m\u001b[1;33m\u001b[0m\u001b[1;33m\u001b[0m\u001b[0m\n\u001b[0m",
      "\u001b[1;31mValueError\u001b[0m: could not convert string to float: 'text'"
     ]
    }
   ],
   "source": [
    "print(float(string))"
   ]
  },
  {
   "cell_type": "code",
   "execution_count": 88,
   "id": "03a5d5d0",
   "metadata": {},
   "outputs": [
    {
     "ename": "TypeError",
     "evalue": "can only concatenate str (not \"int\") to str",
     "output_type": "error",
     "traceback": [
      "\u001b[1;31m---------------------------------------------------------------------------\u001b[0m",
      "\u001b[1;31mTypeError\u001b[0m                                 Traceback (most recent call last)",
      "\u001b[1;32m~\\AppData\\Local\\Temp/ipykernel_7676/3610739880.py\u001b[0m in \u001b[0;36m<module>\u001b[1;34m\u001b[0m\n\u001b[1;32m----> 1\u001b[1;33m \u001b[0mprint\u001b[0m\u001b[1;33m(\u001b[0m\u001b[0mstring\u001b[0m \u001b[1;33m+\u001b[0m \u001b[0minteger\u001b[0m\u001b[1;33m)\u001b[0m\u001b[1;33m\u001b[0m\u001b[1;33m\u001b[0m\u001b[0m\n\u001b[0m",
      "\u001b[1;31mTypeError\u001b[0m: can only concatenate str (not \"int\") to str"
     ]
    }
   ],
   "source": [
    "print(string + integer)"
   ]
  },
  {
   "cell_type": "code",
   "execution_count": 90,
   "id": "b87e4a51",
   "metadata": {},
   "outputs": [
    {
     "name": "stdout",
     "output_type": "stream",
     "text": [
      "text1\n"
     ]
    }
   ],
   "source": [
    "integer_to_string = str(integer)\n",
    "\n",
    "print(string + integer_to_string)"
   ]
  },
  {
   "cell_type": "markdown",
   "id": "8f614b84",
   "metadata": {},
   "source": [
    "#### 3. 부울린(boolean)"
   ]
  },
  {
   "cell_type": "code",
   "execution_count": 93,
   "id": "19477164",
   "metadata": {},
   "outputs": [],
   "source": [
    "true = True\n",
    "false = False"
   ]
  },
  {
   "cell_type": "code",
   "execution_count": 94,
   "id": "f3a76f81",
   "metadata": {},
   "outputs": [
    {
     "name": "stdout",
     "output_type": "stream",
     "text": [
      "\n",
      "Here is a list of the Python keywords.  Enter any keyword to get more help.\n",
      "\n",
      "False               break               for                 not\n",
      "None                class               from                or\n",
      "True                continue            global              pass\n",
      "__peg_parser__      def                 if                  raise\n",
      "and                 del                 import              return\n",
      "as                  elif                in                  try\n",
      "assert              else                is                  while\n",
      "async               except              lambda              with\n",
      "await               finally             nonlocal            yield\n",
      "\n"
     ]
    }
   ],
   "source": [
    "help(\"keywords\")"
   ]
  },
  {
   "cell_type": "code",
   "execution_count": 107,
   "id": "23a6f174",
   "metadata": {},
   "outputs": [
    {
     "name": "stdout",
     "output_type": "stream",
     "text": [
      "<class 'bool'>\n",
      "<class 'bool'>\n"
     ]
    }
   ],
   "source": [
    "print(type(true))\n",
    "print(type(false))"
   ]
  },
  {
   "cell_type": "code",
   "execution_count": 130,
   "id": "9d796be7",
   "metadata": {},
   "outputs": [
    {
     "name": "stdout",
     "output_type": "stream",
     "text": [
      "True\n",
      "False\n",
      "False\n",
      "True\n"
     ]
    }
   ],
   "source": [
    "print(1 == 1)\n",
    "print(1 == 0)\n",
    "\n",
    "print(1 > 1)\n",
    "print(1 > 0)"
   ]
  },
  {
   "cell_type": "code",
   "execution_count": 131,
   "id": "dde48d32",
   "metadata": {},
   "outputs": [
    {
     "name": "stdout",
     "output_type": "stream",
     "text": [
      "boolean은 일단 여기까지\n"
     ]
    }
   ],
   "source": [
    "print(\"boolean은 일단 여기까지\")"
   ]
  },
  {
   "cell_type": "code",
   "execution_count": null,
   "id": "ba158457",
   "metadata": {},
   "outputs": [],
   "source": []
  }
 ],
 "metadata": {
  "kernelspec": {
   "display_name": "Python 3 (ipykernel)",
   "language": "python",
   "name": "python3"
  },
  "language_info": {
   "codemirror_mode": {
    "name": "ipython",
    "version": 3
   },
   "file_extension": ".py",
   "mimetype": "text/x-python",
   "name": "python",
   "nbconvert_exporter": "python",
   "pygments_lexer": "ipython3",
   "version": "3.9.7"
  }
 },
 "nbformat": 4,
 "nbformat_minor": 5
}
