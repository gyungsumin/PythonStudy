{
 "cells": [
  {
   "cell_type": "markdown",
   "id": "05ed2200",
   "metadata": {},
   "source": [
    "#### 1. 숫자형(number)"
   ]
  },
  {
   "cell_type": "code",
   "execution_count": 1,
   "id": "cd4ac016",
   "metadata": {},
   "outputs": [
    {
     "name": "stdout",
     "output_type": "stream",
     "text": [
      "<class 'int'>\n",
      "<class 'float'>\n"
     ]
    }
   ],
   "source": [
    "## 제일 많이 쓰이는 두개. 2진수 8진수 등은 일단 많이 안쓰임\n",
    "# 정수(int)\n",
    "print(type(0))\n",
    "\n",
    "# 실수(float)\n",
    "print(type(0.0))"
   ]
  },
  {
   "cell_type": "code",
   "execution_count": 2,
   "id": "0179aa00",
   "metadata": {},
   "outputs": [
    {
     "name": "stdout",
     "output_type": "stream",
     "text": [
      "4\n",
      "-2\n",
      "3\n",
      "0.3333333333333333\n"
     ]
    }
   ],
   "source": [
    "# 숫자형은 연산이 가능하다\n",
    "print(1+3)\n",
    "print(1-3)\n",
    "print(1*3)\n",
    "print(1/3)"
   ]
  },
  {
   "cell_type": "code",
   "execution_count": 3,
   "id": "6b08a72e",
   "metadata": {},
   "outputs": [
    {
     "data": {
      "text/plain": [
       "3.0"
      ]
     },
     "execution_count": 3,
     "metadata": {},
     "output_type": "execute_result"
    }
   ],
   "source": [
    "# 물론 정수형과 실수형끼리 연산이 가능하다\n",
    "1 + 2.0"
   ]
  },
  {
   "cell_type": "code",
   "execution_count": 4,
   "id": "5262a4db",
   "metadata": {},
   "outputs": [
    {
     "name": "stdout",
     "output_type": "stream",
     "text": [
      "2\n",
      "1\n",
      "343\n"
     ]
    }
   ],
   "source": [
    "# 사칙연산 외에 이런 연산자도 있음을 알아만 두자\n",
    "\n",
    "## 나눈 몫만 가져오기(소수점 버림)\n",
    "print(7 // 3)\n",
    "\n",
    "## 나머지만 가져오기\n",
    "print(7 % 3)\n",
    "\n",
    "## 지수(제곱)\n",
    "print(7 ** 3)"
   ]
  },
  {
   "cell_type": "code",
   "execution_count": 5,
   "id": "3e8eee38",
   "metadata": {},
   "outputs": [
    {
     "data": {
      "text/plain": [
       "0.3333333333333335"
      ]
     },
     "execution_count": 5,
     "metadata": {},
     "output_type": "execute_result"
    }
   ],
   "source": [
    "#######\n",
    "# 문제: 7에서 3을 나눈 값의 소수점(나머지 아님)만 가져와 보자\n",
    "#######\n",
    "(7 / 3) - (7 // 3)"
   ]
  },
  {
   "cell_type": "code",
   "execution_count": null,
   "id": "37b777f4",
   "metadata": {},
   "outputs": [],
   "source": []
  },
  {
   "cell_type": "code",
   "execution_count": null,
   "id": "01a646a8",
   "metadata": {},
   "outputs": [],
   "source": []
  },
  {
   "cell_type": "code",
   "execution_count": null,
   "id": "9dcf315e",
   "metadata": {},
   "outputs": [],
   "source": []
  }
 ],
 "metadata": {
  "kernelspec": {
   "display_name": "Python 3 (ipykernel)",
   "language": "python",
   "name": "python3"
  },
  "language_info": {
   "codemirror_mode": {
    "name": "ipython",
    "version": 3
   },
   "file_extension": ".py",
   "mimetype": "text/x-python",
   "name": "python",
   "nbconvert_exporter": "python",
   "pygments_lexer": "ipython3",
   "version": "3.9.7"
  }
 },
 "nbformat": 4,
 "nbformat_minor": 5
}
