{
 "cells": [
  {
   "cell_type": "markdown",
   "metadata": {},
   "source": [
    "#### 0. Nested Loop (루프 속의 루프 - 캥거루)"
   ]
  },
  {
   "cell_type": "code",
   "execution_count": 8,
   "metadata": {},
   "outputs": [
    {
     "name": "stdout",
     "output_type": "stream",
     "text": [
      "조합 0 : 연희중식에서 점심먹고 starbucks(으)로 마무리\n",
      "조합 1 : 연희중식에서 점심먹고 coco(으)로 마무리\n",
      "조합 2 : 연희중식에서 점심먹고 BR36(으)로 마무리\n",
      "조합 3 : 기요한에서 점심먹고 starbucks(으)로 마무리\n",
      "조합 4 : 기요한에서 점심먹고 coco(으)로 마무리\n",
      "조합 5 : 기요한에서 점심먹고 BR36(으)로 마무리\n",
      "조합 6 : 쿠차라에서 점심먹고 starbucks(으)로 마무리\n",
      "조합 7 : 쿠차라에서 점심먹고 coco(으)로 마무리\n",
      "조합 8 : 쿠차라에서 점심먹고 BR36(으)로 마무리\n",
      "조합 9 : 우엔에서 점심먹고 starbucks(으)로 마무리\n",
      "조합 10 : 우엔에서 점심먹고 coco(으)로 마무리\n",
      "조합 11 : 우엔에서 점심먹고 BR36(으)로 마무리\n",
      "조합 12 : 놀부부찌에서 점심먹고 starbucks(으)로 마무리\n",
      "조합 13 : 놀부부찌에서 점심먹고 coco(으)로 마무리\n",
      "조합 14 : 놀부부찌에서 점심먹고 BR36(으)로 마무리\n"
     ]
    }
   ],
   "source": [
    "lunch_restaurant = [\"연희중식\", \"기요한\", \"쿠차라\", \"우엔\", \"놀부부찌\"]\n",
    "dessert_shop = [\"starbucks\", \"coco\", \"BR36\"]\n",
    "\n",
    "cnt = 0\n",
    "for restaurant in lunch_restaurant:\n",
    "    for shop in dessert_shop:\n",
    "        print(\"조합 {0} : {1}에서 점심먹고 {2}(으)로 마무리\".format(cnt, restaurant, shop))\n",
    "        \n",
    "        cnt += 1"
   ]
  },
  {
   "cell_type": "markdown",
   "metadata": {},
   "source": [
    "#### 1. 여러 시퀀스 순회하기 : zip"
   ]
  },
  {
   "cell_type": "code",
   "execution_count": 6,
   "metadata": {},
   "outputs": [
    {
     "name": "stdout",
     "output_type": "stream",
     "text": [
      "Mon : eat Apple - enjoy Tiramisu\n",
      "Tue : eat Banana - enjoy Ice cream\n",
      "Wed : eat Peach - enjoy Pie\n"
     ]
    }
   ],
   "source": [
    "days = [\"Mon\", \"Tue\", \"Wed\"]\n",
    "fruits = [\"Apple\", \"Banana\", \"Peach\"]\n",
    "desserts = [\"Tiramisu\", \"Ice cream\", \"Pie\"]\n",
    "\n",
    "for day, fruit, dessert in zip(days, fruits, desserts):\n",
    "    print(day, \": eat\", fruit, \"- enjoy\", dessert)"
   ]
  },
  {
   "cell_type": "markdown",
   "metadata": {},
   "source": [
    "#### 2. 제어문은 아니지만 컴프리핸선"
   ]
  },
  {
   "cell_type": "markdown",
   "metadata": {},
   "source": [
    "# 지금까지 한 것들...\n",
    "\n",
    "### 파이썬 일반\n",
    "#### 0. 파이썬 설치 및 시작\n",
    "#### 1. 파이썬 자료형 : 숫자, 문자열\n",
    "#### 2. 파이썬 자료형 : 리스트, 튜플, 딕셔너리, 셋,\n",
    "#### 3. 제어문 : if-elif-else문, wjile문, for문\n",
    "#### 4. 제어문 응용(오늘) : Nested Loop, zip\n",
    "### \n",
    "### "
   ]
  },
  {
   "cell_type": "markdown",
   "metadata": {},
   "source": [
    "# 앞으로 남은 것들...\n",
    "\n",
    "### 지금까지 배운 것의 연장선상으로 파이썬 일반\n",
    "#### 0. 함수(def) - 코드의 재사용, 기능별로 모아주기\n",
    "#### 1. 표준 라이브러리 import하기 (간단)\n",
    "### \n",
    "### 응용\n",
    "#### 2. (필수, 2~4번 해야 함) pandas - 파이썬에서 csv파일이나 쿼리 테이블처럼 사용 가능\n",
    "#### 3. (반반) re - string regex 사용해보기\n",
    "#### 3. (필수아님) openpyxl - 파이썬에서 실제로 엑셀파일 다루기\n",
    "#### 4. (필수아님) sql 연결\n",
    "#### 5. (매우 필수 아님, 2~3번 해야 함) 웹 크롤링 해 보기"
   ]
  },
  {
   "cell_type": "code",
   "execution_count": null,
   "metadata": {},
   "outputs": [],
   "source": []
  }
 ],
 "metadata": {
  "kernelspec": {
   "display_name": "Python 3",
   "language": "python",
   "name": "python3"
  },
  "language_info": {
   "codemirror_mode": {
    "name": "ipython",
    "version": 3
   },
   "file_extension": ".py",
   "mimetype": "text/x-python",
   "name": "python",
   "nbconvert_exporter": "python",
   "pygments_lexer": "ipython3",
   "version": "3.8.5"
  }
 },
 "nbformat": 4,
 "nbformat_minor": 4
}
