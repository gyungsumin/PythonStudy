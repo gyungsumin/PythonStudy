{
 "cells": [
  {
   "cell_type": "markdown",
   "id": "6a57fe50",
   "metadata": {},
   "source": [
    "#### 0. 리스트(list)"
   ]
  },
  {
   "cell_type": "code",
   "execution_count": 1,
   "id": "1cabca1e",
   "metadata": {},
   "outputs": [
    {
     "name": "stdout",
     "output_type": "stream",
     "text": [
      "앞으로 내용이 살~짝 난해해질 예정\n"
     ]
    }
   ],
   "source": [
    "print(\"앞으로 내용이 살~짝 난해해질 예정\")"
   ]
  },
  {
   "cell_type": "code",
   "execution_count": 10,
   "id": "a3ca83e0",
   "metadata": {},
   "outputs": [
    {
     "name": "stdout",
     "output_type": "stream",
     "text": [
      "<class 'list'>\n",
      "['Mon', 'Tue', 'Wed', 'Thu', 'Fri', 'Sat', 'Sun']\n"
     ]
    }
   ],
   "source": [
    "# 리스트가 필요한 이유: 묶어서 관리하면 편한 경우.\n",
    "day_of_the_week = [\"Mon\", \"Tue\", \"Wed\", \"Thu\", \"Fri\", \"Sat\", \"Sun\"]\n",
    "\n",
    "print(type(day_of_the_week))\n",
    "print(day_of_the_week)"
   ]
  },
  {
   "cell_type": "code",
   "execution_count": 11,
   "id": "59e6a9f0",
   "metadata": {},
   "outputs": [
    {
     "name": "stdout",
     "output_type": "stream",
     "text": [
      "[0, 1, 2, 3]\n",
      "[0, '가', True, [0, 1, 2, 3]]\n"
     ]
    }
   ],
   "source": [
    "# 리스트는 \"모든 것\"의 묶음이다\n",
    "list_ = [0, 1, 2, 3]\n",
    "print(list_)\n",
    "\n",
    "list_ = [0, \"가\", True, [0, 1, 2, 3]]\n",
    "print(list_)"
   ]
  },
  {
   "cell_type": "code",
   "execution_count": null,
   "id": "25236581",
   "metadata": {},
   "outputs": [],
   "source": [
    "# 분자 수준 자료형에서의 핵심 개념 : 오프셋(offset)\n",
    "오프셋 내용 넣어주고 인덱싱/슬라이싱\n",
    "오프셋으로 값 바꿔주기"
   ]
  },
  {
   "cell_type": "markdown",
   "id": "58b0a558",
   "metadata": {},
   "source": [
    "#### 1. 튜플(tuple)"
   ]
  },
  {
   "cell_type": "code",
   "execution_count": 12,
   "id": "5300444f",
   "metadata": {},
   "outputs": [
    {
     "name": "stdout",
     "output_type": "stream",
     "text": [
      "(0, 1, 2, 3)\n",
      "[0, '가', True, [0, 1, 2, 3]]\n",
      "<class 'tuple'>\n"
     ]
    }
   ],
   "source": [
    "## 값을 바꿀 수 없는 리스트.\n",
    "## 값이 절대 바뀌면 안되는 경우 많이 사용, 그리고 리스트보다 메모리 효율성이 좋다\n",
    "tuple_ = (0, 1, 2, 3)\n",
    "print(tuple_)\n",
    "\n",
    "tuple_ = [0, \"가\", True, [0, 1, 2, 3]]\n",
    "print(tuple_)\n",
    "\n",
    "tuple_ = 0, 1, 2, 3\n",
    "print(type(tuple_))"
   ]
  },
  {
   "cell_type": "code",
   "execution_count": 13,
   "id": "28e0c8d0",
   "metadata": {},
   "outputs": [
    {
     "name": "stdout",
     "output_type": "stream",
     "text": [
      "<class 'tuple'>\n",
      "('Mon', 'Tue', 'Wed', 'Thu', 'Fri', 'Sat', 'Sun')\n"
     ]
    }
   ],
   "source": [
    "day_of_the_week = (\"Mon\", \"Tue\", \"Wed\", \"Thu\", \"Fri\", \"Sat\", \"Sun\")\n",
    "\n",
    "print(type(day_of_the_week))\n",
    "print(day_of_the_week)"
   ]
  },
  {
   "cell_type": "code",
   "execution_count": 4,
   "id": "93624f4c",
   "metadata": {},
   "outputs": [
    {
     "ename": "SyntaxError",
     "evalue": "invalid syntax (Temp/ipykernel_8056/1893537496.py, line 1)",
     "output_type": "error",
     "traceback": [
      "\u001b[1;36m  File \u001b[1;32m\"C:\\Users\\gyung\\AppData\\Local\\Temp/ipykernel_8056/1893537496.py\"\u001b[1;36m, line \u001b[1;32m1\u001b[0m\n\u001b[1;33m    오프셋 넣어주고\u001b[0m\n\u001b[1;37m        ^\u001b[0m\n\u001b[1;31mSyntaxError\u001b[0m\u001b[1;31m:\u001b[0m invalid syntax\n"
     ]
    }
   ],
   "source": [
    "오프셋 넣어주고 인덱싱/슬라이싱\n",
    "오프셋으로 값 바꿔주기 안되는거 보여주기"
   ]
  },
  {
   "cell_type": "markdown",
   "id": "1b7ef033",
   "metadata": {},
   "source": [
    "#### 2. 셋(set)"
   ]
  },
  {
   "cell_type": "code",
   "execution_count": 7,
   "id": "6c44575f",
   "metadata": {},
   "outputs": [
    {
     "name": "stdout",
     "output_type": "stream",
     "text": [
      "<class 'set'>\n",
      "{'Thu', 'Wed', 'Fri', 'Sat', 'Mon', 'Tue', 'Sun'}\n"
     ]
    }
   ],
   "source": [
    "# set: 고유한 값들만 존재해야 할 경우\n",
    "# 집합으로 봐도 무방함\n",
    "# 왜 set은 set함수 쓰냐: 셋도 ()로 표현되는데 셋보다 튜플이 먼저 나옴..\n",
    "day_of_the_week = set((\"Mon\", \"Tue\", \"Wed\", \"Thu\", \"Fri\", \"Sat\", \"Sun\"))\n",
    "\n",
    "\n",
    "print(type(day_of_the_week))\n",
    "print(day_of_the_week)"
   ]
  },
  {
   "cell_type": "code",
   "execution_count": null,
   "id": "333d3628",
   "metadata": {},
   "outputs": [],
   "source": [
    "# 리스트랑 딕셔너리를 셋으로 바꿔주기. 중복값 넣어서"
   ]
  },
  {
   "cell_type": "code",
   "execution_count": null,
   "id": "4b229d82",
   "metadata": {},
   "outputs": [],
   "source": [
    "오프셋 넣어주고 인덱싱/슬라이싱 안되는거 보여주기(집합에 순서가 있나? 없지.)\n",
    "오프셋을 못 쓰는데 값 바꿔주는 방법"
   ]
  },
  {
   "cell_type": "markdown",
   "id": "349a8ab4",
   "metadata": {},
   "source": [
    "#### 3. 딕셔너리(dict)"
   ]
  },
  {
   "cell_type": "code",
   "execution_count": 15,
   "id": "200a59eb",
   "metadata": {},
   "outputs": [
    {
     "name": "stdout",
     "output_type": "stream",
     "text": [
      "{'key_0': 0, 'key_1': 1, 'key_2': 2}\n",
      "{'무도 맴버': ('유재석', '박명수', '정준하', '노홍철', '하하'), '러닝맨 맴버': ('유재석', '하하', '김종국', '송지효', '이광수')}\n",
      "('유재석', '박명수', '정준하', '노홍철', '하하')\n"
     ]
    }
   ],
   "source": [
    "# 딕셔너리(dictionary)\n",
    "## key와 key에 대응하는 값, 즉 key-value라는 쌍들로 이루어진 집단\n",
    "dict_ = {\"key_0\":0, \"key_1\":1, \"key_2\":2}\n",
    "print(dict_)\n",
    "\n",
    "\n",
    "## 이런 경우에 많이 쓰임\n",
    "dict_ = {\"무도 맴버\":(\"유재석\", \"박명수\", \"정준하\", \"노홍철\", \"하하\"), \"러닝맨 맴버\":(\"유재석\", \"하하\", \"김종국\", \"송지효\", \"이광수\")}\n",
    "print(dict_)\n",
    "\n",
    "print(dict_[\"무도 맴버\"])"
   ]
  },
  {
   "cell_type": "code",
   "execution_count": null,
   "id": "2866e24b",
   "metadata": {},
   "outputs": [],
   "source": [
    "역시 오프셋 없음.\n",
    "그러면 어떻게 인덱싱 슬라이싱 값 바꾸기 하는지"
   ]
  },
  {
   "cell_type": "code",
   "execution_count": null,
   "id": "323113ce",
   "metadata": {},
   "outputs": [],
   "source": []
  },
  {
   "cell_type": "code",
   "execution_count": null,
   "id": "e5574753",
   "metadata": {},
   "outputs": [],
   "source": []
  },
  {
   "cell_type": "code",
   "execution_count": null,
   "id": "49642c93",
   "metadata": {},
   "outputs": [],
   "source": []
  },
  {
   "cell_type": "code",
   "execution_count": null,
   "id": "5a0e56bb",
   "metadata": {},
   "outputs": [],
   "source": []
  },
  {
   "cell_type": "code",
   "execution_count": null,
   "id": "f3c8f08c",
   "metadata": {},
   "outputs": [],
   "source": []
  },
  {
   "cell_type": "code",
   "execution_count": null,
   "id": "50e3e333",
   "metadata": {},
   "outputs": [],
   "source": []
  }
 ],
 "metadata": {
  "kernelspec": {
   "display_name": "Python 3 (ipykernel)",
   "language": "python",
   "name": "python3"
  },
  "language_info": {
   "codemirror_mode": {
    "name": "ipython",
    "version": 3
   },
   "file_extension": ".py",
   "mimetype": "text/x-python",
   "name": "python",
   "nbconvert_exporter": "python",
   "pygments_lexer": "ipython3",
   "version": "3.9.7"
  }
 },
 "nbformat": 4,
 "nbformat_minor": 5
}
