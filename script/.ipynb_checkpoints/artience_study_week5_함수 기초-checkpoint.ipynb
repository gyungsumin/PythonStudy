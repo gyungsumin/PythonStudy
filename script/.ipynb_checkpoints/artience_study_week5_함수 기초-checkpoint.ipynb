{
 "cells": [
  {
   "cell_type": "code",
   "execution_count": 4,
   "metadata": {},
   "outputs": [],
   "source": [
    "from IPython.display import Image"
   ]
  },
  {
   "cell_type": "markdown",
   "metadata": {},
   "source": [
    "### 지금까지 파이썬 코딩을 위한 재료들(숫자, 문자열, 리스트, 딕셔너리...) & 제어 로직(for, while, if-elif-else...)를 배웠다.\n",
    "### 기본적으로 파이썬 코딩에 필요한 90%는 다 아는 상태.\n",
    "### \n",
    "### 이제는 이 재료들과 제어 로직을 하나로 묶어, \"특정 기능\"을 하는 코드를 만들어 보자.\n",
    "## 이게 바로 파이썬 함수(functiuon)\n",
    "### \n",
    "\n",
    "## 함수의 장점?\n",
    "* 특정 기능을 하는 <span style=\"color:red\">코드를 묶어 관리</span>하기 편해짐\n",
    "* 함수를 한 번 정의하면 span style=\"color:red\">반복작업</span> 가능\n",
    "* 함수 내에서 사용되는 변수들은 함수 밖에 영항을 주지 않으며, 반대로 함수 밖의 변수들이 함수 내부에 영향을 주지 않음(예외 있음)"
   ]
  },
  {
   "cell_type": "code",
   "execution_count": 6,
   "metadata": {},
   "outputs": [
    {
     "data": {
      "image/jpeg": "[encoded data removed]",
      "text/plain": [
       "<IPython.core.display.Image object>"
      ]
     },
     "execution_count": 6,
     "metadata": {},
     "output_type": "execute_result"
    }
   ],
   "source": [
    "Image(\"C:\\PythonStudy\\script\\python function structure image.jpg\")"
   ]
  },
  {
   "cell_type": "code",
   "execution_count": 8,
   "metadata": {},
   "outputs": [],
   "source": [
    "# 함수 예시\n",
    "def add_two_number(num_1, num_2):  # input definition\n",
    "    \n",
    "    result = num_1 + num_2  # rule\n",
    "    \n",
    "    return result  # output"
   ]
  },
  {
   "cell_type": "code",
   "execution_count": 9,
   "metadata": {},
   "outputs": [
    {
     "data": {
      "text/plain": [
       "3"
      ]
     },
     "execution_count": 9,
     "metadata": {},
     "output_type": "execute_result"
    }
   ],
   "source": [
    "test = add_two_number(1, 2)\n",
    "test"
   ]
  },
  {
   "cell_type": "code",
   "execution_count": 26,
   "metadata": {},
   "outputs": [
    {
     "name": "stdout",
     "output_type": "stream",
     "text": [
      "6\n",
      "12\n",
      "10\n"
     ]
    }
   ],
   "source": [
    "# 주어진 리스트 내의 값 중 짝수만 추출해서 더한 값을 변수에 저장\n",
    "list_0 = [0, 1, 2, 3, 4]\n",
    "list_1 = [4, 3, 7, 8]\n",
    "list_2 = [9, 1, 3, 4, 6, 5, 1]\n",
    "\n",
    "# 함수 사용 x\n",
    "result_0 = 0\n",
    "for i in list_0:\n",
    "    if i % 2 == 0:\n",
    "        result_0 = result_0 + i\n",
    "        \n",
    "result_1 = 0\n",
    "for i in list_1:\n",
    "    if i % 2 == 0:\n",
    "        result_1 = result_1 + i\n",
    "        \n",
    "result_2 = 0\n",
    "for i in list_2:\n",
    "    if i % 2 == 0:\n",
    "        result_2 = result_2 + i\n",
    "        \n",
    "print(result_0)\n",
    "print(result_1)\n",
    "print(result_2)\n",
    "\n",
    "# 뭔가 불편"
   ]
  },
  {
   "cell_type": "code",
   "execution_count": 27,
   "metadata": {},
   "outputs": [
    {
     "name": "stdout",
     "output_type": "stream",
     "text": [
      "6\n",
      "12\n",
      "10\n"
     ]
    }
   ],
   "source": [
    "# 함수 사용\n",
    "def add_even(num_list):\n",
    "    result = 0\n",
    "    \n",
    "    for i in num_list:\n",
    "        if i % 2 == 0:\n",
    "            result = result + i\n",
    "            \n",
    "    return result\n",
    "\n",
    "result_0 = add_even(list_0)\n",
    "result_1 = add_even(list_1)\n",
    "result_2 = add_even(list_2)\n",
    "\n",
    "print(result_0)\n",
    "print(result_1)\n",
    "print(result_2)\n",
    "\n",
    "# 편안"
   ]
  },
  {
   "cell_type": "code",
   "execution_count": null,
   "metadata": {},
   "outputs": [],
   "source": [
    "함수의 종류\n",
    "- 내장함수 외장함수 사용자정의함수"
   ]
  },
  {
   "cell_type": "code",
   "execution_count": null,
   "metadata": {},
   "outputs": [],
   "source": []
  },
  {
   "cell_type": "code",
   "execution_count": null,
   "metadata": {},
   "outputs": [],
   "source": []
  },
  {
   "cell_type": "code",
   "execution_count": null,
   "metadata": {},
   "outputs": [],
   "source": []
  },
  {
   "cell_type": "code",
   "execution_count": null,
   "metadata": {},
   "outputs": [],
   "source": []
  },
  {
   "cell_type": "code",
   "execution_count": null,
   "metadata": {},
   "outputs": [],
   "source": [
    "함수 심화:\n",
    "    \n",
    "함수의 리턴의 종류\n",
    " - 리턴 없는... 등등\n",
    "    \n",
    "    \n",
    "함수의 특징 : local variable"
   ]
  },
  {
   "cell_type": "code",
   "execution_count": null,
   "metadata": {},
   "outputs": [],
   "source": [
    "a = 1\n",
    "\n",
    "def test():\n",
    "    a = 2\n",
    "\n",
    "test()\n",
    "\n",
    "a"
   ]
  }
 ],
 "metadata": {
  "kernelspec": {
   "display_name": "Python 3",
   "language": "python",
   "name": "python3"
  },
  "language_info": {
   "codemirror_mode": {
    "name": "ipython",
    "version": 3
   },
   "file_extension": ".py",
   "mimetype": "text/x-python",
   "name": "python",
   "nbconvert_exporter": "python",
   "pygments_lexer": "ipython3",
   "version": "3.8.5"
  }
 },
 "nbformat": 4,
 "nbformat_minor": 5
}
