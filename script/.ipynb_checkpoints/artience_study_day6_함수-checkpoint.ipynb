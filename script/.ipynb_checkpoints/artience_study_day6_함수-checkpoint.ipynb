{
 "cells": [
  {
   "cell_type": "code",
   "execution_count": 1,
   "metadata": {},
   "outputs": [],
   "source": [
    "# 1. 함수가 뭔지\n",
    "# 2. 함수는 왜 써? (함수 vs 일반 코드)\n",
    "# 3. 함수 디테일\n",
    "## 3-1. 인자, 내부 코드, 리턴값\n",
    "## 3-2. 로컬 변수, 글로벌 변수. 글로벌은 가능한 사용 x\n",
    "## 3-3. 예외처리\n",
    "# 4. 두 수의최소공배수와 최소공약수를 리턴하는 함수\n",
    "## 보여주기 - 코드가 깔끔해지고 특정 기능이 분리되어있어서 구조파악 및 디버깅이 용이함\n",
    "## 보여주기 - 반복 사용 예시"
   ]
  },
  {
   "cell_type": "markdown",
   "metadata": {},
   "source": [
    "#### 0. 파이썬 함수가 뭘까?"
   ]
  },
  {
   "cell_type": "code",
   "execution_count": 2,
   "metadata": {},
   "outputs": [
    {
     "ename": "SyntaxError",
     "evalue": "invalid syntax (<ipython-input-2-d858b9d9d7c5>, line 1)",
     "output_type": "error",
     "traceback": [
      "\u001b[1;36m  File \u001b[1;32m\"<ipython-input-2-d858b9d9d7c5>\"\u001b[1;36m, line \u001b[1;32m1\u001b[0m\n\u001b[1;33m    빌트인(내장) 함수\u001b[0m\n\u001b[1;37m            ^\u001b[0m\n\u001b[1;31mSyntaxError\u001b[0m\u001b[1;31m:\u001b[0m invalid syntax\n"
     ]
    }
   ],
   "source": [
    "빌트인(내장) 함수\n",
    "외장함수\n",
    "-> 변수 = 함수(인자)\n",
    "\n",
    "\n",
    "메서드 - 클래스 내부의 함수\n",
    "클래스가 뭔지는 나중에. 필요 변수 + 관련 함수들 모아놓은게 클래스라고 생각하면 댐.\n",
    "리스트.append\n",
    "스트링.split\n",
    "모두 메서드임."
   ]
  },
  {
   "cell_type": "code",
   "execution_count": 3,
   "metadata": {},
   "outputs": [],
   "source": [
    "def test():\n",
    "    \n",
    "    def add(a, b):\n",
    "        return a + b\n",
    "    \n",
    "    def sub(a, b):\n",
    "        return a - b"
   ]
  },
  {
   "cell_type": "code",
   "execution_count": 4,
   "metadata": {},
   "outputs": [
    {
     "ename": "AttributeError",
     "evalue": "'function' object has no attribute 'add'",
     "output_type": "error",
     "traceback": [
      "\u001b[1;31m---------------------------------------------------------------------------\u001b[0m",
      "\u001b[1;31mAttributeError\u001b[0m                            Traceback (most recent call last)",
      "\u001b[1;32m<ipython-input-4-46a22ebc5e19>\u001b[0m in \u001b[0;36m<module>\u001b[1;34m\u001b[0m\n\u001b[1;32m----> 1\u001b[1;33m \u001b[0mtest\u001b[0m\u001b[1;33m.\u001b[0m\u001b[0madd\u001b[0m\u001b[1;33m(\u001b[0m\u001b[0ma\u001b[0m\u001b[1;33m=\u001b[0m\u001b[1;36m1\u001b[0m\u001b[1;33m,\u001b[0m \u001b[0mb\u001b[0m\u001b[1;33m=\u001b[0m\u001b[1;36m2\u001b[0m\u001b[1;33m)\u001b[0m\u001b[1;33m\u001b[0m\u001b[1;33m\u001b[0m\u001b[0m\n\u001b[0m",
      "\u001b[1;31mAttributeError\u001b[0m: 'function' object has no attribute 'add'"
     ]
    }
   ],
   "source": [
    "test.add(a=1, b=2)"
   ]
  },
  {
   "cell_type": "code",
   "execution_count": 5,
   "metadata": {},
   "outputs": [],
   "source": [
    "# 데청캠 교육자료 반드시 참고"
   ]
  },
  {
   "cell_type": "code",
   "execution_count": 6,
   "metadata": {},
   "outputs": [
    {
     "name": "stdout",
     "output_type": "stream",
     "text": [
      "[['B02512', 'MON', 1178], ['B02512', 'MON', 1197], ['B02512', 'MON', 1193], ['B02512', 'MON', 1616]]\n"
     ]
    }
   ],
   "source": [
    "list_ = [['B02512', 'MON', '194', '984'],\n",
    "        ['B02512', 'MON', '197', '1000'],\n",
    "        ['B02512', 'MON', '168', '1025'],\n",
    "        ['B02512', 'MON', '217', '1399']]\n",
    "\n",
    "for idx in range(len(list_)):\n",
    "    result = int(list_[idx][2]) + int(list_[idx][-1])\n",
    "    \n",
    "    list_[idx] = list_[idx][:2] + [result]\n",
    "    \n",
    "    \n",
    "print(list_)"
   ]
  },
  {
   "cell_type": "code",
   "execution_count": 15,
   "metadata": {},
   "outputs": [],
   "source": [
    "import pandas as pd\n",
    "\n",
    "col = [\"idx\", \"day_of_week\", \"num_1\", \"num_2\"]\n",
    "data = [['B02512', 'THR', '190', '1132'],\n",
    "        ['B02765', 'THR', '225', '1765'],\n",
    "        ['B02764', 'THR', '3427', '29421'],\n",
    "        ['B02682', 'THR', '945', '7679'],\n",
    "        ['B02617', 'THR', '1228', '9537'],\n",
    "        ['B02598', 'THR', '870', '6903'],\n",
    "        ['B02598', 'FRI', '785', '4768'],\n",
    "        ['B02617', 'FRI', '1137', '7065'],\n",
    "        ['B02512', 'FRI', '175', '875'],\n",
    "        ['B02682', 'FRI', '890', '5506'],\n",
    "        ['B02765', 'FRI', '196', '1001'],\n",
    "        ['B02764', 'FRI', '3147', '19974'],\n",
    "        ['B02765', 'SAT', '201', '1526'],\n",
    "        ['B02617', 'SAT', '1188', '10664'],\n",
    "        ['B02598', 'SAT', '818', '7432'],\n",
    "        ['B02598', 'SAT', '818', '7432']]\n",
    "\n",
    "data = pd.DataFrame(columns=col, data=data)\n",
    "data[\"num_1\"] = data[\"num_1\"].apply(lambda x: int(x))\n",
    "data[\"num_2\"] = data[\"num_2\"].apply(lambda x: int(x))\n",
    "\n",
    "data = data.groupby(by=[\"idx\", \"day_of_week\"]).sum()"
   ]
  },
  {
   "cell_type": "code",
   "execution_count": 39,
   "metadata": {},
   "outputs": [
    {
     "name": "stdout",
     "output_type": "stream",
     "text": [
      "[[196, 1001]]\n",
      "[[1228, 9537]]\n",
      "[[1137, 7065]]\n",
      "[[3147, 19974]]\n",
      "[[201, 1526]]\n",
      "[[785, 4768]]\n",
      "[[890, 5506]]\n",
      "[[3427, 29421]]\n",
      "[[945, 7679]]\n",
      "[[1188, 10664]]\n",
      "[[175, 875]]\n",
      "[[870, 6903]]\n",
      "[[818, 7432], [818, 7432]]\n",
      "[[225, 1765]]\n",
      "[[190, 1132]]\n"
     ]
    }
   ],
   "source": [
    "data = [['B02512', 'THR', '190', '1132'],\n",
    "        ['B02765', 'THR', '225', '1765'],\n",
    "        ['B02764', 'THR', '3427', '29421'],\n",
    "        ['B02682', 'THR', '945', '7679'],\n",
    "        ['B02617', 'THR', '1228', '9537'],\n",
    "        ['B02598', 'THR', '870', '6903'],\n",
    "        ['B02598', 'FRI', '785', '4768'],\n",
    "        ['B02617', 'FRI', '1137', '7065'],\n",
    "        ['B02512', 'FRI', '175', '875'],\n",
    "        ['B02682', 'FRI', '890', '5506'],\n",
    "        ['B02765', 'FRI', '196', '1001'],\n",
    "        ['B02764', 'FRI', '3147', '19974'],\n",
    "        ['B02765', 'SAT', '201', '1526'],\n",
    "        ['B02617', 'SAT', '1188', '10664'],\n",
    "        ['B02598', 'SAT', '818', '7432'],\n",
    "        ['B02598', 'SAT', '818', '7432']]\n",
    "\n",
    "data = [i[:2] + [int(i[2]), int(i[-1])] for i in data]\n",
    "\n",
    "unique_seg = [list(i[:2]) for i in set([tuple(x) for x in data])]\n",
    "\n",
    "result = []\n",
    "for idx_i in range(len(unique_seg)):\n",
    "    temp_data = [i[2:] for i in data if i[:2]==unique_seg[idx_i]]\n",
    "    \n",
    "    temp_data = []\n",
    "    #temp_data = []\n",
    "    \n",
    "   # for idx_j in temp_data:\n",
    "        \n",
    "    \n",
    "    print(temp_data)\n"
   ]
  },
  {
   "cell_type": "code",
   "execution_count": 38,
   "metadata": {},
   "outputs": [
    {
     "data": {
      "text/plain": [
       "[['B02512', 'THR', 190, 1132],\n",
       " ['B02765', 'THR', 225, 1765],\n",
       " ['B02764', 'THR', 3427, 29421],\n",
       " ['B02682', 'THR', 945, 7679],\n",
       " ['B02617', 'THR', 1228, 9537],\n",
       " ['B02598', 'THR', 870, 6903],\n",
       " ['B02598', 'FRI', 785, 4768],\n",
       " ['B02617', 'FRI', 1137, 7065],\n",
       " ['B02512', 'FRI', 175, 875],\n",
       " ['B02682', 'FRI', 890, 5506],\n",
       " ['B02765', 'FRI', 196, 1001],\n",
       " ['B02764', 'FRI', 3147, 19974],\n",
       " ['B02765', 'SAT', 201, 1526],\n",
       " ['B02617', 'SAT', 1188, 10664],\n",
       " ['B02598', 'SAT', 818, 7432],\n",
       " ['B02598', 'SAT', 818, 7432]]"
      ]
     },
     "execution_count": 38,
     "metadata": {},
     "output_type": "execute_result"
    }
   ],
   "source": [
    "data"
   ]
  },
  {
   "cell_type": "code",
   "execution_count": null,
   "metadata": {},
   "outputs": [],
   "source": []
  }
 ],
 "metadata": {
  "kernelspec": {
   "display_name": "Python 3",
   "language": "python",
   "name": "python3"
  },
  "language_info": {
   "codemirror_mode": {
    "name": "ipython",
    "version": 3
   },
   "file_extension": ".py",
   "mimetype": "text/x-python",
   "name": "python",
   "nbconvert_exporter": "python",
   "pygments_lexer": "ipython3",
   "version": "3.8.5"
  }
 },
 "nbformat": 4,
 "nbformat_minor": 4
}
